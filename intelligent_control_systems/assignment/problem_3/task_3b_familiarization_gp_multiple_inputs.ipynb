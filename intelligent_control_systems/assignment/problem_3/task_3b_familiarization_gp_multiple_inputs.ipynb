{
 "cells": [
  {
   "cell_type": "markdown",
   "id": "ac408b5e",
   "metadata": {
    "deletable": false,
    "editable": false,
    "nbgrader": {
     "cell_type": "markdown",
     "checksum": "cc639f114a2869c4d2f09a3fb9299a08",
     "grade": false,
     "grade_id": "cell-b00828259c8e42e8",
     "locked": true,
     "schema_version": 3,
     "solution": false,
     "task": false
    }
   },
   "source": [
    "# RO47019: Intelligent Control Systems Practical Assignment\n",
    "* Period: 2024-2025, Q4\n",
    "* Course homepage: https://brightspace.tudelft.nl/d2l/home/682445\n",
    "* Instructor: Cosimo Della Santina (C.DellaSantina@tudelft.nl)\n",
    "* Teaching assistant: Niels Stienen (N.L.Stienen@student.tudelft.nl)\n",
    "* (c) TU Delft, 2025\n",
    "\n",
    "Make sure you fill in any place that says `YOUR CODE HERE` or `YOUR ANSWER HERE` and remove `raise NotImplementedError()` afterwards. Moreover, if you see an empty cell, please **do not** delete it, instead run that cell as you would run all other cells. Finally, please **do not** add any extra cells to this notebook or change the existing cells unless you are explicitly asked to do so.\n",
    "\n",
    "Please fill in your name(s) and other required details below:"
   ]
  },
  {
   "cell_type": "code",
   "execution_count": 39,
   "id": "4f9e220c",
   "metadata": {},
   "outputs": [
    {
     "name": "stdout",
     "output_type": "stream",
     "text": [
      "The history saving thread hit an unexpected error (OperationalError('attempt to write a readonly database')).History will not be written to the database.\n"
     ]
    }
   ],
   "source": [
    "# Please fill in your names, student numbers, netID, and emails below.\n",
    "STUDENT_1_NAME = \"Mart Veldkamp\"\n",
    "STUDENT_1_STUDENT_NUMBER = \"5885175\"\n",
    "STUDENT_1_NETID = \"mmveldkamp\"\n",
    "STUDENT_1_EMAIL = \"m.m.veldkamp@student.tudelft.nl\""
   ]
  },
  {
   "cell_type": "code",
   "execution_count": 40,
   "id": "8ba32571",
   "metadata": {
    "deletable": false,
    "editable": false,
    "nbgrader": {
     "cell_type": "code",
     "checksum": "042927213b84aa368aa3ea72caa4cb60",
     "grade": true,
     "grade_id": "cell-9f148ec62e0de49c",
     "locked": true,
     "points": 0,
     "schema_version": 3,
     "solution": false,
     "task": false
    }
   },
   "outputs": [],
   "source": [
    "# Note: this block is a check that you have filled in the above information.\n",
    "# It will throw an AssertionError until all fields are filled\n",
    "assert STUDENT_1_NAME != \"\"\n",
    "assert STUDENT_1_STUDENT_NUMBER != \"\"\n",
    "assert STUDENT_1_NETID != \"\"\n",
    "assert STUDENT_1_EMAIL != \"\""
   ]
  },
  {
   "cell_type": "markdown",
   "id": "af317a94",
   "metadata": {
    "deletable": false,
    "editable": false,
    "nbgrader": {
     "cell_type": "markdown",
     "checksum": "e1ac82f761cd49715da5f2adb9bea9f2",
     "grade": false,
     "grade_id": "cell-4ea391677951116c",
     "locked": true,
     "schema_version": 3,
     "solution": false,
     "task": false
    }
   },
   "source": [
    "### General announcements\n",
    "\n",
    "* Do *not* share your solutions (also after the course is finished), and do *not* copy solutions from others. By submitting your solutions, you claim that you alone are responsible for this code.\n",
    "\n",
    "* Please post your questions regarding this assignment in the correct support forum on Brightspace, this way everybody can benefit from the response. Please note that it is **not** allowed to post any code relating to solution attempts. If you do have a particular question that you want to ask directly, please use the scheduled Q&A hours to ask the TA or if not possible otherwise, send an email to the instructor or TA.\n",
    "\n",
    "* This notebook will have in various places a line that throws a `NotImplementedError` exception. These are locations where the assignment requires you to adapt the code! These lines are just there as a reminder for you that you have not yet adapted that particular piece of code, especially when you execute all the cells. Once your solution code replaced these lines, it should accordingly *not* throw any exceptions anymore.\n",
    "\n",
    "* This [Jupyter notebook](https://jupyter.org/) uses `nbgrader` to help us with automated tests. `nbgrader` will make various cells in this notebook \"uneditable\" or \"unremovable\" and gives them a special id in the cell metadata. This way, when we run our checks, the system will check the existence of the cell ids and verify the number of points and which checks must be run. While there are ways that you can edit the metadata and work around the restrictions to delete or modify these special cells, you should not do that since then our nbgrader backend will not be able to parse your notebook and give you points for the assignment. \n",
    "\n",
    "* Please note that the above mentioned _read-only_ protection only works in Jupyter Notebook, and it does not work if you open this notebook in another editor (e.g., VSCode, PyCharm, etc.). Therefore, we recommend that you only use Jupyter Notebook for this course. If you use any other editor, you may accidentally delete cells, modify the tests, etc., which would cause you to lose points.\n",
    "\n",
    "* If you edit a function that is imported in another notebook, you need to **restart the kernel** of the notebook where you are using the function. Otherwise, the changes will not be effective.\n",
    "\n",
    "* **IMPORTANT**: Please make sure that your code executes without any errors before submitting the notebook. An easy way to ensure this is to use the validation script as described in the README."
   ]
  },
  {
   "cell_type": "code",
   "execution_count": null,
   "id": "3c956945",
   "metadata": {},
   "outputs": [],
   "source": []
  },
  {
   "cell_type": "markdown",
   "id": "12af8b2f",
   "metadata": {
    "deletable": false,
    "editable": false,
    "nbgrader": {
     "cell_type": "markdown",
     "checksum": "c532ad4ef6b9e114d0ebe3908d2e44b7",
     "grade": false,
     "grade_id": "cell-09ee0d8744e5ae05",
     "locked": true,
     "schema_version": 3,
     "solution": false,
     "task": false
    }
   },
   "source": [
    "# Task 3b - Familiarization with Multi-Input Single output GPs (5p)\n",
    "**Authors:** Giovanni Franzese, Lorenzo Lyons (L.Lyons@tudelft.nl)"
   ]
  },
  {
   "cell_type": "code",
   "execution_count": 3,
   "id": "0f4ceacc",
   "metadata": {
    "deletable": false,
    "editable": false,
    "nbgrader": {
     "cell_type": "code",
     "checksum": "580d23f30196d59b4f4026cd53525f23",
     "grade": false,
     "grade_id": "cell-ba3273c841494da7",
     "locked": true,
     "schema_version": 3,
     "solution": false,
     "task": false
    }
   },
   "outputs": [],
   "source": [
    "import gpytorch\n",
    "from gpytorch.models import ApproximateGP\n",
    "from gpytorch.variational import CholeskyVariationalDistribution\n",
    "from gpytorch.variational import VariationalStrategy\n",
    "import matplotlib.pyplot as plt\n",
    "from matplotlib.widgets import Slider\n",
    "import numpy as np\n",
    "import pandas as pd\n",
    "from pathlib import Path\n",
    "import torch\n",
    "from torch.utils.data import TensorDataset, DataLoader\n",
    "from tqdm.notebook import tqdm  # progress bar\n",
    "\n",
    "# define folder where to save animations and plots\n",
    "outputs_dir = Path(\"outputs\")\n",
    "outputs_dir.mkdir(parents=True, exist_ok=True)"
   ]
  },
  {
   "cell_type": "markdown",
   "id": "549d3167",
   "metadata": {
    "deletable": false,
    "editable": false,
    "nbgrader": {
     "cell_type": "markdown",
     "checksum": "e83e0ef63ba046a0f3056ff765a0b1d1",
     "grade": false,
     "grade_id": "cell-a465b1b75d945b2b",
     "locked": true,
     "schema_version": 3,
     "solution": false,
     "task": false
    }
   },
   "source": [
    "## Task 3b.1 - Load the dataset with concrete data (0p)"
   ]
  },
  {
   "cell_type": "code",
   "execution_count": 4,
   "id": "5b58cdd3",
   "metadata": {
    "deletable": false,
    "editable": false,
    "nbgrader": {
     "cell_type": "code",
     "checksum": "3ff58139f3f2857e51d8ca4a032ea0a8",
     "grade": false,
     "grade_id": "cell-c30144953f9790f1",
     "locked": true,
     "schema_version": 3,
     "solution": false,
     "task": false
    }
   },
   "outputs": [
    {
     "data": {
      "text/html": [
       "<div>\n",
       "<style scoped>\n",
       "    .dataframe tbody tr th:only-of-type {\n",
       "        vertical-align: middle;\n",
       "    }\n",
       "\n",
       "    .dataframe tbody tr th {\n",
       "        vertical-align: top;\n",
       "    }\n",
       "\n",
       "    .dataframe thead th {\n",
       "        text-align: right;\n",
       "    }\n",
       "</style>\n",
       "<table border=\"1\" class=\"dataframe\">\n",
       "  <thead>\n",
       "    <tr style=\"text-align: right;\">\n",
       "      <th></th>\n",
       "      <th>Cement (component 1)(kg in a m^3 mixture)</th>\n",
       "      <th>Blast Furnace Slag (component 2)(kg in a m^3 mixture)</th>\n",
       "      <th>Fly Ash (component 3)(kg in a m^3 mixture)</th>\n",
       "      <th>Water  (component 4)(kg in a m^3 mixture)</th>\n",
       "      <th>Superplasticizer (component 5)(kg in a m^3 mixture)</th>\n",
       "      <th>Coarse Aggregate  (component 6)(kg in a m^3 mixture)</th>\n",
       "      <th>Fine Aggregate (component 7)(kg in a m^3 mixture)</th>\n",
       "      <th>Age (day)</th>\n",
       "      <th>Concrete compressive strength(MPa, megapascals)</th>\n",
       "    </tr>\n",
       "  </thead>\n",
       "  <tbody>\n",
       "    <tr>\n",
       "      <th>0</th>\n",
       "      <td>540.0</td>\n",
       "      <td>0.0</td>\n",
       "      <td>0.0</td>\n",
       "      <td>162.0</td>\n",
       "      <td>2.5</td>\n",
       "      <td>1040.0</td>\n",
       "      <td>676.0</td>\n",
       "      <td>28</td>\n",
       "      <td>79.99</td>\n",
       "    </tr>\n",
       "    <tr>\n",
       "      <th>1</th>\n",
       "      <td>540.0</td>\n",
       "      <td>0.0</td>\n",
       "      <td>0.0</td>\n",
       "      <td>162.0</td>\n",
       "      <td>2.5</td>\n",
       "      <td>1055.0</td>\n",
       "      <td>676.0</td>\n",
       "      <td>28</td>\n",
       "      <td>61.89</td>\n",
       "    </tr>\n",
       "    <tr>\n",
       "      <th>2</th>\n",
       "      <td>332.5</td>\n",
       "      <td>142.5</td>\n",
       "      <td>0.0</td>\n",
       "      <td>228.0</td>\n",
       "      <td>0.0</td>\n",
       "      <td>932.0</td>\n",
       "      <td>594.0</td>\n",
       "      <td>270</td>\n",
       "      <td>40.27</td>\n",
       "    </tr>\n",
       "    <tr>\n",
       "      <th>3</th>\n",
       "      <td>332.5</td>\n",
       "      <td>142.5</td>\n",
       "      <td>0.0</td>\n",
       "      <td>228.0</td>\n",
       "      <td>0.0</td>\n",
       "      <td>932.0</td>\n",
       "      <td>594.0</td>\n",
       "      <td>365</td>\n",
       "      <td>41.05</td>\n",
       "    </tr>\n",
       "    <tr>\n",
       "      <th>4</th>\n",
       "      <td>198.6</td>\n",
       "      <td>132.4</td>\n",
       "      <td>0.0</td>\n",
       "      <td>192.0</td>\n",
       "      <td>0.0</td>\n",
       "      <td>978.4</td>\n",
       "      <td>825.5</td>\n",
       "      <td>360</td>\n",
       "      <td>44.30</td>\n",
       "    </tr>\n",
       "  </tbody>\n",
       "</table>\n",
       "</div>"
      ],
      "text/plain": [
       "   Cement (component 1)(kg in a m^3 mixture)  \\\n",
       "0                                      540.0   \n",
       "1                                      540.0   \n",
       "2                                      332.5   \n",
       "3                                      332.5   \n",
       "4                                      198.6   \n",
       "\n",
       "   Blast Furnace Slag (component 2)(kg in a m^3 mixture)  \\\n",
       "0                                                0.0       \n",
       "1                                                0.0       \n",
       "2                                              142.5       \n",
       "3                                              142.5       \n",
       "4                                              132.4       \n",
       "\n",
       "   Fly Ash (component 3)(kg in a m^3 mixture)  \\\n",
       "0                                         0.0   \n",
       "1                                         0.0   \n",
       "2                                         0.0   \n",
       "3                                         0.0   \n",
       "4                                         0.0   \n",
       "\n",
       "   Water  (component 4)(kg in a m^3 mixture)  \\\n",
       "0                                      162.0   \n",
       "1                                      162.0   \n",
       "2                                      228.0   \n",
       "3                                      228.0   \n",
       "4                                      192.0   \n",
       "\n",
       "   Superplasticizer (component 5)(kg in a m^3 mixture)  \\\n",
       "0                                                2.5     \n",
       "1                                                2.5     \n",
       "2                                                0.0     \n",
       "3                                                0.0     \n",
       "4                                                0.0     \n",
       "\n",
       "   Coarse Aggregate  (component 6)(kg in a m^3 mixture)  \\\n",
       "0                                             1040.0      \n",
       "1                                             1055.0      \n",
       "2                                              932.0      \n",
       "3                                              932.0      \n",
       "4                                              978.4      \n",
       "\n",
       "   Fine Aggregate (component 7)(kg in a m^3 mixture)  Age (day)  \\\n",
       "0                                              676.0         28   \n",
       "1                                              676.0         28   \n",
       "2                                              594.0        270   \n",
       "3                                              594.0        365   \n",
       "4                                              825.5        360   \n",
       "\n",
       "   Concrete compressive strength(MPa, megapascals)   \n",
       "0                                             79.99  \n",
       "1                                             61.89  \n",
       "2                                             40.27  \n",
       "3                                             41.05  \n",
       "4                                             44.30  "
      ]
     },
     "execution_count": 4,
     "metadata": {},
     "output_type": "execute_result"
    }
   ],
   "source": [
    "data = pd.read_csv(Path(\"datasets\") / \"Concrete_Data.csv\")\n",
    "data.head()"
   ]
  },
  {
   "cell_type": "markdown",
   "id": "dc529d6e",
   "metadata": {
    "deletable": false,
    "editable": false,
    "nbgrader": {
     "cell_type": "markdown",
     "checksum": "06c5e2b7505739407c82ae714b414efa",
     "grade": false,
     "grade_id": "cell-de085ea88ff5f270",
     "locked": true,
     "schema_version": 3,
     "solution": false,
     "task": false
    }
   },
   "source": [
    "In this task, we will use the dataset with concrete data. The dataset is available in the file `concrete_data.csv`. The dataset contains 8 input variables and 1 output variable. The input variables are Cement, Blast Furnace Slag, Fly Ash, Water, Superplasticizer, Coarse Aggregate, Fine Aggregate, and Age. The output variable is the compressive strength of the concrete. \n",
    "We want to use a Gaussian Process to model the compressive strength of the concrete as a function of the other variables. Such a model can be useful in designing concrete mixtures or predicting the strength given the mixture properties. \n",
    "Let's divide the dataset into the training (80 %) and test (20 %) sets. We also initialize the 300 inducing points as randomly selected from the training set."
   ]
  },
  {
   "cell_type": "code",
   "execution_count": 5,
   "id": "aea63a25",
   "metadata": {
    "deletable": false,
    "editable": false,
    "nbgrader": {
     "cell_type": "code",
     "checksum": "a3920ba44548f7130d30a6376320fdda",
     "grade": false,
     "grade_id": "cell-e6817cbb93d174b4",
     "locked": true,
     "schema_version": 3,
     "solution": false,
     "task": false
    }
   },
   "outputs": [],
   "source": [
    "# Extract X and Y from the dataframe and convert to numpy arrays\n",
    "data_numpy = data.to_numpy()\n",
    "X = data_numpy[:, :-1]\n",
    "Y = data_numpy[:, -1]\n",
    "\n",
    "# Assuming X and Y are your features and labels, respectively\n",
    "# Let's say you have 80% of the data for training and 20% for testing\n",
    "\n",
    "# Set a random seed for reproducibility\n",
    "np.random.seed(42)\n",
    "\n",
    "# Get the number of samples in your dataset\n",
    "num_samples = len(X)\n",
    "\n",
    "# Define the percentage split\n",
    "train_percentage = 0.8\n",
    "\n",
    "# Calculate the number of samples for training\n",
    "num_train_samples = int(train_percentage * num_samples)\n",
    "\n",
    "# Generate random indices for the training set\n",
    "train_indices = np.random.choice(num_samples, num_train_samples, replace=False)\n",
    "\n",
    "# Use the remaining indices for the test set\n",
    "test_indices = np.setdiff1d(np.arange(num_samples), train_indices)\n",
    "\n",
    "# Split the data based on the generated indices\n",
    "train_x, train_y = X[train_indices], Y[train_indices]\n",
    "test_x, test_y = X[test_indices], Y[test_indices]\n",
    "\n",
    "# create the training dataloader\n",
    "train_x_torch = torch.from_numpy(train_x).double()\n",
    "train_y_torch = torch.from_numpy(train_y).double()\n",
    "train_dataset = TensorDataset(train_x_torch, train_y_torch)\n",
    "train_loader = DataLoader(train_dataset, batch_size=256, shuffle=True)\n",
    "\n",
    "# pick inducing points randomly from the training data\n",
    "num_inducing_points = 300\n",
    "inducing_points_index = np.random.choice(\n",
    "    num_train_samples, num_inducing_points, replace=False\n",
    ")\n",
    "inducing_points = torch.from_numpy(train_x[inducing_points_index, :]).double()"
   ]
  },
  {
   "cell_type": "markdown",
   "id": "11fdb410",
   "metadata": {
    "deletable": false,
    "editable": false,
    "nbgrader": {
     "cell_type": "markdown",
     "checksum": "fe9f2ec162952480bf5e187e493417ba",
     "grade": false,
     "grade_id": "cell-35010650535c774e",
     "locked": true,
     "schema_version": 3,
     "solution": false,
     "task": false
    }
   },
   "source": [
    "## Task 3b.2 - Construct a Sparse Gaussian Process with Multiple-Input Single Output (0.5p)\n",
    "Choose the Zero mean or the constant mean according to the if/else statement of the class. Choose the kernel to be an RBF kernel with ARD (0.5p). In GPytorch, the ARD is implemented by setting the `ard_num_dims` parameter of the kernel to the number of input features."
   ]
  },
  {
   "cell_type": "code",
   "execution_count": 30,
   "id": "dd4c36d4",
   "metadata": {
    "deletable": false,
    "nbgrader": {
     "cell_type": "code",
     "checksum": "d06bca671c5fb28b5452b59952d11d74",
     "grade": true,
     "grade_id": "cell-7665366ef6109e2e",
     "locked": false,
     "points": 0.5,
     "schema_version": 3,
     "solution": true,
     "task": false
    }
   },
   "outputs": [],
   "source": [
    "class SVGPModel(ApproximateGP):\n",
    "    def __init__(self, inducing_points, constant_mean=False):\n",
    "        variational_distribution = CholeskyVariationalDistribution(\n",
    "            inducing_points.size(0)\n",
    "        )\n",
    "        variational_strategy = VariationalStrategy(\n",
    "            self,\n",
    "            inducing_points,\n",
    "            variational_distribution,\n",
    "            learn_inducing_locations=True,\n",
    "        )\n",
    "        super(SVGPModel, self).__init__(variational_strategy)\n",
    "        if constant_mean:\n",
    "            # self.mean_module =\n",
    "            # YOUR CODE HERE\n",
    "            self.mean_module = gpytorch.means.ConstantMean()\n",
    "        else:  # Zero mean\n",
    "            # self.mean_module =\n",
    "            # YOUR CODE HERE\n",
    "            self.mean_module = gpytorch.means.ZeroMean()\n",
    "\n",
    "        # Use a RBF kernel with automatic relevance determination (ARD)\n",
    "        # YOUR CODE HERE\n",
    "        self.covar_module = gpytorch.kernels.ScaleKernel(gpytorch.kernels.RBFKernel())\n",
    "\n",
    "    def forward(self, x):\n",
    "        mean_x = self.mean_module(x)\n",
    "        covar_x = self.covar_module(x)\n",
    "        return gpytorch.distributions.MultivariateNormal(mean_x, covar_x)"
   ]
  },
  {
   "cell_type": "markdown",
   "id": "eb140063",
   "metadata": {
    "deletable": false,
    "editable": false,
    "nbgrader": {
     "cell_type": "markdown",
     "checksum": "781d0feb35104574353616828c2cbf53",
     "grade": false,
     "grade_id": "cell-fb812c2182ac28c5",
     "locked": true,
     "schema_version": 3,
     "solution": false,
     "task": false
    }
   },
   "source": [
    "## Task 3b.3 - Design a function for training the variational parameters (0.5p)\n",
    "Correctly define the marginal log-likelihood, considering our model is an approximate SVGP."
   ]
  },
  {
   "cell_type": "code",
   "execution_count": 31,
   "id": "ceca296f",
   "metadata": {
    "deletable": false,
    "nbgrader": {
     "cell_type": "code",
     "checksum": "c81553f91a33975edd902da0b6b55ecd",
     "grade": true,
     "grade_id": "cell-10b461dbe4e562bc",
     "locked": false,
     "points": 0.5,
     "schema_version": 3,
     "solution": true,
     "task": false
    }
   },
   "outputs": [],
   "source": [
    "def train_variational_parameters(likelihood, model, num_epochs: int = 2000):\n",
    "    optimizer = torch.optim.Adam(\n",
    "        [\n",
    "            {\"params\": model.parameters()},\n",
    "            {\"params\": likelihood.parameters()},\n",
    "        ],\n",
    "        lr=0.01,\n",
    "    )\n",
    "\n",
    "    # Our loss object. We're using the VariationalELBO\n",
    "    # mll =\n",
    "    # YOUR CODE HERE\n",
    "    mll = gpytorch.mlls.VariationalELBO(likelihood, model, num_data=train_y_torch.size(0))\n",
    "\n",
    "    model.train()\n",
    "    likelihood.train()\n",
    "    for i in tqdm(range(num_epochs)):\n",
    "        # Within each iteration, we will go over each minibatch of data\n",
    "        for x_batch, y_batch in train_loader:\n",
    "            optimizer.zero_grad()\n",
    "            output = model(x_batch)\n",
    "            loss = -mll(output, y_batch)\n",
    "            loss.backward()\n",
    "            optimizer.step()"
   ]
  },
  {
   "cell_type": "markdown",
   "id": "bb6b1ddf",
   "metadata": {
    "deletable": false,
    "editable": false,
    "nbgrader": {
     "cell_type": "markdown",
     "checksum": "18add06b55c8efd7bb6d7c9a7c63b533",
     "grade": false,
     "grade_id": "cell-f615d3eafce743e1",
     "locked": true,
     "schema_version": 3,
     "solution": false,
     "task": false
    }
   },
   "source": [
    "## Task 3b.4 - Define a function for evaluating the model and computing metrics (1.5p)\n",
    "When we predict the strength of a material, the absolute error is not the only metric we are interested in. We are going also to compute the accuracy of the model. We consider the prediction correct if the absolute error is less than two times the standard deviation, considering that the GP is a probabilistic model. Moreover, we are interested in quantifying the percentage of dangerous predictions. We consider a prediction dangerous if the model's lower confidence bound, i.e., the prediction minus two standard deviations, is higher than the actual value. This means that if the engineers use the lower confidence bound as a safety value for the strength of the material, they are still overestimating the strength, which may lead to undesired failures.\n",
    "\n",
    "\n",
    "Compute the following metrics.\n",
    "- Mean Absolute Error (MAE) on the train set\n",
    "- Mean Absolute Error (MAE) on the test set\n",
    "- Accuracy of the model on the train set (consider the prediction as correct if the absolute error is less than two times the standard deviation)\n",
    "- Accuracy of the model on the test set (consider the prediction as correct if the absolute error is less than two times the standard deviation)\n",
    "- Quantify the percentage of dangerous prediction, i.e., the prediction minus two standard deviations is higher than the actual value on the train set. \n",
    "- Quantify the percentage of dangerous prediction, i.e., the prediction minus two standard deviations is higher than the actual value, on the test set\n"
   ]
  },
  {
   "cell_type": "code",
   "execution_count": 32,
   "id": "43b25be6",
   "metadata": {
    "deletable": false,
    "nbgrader": {
     "cell_type": "code",
     "checksum": "a2d47e266d658db7902ff7e698ffd867",
     "grade": true,
     "grade_id": "cell-d857b199bf25d735",
     "locked": false,
     "points": 1.5,
     "schema_version": 3,
     "solution": true,
     "task": false
    }
   },
   "outputs": [],
   "source": [
    "def evaluate_model(likelihood, model):\n",
    "    # Get into evaluation (predictive posterior) mode\n",
    "    model.eval()\n",
    "    likelihood.eval()\n",
    "\n",
    "    # Evaluate the model on the test data\n",
    "    with torch.no_grad(), gpytorch.settings.fast_pred_var():\n",
    "        test_x_torch = torch.from_numpy(test_x).double()\n",
    "        test_y_torch = torch.from_numpy(test_y).double()\n",
    "\n",
    "        train_pred = likelihood(model(train_x_torch))\n",
    "        test_pred = likelihood(model(test_x_torch))\n",
    "\n",
    "        # YOUR CODE HERE\n",
    "        # Extract means and stds\n",
    "        train_mean = train_pred.mean\n",
    "        train_std = train_pred.stddev\n",
    "        test_mean = test_pred.mean\n",
    "        test_std = test_pred.stddev\n",
    "\n",
    "        # 1. MAE\n",
    "        mae_train = torch.mean(torch.abs(train_mean - train_y_torch)).item()\n",
    "        mae_test = torch.mean(torch.abs(test_mean - test_y_torch)).item()\n",
    "\n",
    "        # 2. Accuracy = abs(error) < 2 * std\n",
    "        accuracy_train = (\n",
    "            (torch.abs(train_mean - train_y_torch) < 2 * train_std).float().mean().item()\n",
    "        )\n",
    "        accuracy_test = (\n",
    "            (torch.abs(test_mean - test_y_torch) < 2 * test_std).float().mean().item()\n",
    "        )\n",
    "\n",
    "        # 3. Dangerous prediction = lower bound > true value\n",
    "        lower_train = train_mean - 2 * train_std\n",
    "        lower_test = test_mean - 2 * test_std\n",
    "\n",
    "        dangerous_prediction_train = (\n",
    "            (lower_train > train_y_torch).float().mean().item()\n",
    "        )\n",
    "        dangerous_prediction_test = (\n",
    "            (lower_test > test_y_torch).float().mean().item()\n",
    "        )\n",
    "\n",
    "        print(f\"MAE on train set: {mae_train}\")\n",
    "        print(f\"MAE on test set: {mae_test}\")\n",
    "        print(f\"Accuracy on train set: {accuracy_train}\")\n",
    "        print(f\"Accuracy on test set: {accuracy_test}\")\n",
    "        print(\n",
    "            f\"Dangerous percentage prediction on train set: {dangerous_prediction_train}\"\n",
    "        )\n",
    "        print(\n",
    "            f\"Dangerous percentage prediction on test set {dangerous_prediction_test}\"\n",
    "        )\n",
    "\n",
    "        return train_pred, test_pred"
   ]
  },
  {
   "cell_type": "markdown",
   "id": "c577f03f",
   "metadata": {
    "deletable": false,
    "editable": false,
    "nbgrader": {
     "cell_type": "markdown",
     "checksum": "a052ac63db706556ad78e74175f1f11c",
     "grade": false,
     "grade_id": "cell-b78bf3bbaee489d2",
     "locked": true,
     "schema_version": 3,
     "solution": false,
     "task": false
    }
   },
   "source": [
    "## Task 3b.5 - Train and evaluate the `SVGPModel` with a constant mean (1.5)\n",
    "### Task 3b.5.1 - Initialize a constant mean model and the Gaussian Likelihood (0.5p)"
   ]
  },
  {
   "cell_type": "code",
   "execution_count": 33,
   "id": "e2f6d0aa",
   "metadata": {
    "deletable": false,
    "nbgrader": {
     "cell_type": "code",
     "checksum": "6329f21e03fadc9c0f387969c5eaa6dd",
     "grade": true,
     "grade_id": "cell-ce838438be8fda36",
     "locked": false,
     "points": 0.5,
     "schema_version": 3,
     "solution": true,
     "task": false
    }
   },
   "outputs": [
    {
     "data": {
      "application/vnd.jupyter.widget-view+json": {
       "model_id": "3c6561f79d464fad8b0bdbd13faeab38",
       "version_major": 2,
       "version_minor": 0
      },
      "text/plain": [
       "  0%|          | 0/2000 [00:00<?, ?it/s]"
      ]
     },
     "metadata": {},
     "output_type": "display_data"
    }
   ],
   "source": [
    "# Set a random seed for reproducibility\n",
    "np.random.seed(43)\n",
    "\n",
    "# initialize the model\n",
    "# model_constant_mean =\n",
    "# likelihood_constant_mean =\n",
    "# YOUR CODE HERE\n",
    "model_constant_mean = SVGPModel(inducing_points)\n",
    "likelihood_constant_mean = gpytorch.likelihoods.GaussianLikelihood()\n",
    "\n",
    "model_constant_mean = model_constant_mean.double()\n",
    "likelihood_constant_mean = likelihood_constant_mean.double()\n",
    "\n",
    "# train the variational parameters\n",
    "train_variational_parameters(likelihood_constant_mean, model_constant_mean)"
   ]
  },
  {
   "cell_type": "markdown",
   "id": "c38a1342",
   "metadata": {
    "deletable": false,
    "editable": false,
    "nbgrader": {
     "cell_type": "markdown",
     "checksum": "554e780e22b08ee42ed16845103d6c84",
     "grade": false,
     "grade_id": "cell-cb961022f25dc296",
     "locked": true,
     "schema_version": 3,
     "solution": false,
     "task": false
    }
   },
   "source": [
    "### Task 3b.5.2 - Evaluate the model and print metrics (0.5p)"
   ]
  },
  {
   "cell_type": "code",
   "execution_count": 34,
   "id": "fdccf2a2",
   "metadata": {
    "deletable": false,
    "nbgrader": {
     "cell_type": "code",
     "checksum": "2e9fa364bedf41eb15b2c711ff72a6ec",
     "grade": true,
     "grade_id": "cell-6928ae580ad74ab9",
     "locked": false,
     "points": 0.5,
     "schema_version": 3,
     "solution": true,
     "task": false
    }
   },
   "outputs": [
    {
     "name": "stdout",
     "output_type": "stream",
     "text": [
      "MAE on train set: 3.3885288529227657\n",
      "MAE on test set: 6.268052803968135\n",
      "Accuracy on train set: 0.9065533876419067\n",
      "Accuracy on test set: 0.791262149810791\n",
      "Dangerous percentage prediction on train set: 0.031553398817777634\n",
      "Dangerous percentage prediction on test set 0.058252427726984024\n"
     ]
    }
   ],
   "source": [
    "# Call the function to evaluate the model\n",
    "# train_pred_constant_mean, test_pred_constant_mean =\n",
    "# YOUR CODE HERE\n",
    "train_pred_constant_mean, test_pred_constant_mean = evaluate_model(likelihood_constant_mean, model_constant_mean)"
   ]
  },
  {
   "cell_type": "markdown",
   "id": "7d7aa183",
   "metadata": {
    "deletable": false,
    "editable": false,
    "nbgrader": {
     "cell_type": "markdown",
     "checksum": "67cfa98fc6dc441fa0668744768b1dda",
     "grade": false,
     "grade_id": "cell-c7e9855aaa27f18b",
     "locked": true,
     "schema_version": 3,
     "solution": false,
     "task": false
    }
   },
   "source": [
    "### Task 3b.5.3 - Print the horizontal and the vertical length scales, and the constant mean value (0.5p)"
   ]
  },
  {
   "cell_type": "code",
   "execution_count": 35,
   "id": "6c6ba027",
   "metadata": {
    "deletable": false,
    "nbgrader": {
     "cell_type": "code",
     "checksum": "da023fd95f3f0bbeb169723d34e5acc6",
     "grade": true,
     "grade_id": "cell-b3f9a306950753b9",
     "locked": false,
     "points": 0.5,
     "schema_version": 3,
     "solution": true,
     "task": false
    }
   },
   "outputs": [
    {
     "name": "stdout",
     "output_type": "stream",
     "text": [
      "Horizontal Lenghtscale of the kernel: \n",
      "tensor([[58.6342]], dtype=torch.float64, grad_fn=<SoftplusBackward0>)\n",
      "Vertical Lengthscale of the kernel: \n",
      "tensor(38.0853, dtype=torch.float64, grad_fn=<SoftplusBackward0>)\n",
      "Constant mean value: \n",
      "ZeroMean (no constant)\n"
     ]
    }
   ],
   "source": [
    "print(\"Horizontal Lenghtscale of the kernel: \")\n",
    "# YOUR CODE HERE\n",
    "print(model_constant_mean.covar_module.base_kernel.lengthscale)\n",
    "\n",
    "print(\"Vertical Lengthscale of the kernel: \")\n",
    "# YOUR CODE HERE\n",
    "print(model_constant_mean.covar_module.outputscale)\n",
    "\n",
    "print(\"Constant mean value: \")\n",
    "# YOUR CODE HERE\n",
    "if isinstance(model_constant_mean.mean_module, gpytorch.means.ConstantMean):\n",
    "    print(model_constant_mean.mean_module.constant.item())\n",
    "else:\n",
    "    print(\"ZeroMean (no constant)\")"
   ]
  },
  {
   "cell_type": "markdown",
   "id": "8ab8384b",
   "metadata": {
    "deletable": false,
    "editable": false,
    "nbgrader": {
     "cell_type": "markdown",
     "checksum": "d5d7143b46d52e07193e554c30a5061b",
     "grade": false,
     "grade_id": "cell-e1d1af24aca2a8ae",
     "locked": true,
     "schema_version": 3,
     "solution": false,
     "task": false
    }
   },
   "source": [
    "### Task 3b.5.4 - Plot the predictions on the test set (0p)"
   ]
  },
  {
   "cell_type": "code",
   "execution_count": 36,
   "id": "fbcbec7b",
   "metadata": {
    "deletable": false,
    "editable": false,
    "nbgrader": {
     "cell_type": "code",
     "checksum": "cbece40d4a73d35911e2fa43f8e380e4",
     "grade": false,
     "grade_id": "cell-3da8dc9038b9d08e",
     "locked": true,
     "schema_version": 3,
     "solution": false,
     "task": false
    }
   },
   "outputs": [
    {
     "data": {
      "application/vnd.jupyter.widget-view+json": {
       "model_id": "cf47c4baba464e01ba5fad441033196a",
       "version_major": 2,
       "version_minor": 0
      },
      "image/png": "[encoded data removed]",
      "text/html": [
       "\n",
       "            <div style=\"display: inline-block;\">\n",
       "                <div class=\"jupyter-widgets widget-label\" style=\"text-align: center;\">\n",
       "                    Figure\n",
       "                </div>\n",
       "                <img src='data:image/png;base64,iVBORw0KGgoAAAANSUhEUgAAAoAAAAHgCAYAAAA10dzkAAAAOnRFWHRTb2Z0d2FyZQBNYXRwbG90bGliIHZlcnNpb24zLjEwLjAsIGh0dHBzOi8vbWF0cGxvdGxpYi5vcmcvlHJYcgAAAAlwSFlzAAAPYQAAD2EBqD+naQAAwUJJREFUeJzsnXl8E+Xav6+ZNElLN2jZWkSo4hHZEURWV7CKgBxQ3BX0fVUEOehxRQVB2Vzrgug5x1fFnxxxQRZREBTBioCKKFBxQUCgLAqlBUq3zPz+SCbNJDPJJE3btH2uzwdrZiYzT5JZ7udevrekqqqKQCAQCAQCgaDBINf2AAQCgUAgEAgENYswAAUCgUAgEAgaGMIAFAgEAoFAIGhgCANQIBAIBAKBoIEhDECBQCAQCASCBoYwAAUCgUAgEAgaGMIAFAgEAoFAIGhgCANQIBAIBAKBoIEhDECBQCAQCASCBoYwAAUCgUAgEAgaGMIAFAgEAoFAIGhgCANQIBAIBAKBoIEhDECBQCAQCASCBoYwAAUCgUAgEAgaGMIAFAgEAoFAIGhgCANQIBAIBAKBoIEhDECBQCAQCASCBoYwAAUCgUAgEAgaGMIAFAgEAoFAIGhgCANQIBAIBAKBoIEhDECBQCAQCASCBoYwAAUCgUAgEAgaGMIAFAgEAoFAIGhgCANQIBAIBAKBoIEhDECBQCAQCASCBoYwAAUCgUAgEAgaGMIAFAgEAoFAIGhgCANQIBAIBAKBoIEhDECBQCAQCASCBoYwAAUCgUAgEAgaGMIAFAgEAoFAIGhgCANQIBAIBAKBoIEhDECBQCAQCASCBoYwAAUCgUAgEAgaGMIAFAgEVaZt27aMHj3a+/qLL75AkiS++OKLqB1DkiQee+yxqO1PIBAIGjLCABQI6jhvvPEGkiR5/8XHx/O3v/2N8ePHc/DgwdoeXlh8/PHHDdbImz9/Pjk5OdV6jPz8fB577DE2b95crccxYt26dTz22GMcPXq0xo8tEAgCEQagQFBPmDZtGm+99RYvvfQSffv2Ze7cufTp04fi4uIaH8t5553HyZMnOe+888J638cff8zUqVMN1508eZJHHnkkGsOLSWrKAJw6dWqtGYBTp04VBqBAECPE1fYABAJBdLjsssvo2bMnAP/zP/9Deno6zz77LIsXL+baa681fM+JEydITEyM+lhkWSY+Pj6q+4z2/gQCgaAhIzyAAkE95aKLLgJg586dAIwePZqkpCR27NjB4MGDSU5O5vrrrwdAURRycnLo2LEj8fHxtGjRgttvv52CggLdPlVV5YknnuCUU06hUaNGXHjhhWzbti3g2GY5gBs2bGDw4ME0adKExMREunTpwvPPP+8d35w5cwB0IW0NoxzA77//nssuu4yUlBSSkpK4+OKLWb9+vW4bLUT+1Vdfcc8999CsWTMSExP5+9//zp9//mnpu/z8888ZMGAAiYmJNG7cmCuuuIKffvpJt81jjz2GJEn89ttvjB49msaNG5OamsqYMWNCemEvuOACli1bxu7du72fu23btt71paWlTJkyhXbt2uF0OmndujX3338/paWluv2sXLmS/v3707hxY5KSkjjzzDOZNGkS4P5NzjnnHADGjBnjPc4bb7xhOq5jx44xceJE2rZti9PppHnz5gwaNIhNmzbpttuwYQOXXnopqampNGrUiPPPP5+vvvpK993cd999AGRlZXmPvWvXrqDfi0AgqD6EB1AgqKfs2LEDgPT0dO+yiooKsrOz6d+/P08//TSNGjUC4Pbbb+eNN95gzJgxTJgwgZ07d/LSSy/x/fff89VXX2G32wGYPHkyTzzxBIMHD2bw4MFs2rSJSy65hLKyspDjWblyJUOGDCEjI4N//OMftGzZkp9++omPPvqIf/zjH9x+++3k5+ezcuVK3nrrrZD727ZtGwMGDCAlJYX7778fu93Oq6++ygUXXMCaNWs499xzddvfddddNGnShClTprBr1y5ycnIYP348CxYsCHqcVatWcdlll3Haaafx2GOPcfLkSV588UX69evHpk2bdIYawKhRo8jKymLmzJls2rSJ//znPzRv3pzZs2ebHuPhhx+msLCQvXv38txzzwGQlJQEuI3zYcOGkZuby2233cZZZ53Fli1beO655/jll19YtGiR9/sYMmQIXbp0Ydq0aTidTn777TevIXbWWWcxbdo0Jk+ezG233caAAQMA6Nu3r+m47rjjDt5//33Gjx9Phw4dOHz4MLm5ufz000+cffbZgNs4vuyyy+jRowdTpkxBlmVef/11LrroIr788kt69erFiBEj+OWXX/jvf//Lc889R9OmTQFo1qxZ0O9eIBBUI6pAIKjTvP766yqgrlq1Sv3zzz/VPXv2qO+8846anp6uJiQkqHv37lVVVVVvvvlmFVAffPBB3fu//PJLFVDffvtt3fLly5frlh86dEh1OBzq5ZdfriqK4t1u0qRJKqDefPPN3mWrV69WAXX16tWqqqpqRUWFmpWVpbZp00YtKCjQHcd3X+PGjVPNbkuAOmXKFO/r4cOHqw6HQ92xY4d3WX5+vpqcnKyed955Ad/PwIEDdce6++67VZvNph49etTweBrdunVTmzdvrh4+fNi77IcfflBlWVZvuukm77IpU6aogHrLLbfo3v/3v/9dTU9PD3oMVVXVyy+/XG3Tpk3A8rfeekuVZVn98ssvdctfeeUVFVC/+uorVVVV9bnnnlMB9c8//zQ9xjfffKMC6uuvvx5yPKqqqqmpqeq4ceNM1yuKop5xxhlqdna27rstLi5Ws7Ky1EGDBnmXPfXUUyqg7ty509KxBQJB9SJCwAJBPWHgwIE0a9aM1q1bc80115CUlMSHH35Iq1atdNuNHTtW9/q9994jNTWVQYMG8ddff3n/9ejRg6SkJFavXg24PWFlZWXcddddutDsxIkTQ47t+++/Z+fOnUycOJHGjRvr1vnuyyoul4tPP/2U4cOHc9ppp3mXZ2RkcN1115Gbm0tRUZHuPbfddpvuWAMGDMDlcrF7927T4+zfv5/NmzczevRo0tLSvMu7dOnCoEGD+PjjjwPec8cdd+heDxgwgMOHDweMxyrvvfceZ511Fu3bt9f9PlqIX/t9tO918eLFKIoS0bH8ady4MRs2bCA/P99w/ebNm/n111+57rrrOHz4sHdsJ06c4OKLL2bt2rVRG4tAIIguIgQsENQT5syZw9/+9jfi4uJo0aIFZ555JrKsn+PFxcVxyimn6Jb9+uuvFBYW0rx5c8P9Hjp0CMBrKJ1xxhm69c2aNaNJkyZBx6aFozt16mT9AwXhzz//pLi4mDPPPDNg3VlnnYWiKOzZs4eOHTt6l5966qm67bQx++c5+qJ9ZrPjrFixIqCQJthxUlJSQn20AH799Vd++ukn03Cp9vtcffXV/Oc//+F//ud/ePDBB7n44osZMWIEV155ZcB5YJUnn3ySm2++mdatW9OjRw8GDx7MTTfd5DW6f/31VwBuvvlm030UFhaGPD8EAkHNIwxAgaCe0KtXL28VsBlOpzPAGFAUhebNm/P2228bvqe+5GnZbDbD5aqqxvRxFEWhc+fOPPvss4brW7duDUBCQgJr165l9erVLFu2jOXLl7NgwQIuuugiPv30U9NxBWPUqFEMGDCADz/8kE8//ZSnnnqK2bNns3DhQi677DKvd++pp56iW7duhvvQchkFAkFsIQxAgaCBc/rpp7Nq1Sr69etHQkKC6XZt2rQB3F4f37Drn3/+GdSLph0DYOvWrQwcONB0O6vh4GbNmtGoUSN+/vnngHXbt29HlmWvYVQVtM9sdpymTZtGTUbH7LOffvrp/PDDD1x88cUhvx9Zlrn44ou5+OKLefbZZ5kxYwYPP/wwq1evZuDAgRGF2zMyMrjzzju58847OXToEGeffTbTp0/nsssu8/6uKSkpQX/XYJ9PIBDUDiIHUCBo4IwaNQqXy8Xjjz8esK6iosIr3Dtw4EDsdjsvvviizptlRbz47LPPJisri5ycnAAhYN99acZUKLFgm83GJZdcwuLFi3VSIgcPHmT+/Pn0798/onCrPxkZGXTr1o0333xTN6atW7fy6aefMnjw4CofQyMxMZHCwsKA5aNGjWLfvn38+9//Dlh38uRJTpw4AcCRI0cC1mteOU0uxur3C+48S//xNG/enMzMTO/+evTowemnn87TTz/N8ePHA/bhK7MTzrEFAkH1IzyAAkED5/zzz+f2229n5syZbN68mUsuuQS73c6vv/7Ke++9x/PPP8+VV15Js2bNuPfee5k5cyZDhgxh8ODBfP/993zyySdeWQ8zZFlm7ty5DB06lG7dujFmzBgyMjLYvn0727ZtY8WKFYDboACYMGEC2dnZ2Gw2rrnmGsN9PvHEE17duzvvvJO4uDheffVVSktLefLJJ6P2/Tz11FNcdtll9OnTh1tvvdUrA5OamhrVtnU9evRgwYIF3HPPPZxzzjkkJSUxdOhQbrzxRt59913uuOMOVq9eTb9+/XC5XGzfvp13332XFStW0LNnT6ZNm8batWu5/PLLadOmDYcOHeLll1/mlFNOoX///oDbm9i4cWNeeeUVkpOTSUxM5NxzzyUrKytgPMeOHeOUU07hyiuvpGvXriQlJbFq1Sq++eYbnnnmGcD9u/7nP//hsssuo2PHjowZM4ZWrVqxb98+Vq9eTUpKCkuXLvV+PnBL3lxzzTXY7XaGDh1aLULkAoHAArVbhCwQCKqKJnPyzTffBN3u5ptvVhMTE03X/+tf/1J79OihJiQkqMnJyWrnzp3V+++/X83Pz/du43K51KlTp6oZGRlqQkKCesEFF6hbt25V27RpE1QGRiM3N1cdNGiQmpycrCYmJqpdunRRX3zxRe/6iooK9a677lKbNWumSpKkk4TBTwZGVVV106ZNanZ2tpqUlKQ2atRIvfDCC9V169ZZ+n7MxmjEqlWr1H79+qkJCQlqSkqKOnToUDUvL0+3jSYD4y/Doh0/lPzJ8ePH1euuu05t3LixCugkYcrKytTZs2erHTt2VJ1Op9qkSRO1R48e6tSpU9XCwkJVVVX1s88+U6+44go1MzNTdTgcamZmpnrttdeqv/zyi+44ixcvVjt06KDGxcUFlYQpLS1V77vvPrVr167e36tr167qyy+/HLDt999/r44YMUJNT09XnU6n2qZNG3XUqFHqZ599ptvu8ccfV1u1aqXKsiwkYQSCWkZS1ShnQAsEAoFAIBAIYhqRAygQCAQCgUDQwBAGoEAgEAgEAkEDQxiAAoFAIBAIBA0MYQAKBAKBQCAQNDCEASgQCAQCgUDQwBAGoEAgEAgEAkEDQxiAAoFAIBAIBA0M0QmkCiiKQn5+PsnJyaLPpUAgEAgEdQRVVTl27BiZmZnIcsP0hQkDsArk5+dHpeG8QCAQCASCmmfPnj2ccsoptT2MWkEYgFUgOTkZcJ9A0Wg8LxAIBAKBoPopKiqidevW3ud4Q0QYgFVAC/umpKQIA1AgEAgEgjpGQ07fapiBb4FAIBAIBIIGjDAABQKBQCAQCBoYwgAUCAQCgUAgaGCIHECBQCAQAG5pjIqKClwuV20PRSCoEjabjbi4uAad4xcKYQAKBAKBgLKyMvbv309xcXFtD0UgiAqNGjUiIyMDh8NR20OJSYQBKBAIBA0cRVHYuXMnNpuNzMxMHA6H8JwI6iyqqlJWVsaff/7Jzp07OeOMMxqs2HMwhAEoEAgEDZyysjIURaF169Y0atSotocjEFSZhIQE7HY7u3fvpqysjPj4+NoeUswhTGKBQCAQAAgviaBeIc7n4IhvRyAQCAQCgaCBIQxAgUAgEAhiAEmSWLRoUW0PQ9BAEAagIKYoLqug7YPLaPvgMorLKmp7OAKBIFwUF+z8Era87/6rVJ+kjCRJQf899thj1XZsgaCuI4pABAKBQBAd8pbA8gegKL9yWUomXDobOgyL+uH279/v/f8FCxYwefJkfv75Z++ypKQk7/+rqorL5SIuTjz2BAIQHkCBQCAQRIO8JfDuTXrjD6Bov3t53pKoH7Jly5bef6mpqUiS5H29fft2kpOT+eSTT+jRowdOp5Pc3FxGjx7N8OHDdfuZOHEiF1xwgfe1oijMnDmTrKwsEhIS6Nq1K++//77pOCZNmsS5554bsLxr165MmzYNgG+++YZBgwbRtGlTUlNTOf/889m0aZPpPr/44gskSeLo0aPeZZs3b0aSJHbt2uVdlpuby4ABA0hISKB169ZMmDCBEydOeNe//PLLnHHGGcTHx9OiRQuuvPJK02MKGhbCABQIBAJB1VBcbs8fqsFKz7LlD1ZrONiMBx98kFmzZvHTTz/RpUsXS++ZOXMm8+bN45VXXmHbtm3cfffd3HDDDaxZs8Zw++uvv56NGzeyY8cO77Jt27bx448/ct111wFw7Ngxbr75ZnJzc1m/fj1nnHEGgwcP5tixYxF/th07dnDppZcycuRIfvzxRxYsWEBubi7jx48H4Ntvv2XChAlMmzaNn3/+meXLl3PeeedFfDxB/UL4wgUCgUBQNXavC/T86VChaJ97u6wBNTYsgGnTpjFo0CDL25eWljJjxgxWrVpFnz59ADjttNPIzc3l1Vdf5fzzzw94T8eOHenatSvz58/n0UcfBeDtt9/m3HPPpV27dgBcdNFFuvf861//onHjxqxZs4YhQ4ZE9NlmzpzJ9ddfz8SJEwE444wzeOGFFzj//POZO3cuf/zxB4mJiQwZMoTk5GTatGlD9+7dIzqWoP4hPIACgUAgqBrHD0Z3uyjSs2fPsLb/7bffKC4uZtCgQSQlJXn/zZs3T+fh8+f6669n/vz5gDvf8L///S/XX3+9d/3Bgwf53//9X8444wxSU1NJSUnh+PHj/PHHH5F9MOCHH37gjTfe0I0zOzvb29ll0KBBtGnThtNOO40bb7yRt99+W7T6E3gRHkCBQCAQVI2kFtHdLookJibqXsuyjKrqQ9Xl5eXe/z9+/DgAy5Yto1WrVrrtnE6n6XGuvfZaHnjgATZt2sTJkyfZs2cPV199tXf9zTffzOHDh3n++edp06YNTqeTPn36UFZWZrg/TcTYd6y+49TGevvttzNhwoSA95966qk4HA42bdrEF198waeffsrkyZN57LHH+Oabb2jcuLHpZxE0DIQBKBAIBIKq0aavu9q3aD/GeYCSe32bvjU9sgCaNWvG1q1bdcs2b96M3W4HoEOHDjidTv744w/DcK8Zp5xyCueffz5vv/02J0+eZNCgQTRv3ty7/quvvuLll19m8ODBAOzZs4e//vor6DjBXencpEkT7zh9Ofvss8nLy/OGmY2Ii4tj4MCBDBw4kClTptC4cWM+//xzRowYYfmzCeonIgQsEAgEgqoh29xSLwBIfis9ry+d5d6ulrnooov49ttvmTdvHr/++itTpkzRGYTJycnce++93H333bz55pvs2LGDTZs28eKLL/Lmm28G3ff111/PO++8w3vvvacL/4I7P++tt97ip59+YsOGDVx//fUkJCSY7qtdu3a0bt2axx57jF9//ZVly5bxzDPP6LZ54IEHWLduHePHj2fz5s38+uuvLF682FsE8tFHH/HCCy+wefNmdu/ezbx581AUhTPPPDPcr01QDxEGoEAgEAiqTodhMGoepGTol6dkupdXgw5gJGRnZ/Poo49y//33c84553Ds2DFuuukm3TaPP/44jz76KDNnzuSss87i0ksvZdmyZWRlZQXd95VXXsnhw4cpLi4OkJp57bXXKCgo4Oyzz+bGG29kwoQJOg+hP3a7nf/+979s376dLl26MHv2bJ544gndNl26dGHNmjX88ssvDBgwgO7duzN58mQyMzMBaNy4MQsXLuSiiy7irLPO4pVXXuG///0vHTt2DOMbE9RXJNU/GUJgmaKiIlJTUyksLCQlJaW2h1MvKC6roMPkFQB8+8jF9HziMwDypmXTyCEyFgSC6qCkpISdO3eSlZVFfHx81XamuNzVvscPunP+2vSNCc+foOER7LwWz2+RAygQCASCaCLbalzqRSAQhI8IAQsEAh2iH7NAIBDUf4QBKBAIBAKBQNDAEAagQCAQCAQCQQNDGIACgUAgEAgEDQxhAApilrz8otoegkAgEAgE9RJhAApilo+37K/tIQgEAoFAUC8RMjAxiK8WXkPRv9tbUEzBiXJKK1zeZSu2VTaO33f0JGc0T66NoQkEAoFAUO+o/5aFoE7Qf/bqgGUFxZWNzwc9u5Zdsy6vySEJBAKBQFBvqbchYJfLxaOPPkpWVhYJCQmcfvrpPP744/g2PlFVlcmTJ5ORkUFCQgIDBw7k119/rcVRN1xyru5GnOzfQ7SS2SM71+BoBAKBQCCo39RbA3D27NnMnTuXl156iZ9++onZs2fz5JNP8uKLL3q3efLJJ3nhhRd45ZVX2LBhA4mJiWRnZ1NSUlKLI2+YDO/eikXj+pmuH9o1swZHIxAIIkUIiQsEdYN6awCuW7eOK664gssvv5y2bdty5ZVXcskll7Bx40bA7f3LycnhkUce4YorrqBLly7MmzeP/Px8Fi1aVLuDb6j8vgYACUX3N4XjbN1XWGvDEggEAo0LLriAiRMnmr6Oxj4Fgpqg3hqAffv25bPPPuOXX34B4IcffiA3N5fLLrsMgJ07d3LgwAEGDhzofU9qairnnnsuX3/9da2MuUGTt4T0VRNpxlE6SzuZHvcfOks7SaCUIpJYuvqr2h6hQCCIUUaPHo0kSUiShMPhoF27dkybNo2Kiur3QC5cuJDHH3/c0rZmhl44+6hvzJw5k3POOYfk5GSaN2/O8OHD+fnnn2t7WA2CelsE8uCDD1JUVET79u2x2Wy4XC6mT5/O9ddfD8CBAwcAaNGihe59LVq08K7zp7S0lNLSUu/roiKhUxcVFBcsf4AM6TC5zgkcUhtzlGS6SL9zc/kDnMTJx78Wc/WeI6iSjSaJdk5p0qi2Ry0QCEKwdV8hvbLSa+RYl156Ka+//jqlpaV8/PHHjBs3DrvdzkMPPRSwbVlZGQ6HIyrHTUtLi4l9xBoXXHABo0ePZvTo0UG3W7NmDePGjeOcc86hoqKCSZMmcckll5CXl0diYmLNDLaBUm89gO+++y5vv/028+fPZ9OmTbz55ps8/fTTvPnmmxHvc+bMmaSmpnr/tW7dOoojbsDsXgdF+QA4pQoGlL3A0LLpDC2fQQEpABxRkxgy52uGvpRrWDEsEAhijyU/5NfYsZxOJy1btqRNmzaMHTuWgQMHsmTJEsBtjIwfP56JEyfStGlTsrOzAVAUhZkzZ3qLBbt27cr777/v3eeJEye46aabSEpKIiMjg2eeeSbguP5ePUVRePLJJ2nXrh1Op5NTTz2V6dOnM3r0aNasWcPzzz/v9Vbu2rXLcB+lpaVMmDCB5s2bEx8fT//+/fnmm290x5wwYQL3338/aWlptGzZkscee0w3rvfff5/OnTuTkJBAeno6AwcO5MSJE5a/z9zcXOx2uy4nfteuXUiSxO7duy3vJxTLly9n9OjRdOzYka5du/LGG2/wxx9/8N133+m2W79+PRdffDHp6ene70/7J5wxkVFvDcD77ruPBx98kGuuuYbOnTtz4403cvfddzNz5kwAWrZsCcDBgwd17zt48KB3nT8PPfQQhYWF3n979uyp3g/RUDiu/w1y7HOIwx26UZF0f+NkiZyru9Xo8AQCQWj2FhSzZW+hroPPx1sOsHVfIVv2FrK3oLhGx5OQkEBZWZn39ZtvvonD4eCrr77ilVdeAdyT+nnz5vHKK6+wbds27r77bm644QbWrHHnI993332sWbOGxYsX8+mnn/LFF1+wadOmoMd96KGHmDVrFo8++ih5eXnMnz+fFi1a8Pzzz9OnTx/+93//l/3797N//35TJ8L999/PBx98wJtvvsmmTZto164d2dnZHDlyRPd5EhMT2bBhA08++STTpk1j5cqVAOzfv59rr72WW265hZ9++okvvviCESNGeFUw3njjDSTJXHUBYPPmzZx11lnEx8d7l33//fc0adKENm3aBH1vVSgsdOd7+3pFf/jhBy644AK6d+/Ol19+yfLly0lLS+Piiy9mwYIFpKSkVNt46jP1NgRcXFyMLOvtW5vNhqK4CwuysrJo2bIln332Gd26dQPcId0NGzYwduxYw306nU6cTme1jrtBkqQPww+3fUU7aR9DymYEbPrObb3p2bb+hUsEgrqOkWf+yIkyhryY631dE1qeqqry2WefsWLFCu666y7v8jPOOIMnn3zS+7q0tJQZM2awatUq+vTpA8Bpp51Gbm4ur776Kj169OC1117j//2//8fFF18MuI2uU045xfTYx44d4/nnn+ell17i5ptvBuD000+nf//+ADgcDho1amTqZAC313Hu3Lm88cYb3pz1f//736xcuZLXXnuN++67D4AuXbowZcoU72d76aWX+Oyzzxg0aBD79++noqKCESNGeI21zp0rpbRSU1M588wzg36PP/zwA927d9ct27x5M127djXcfsaMGcyYUXnPPnnyJOvXr2f8+PHeZXl5eZx66qmmx1QUhYkTJ9KvXz86derkXT5hwgRGjBjB008/DUCHDh249tpr+e677xg1alTQzyEwp94agEOHDmX69OmceuqpdOzYke+//55nn32WW265BQBJkpg4cSJPPPEEZ5xxBllZWTz66KNkZmYyfPjw2h18Q6NNX5TkTCjKx18KUEJBRfb+lXethbbDa2WYAoHAnJyru3Hvez9QoagB6+JkiaevMjYcosVHH31EUlIS5eXlKIrCddddpwuL9ujRQ7f9b7/9RnFxMYMGDdItLysro3v37uzYsYOysjLOPfdc77q0tLSghtNPP/1EaWmp12CMhB07dlBeXk6/fpWyWHa7nV69evHTTz95l3Xp0kX3voyMDA4dOgRA165dufjii+ncuTPZ2dlccsklXHnllTRp0gSAv//97/z9738POo7Nmzdz3XXX6ZZ9//33XoeJP3fccYfOGLv++usZOXIkI0aM8C7LzAwu5zVu3Di2bt1Kbm7lpOHgwYPk5uZ6vbIaiYmJIb2YguDUWwPwxRdf5NFHH+XOO+/k0KFDZGZmcvvttzN58mTvNvfffz8nTpzgtttu4+jRo/Tv35/ly5frXN6CGkC2UT5oBvYPRqOoIEuQLhXRjKNkSIe52raaBa4L2a+m03L1o9Bchg7DanvUAoHAh+HdW9GueZLO46exaFw/OrVKrdbjX3jhhcydOxeHw0FmZiZxcfrHm39BwfHjxwFYtmwZrVq10q1zOp26cKtVEhISwn5PpNjtdt1rSZK8ES6bzcbKlStZt24dn376KS+++CIPP/wwGzZsICsrK+S+XS4XW7duDfAAbtq0iZEjRxq+Jy0tTRe2TUhIoHnz5rRr187S5xk/fjwfffQRa9eu1XlZv/vuOxRFCfA8fvfdd/Ts2dPSvgXG1NscwOTkZHJycti9ezcnT55kx44dPPHEE7rKL0mSmDZtGgcOHKCkpIRVq1bxt7/9rRZH3XBxtR/K2PKJHMA9Q82QjpDrnMBix6NcH/c5ix2PkuucQIZ0BJY/6K4cFggEMU1NOmgSExNp164dp556aoDxZ0SHDh1wOp388ccftGvXTvevdevWnH766djtdjZs2OB9T0FBgVdazIgzzjiDhIQEPvvsM8P1DocDlyv4vev000/35ipqlJeX880339ChQ4eQn0tDkiT69evH1KlT+f7773E4HHz44YeW3vvzzz9TUlKi89h9/fXX7Nu3z9QDGCmqqjJ+/Hg+/PBDPv/88wADVTNqfQtYfvzxR9auXRvgoRSER731AArqHiuUXhSVN+K/DnceiVOq1PCSJHB6CkMo2ueuHM4aUBvDFAgEJqQnOWia5OCv4+7ii44ZKRwsKiU9KTqSK9EkOTmZe++9l7vvvhtFUejfvz+FhYV89dVXpKSkcPPNN3Prrbdy3333kZ6eTvPmzXn44YcDcst9iY+P54EHHuD+++/H4XDQr18//vzzT7Zt28att95K27Zt2bBhA7t27SIpKYm0tLSA/SUmJjJ27Fjuu+8+0tLSOPXUU3nyyScpLi7m1ltvtfTZNmzYwGeffcYll1xC8+bN2bBhA3/++SdnnXUWAB9++CEPPfQQ27dvN3z/5s2bAXckbcKECfz2229MmDABQFdY48vx48e9XlWAd955B0Anq9asWTNsNpvufePGjWP+/PksXryY5ORk7/apqakkJCRw7rnnkpCQwH333cfDDz/Mjh07GDduHOPGjaN3796Wvg+BMcIAFMQUzbBYzu9XOSwQCGqfjNQEVt1zPt2muatRF9zemzibjDPOFuKdtcPjjz9Os2bNmDlzJr///juNGzfm7LPPZtKkSQA89dRTHD9+nKFDh5KcnMw///lPb5WqGY8++ihxcXFMnjyZ/Px8MjIyuOOOOwC49957ufnmm+nQoQMnT55k586dtG3bNmAfs2bNQlEUbrzxRo4dO0bPnj1ZsWKFN4cvFCkpKaxdu5acnByKiopo06YNzzzzjLeopLCwMKjY8ubNm8nOzub333+nc+fOdOjQgalTpzJ27FheeOEF3nrrrYD3PP3000ydOjXouIw+79y5cwG3tI0vr7/+OqNHj6ZZs2a8++67/POf/6RLly6ceuqpjB8/nnvuucfCNyEIhqRqdeGCsCkqKiI1NZXCwsKolqEXl1XQYfIKAPKmZdPIUf/tdO0z95bzeMfxROg33PyR8ABWEw3x/GvolJSUsHPnTrKysqqcAy3On7pPdnY255xzDk88YeFeHMMEO6+r6/ldl6i3OYCCGEVxwc4vYcv77r9+uXwblfbkq2kYFBICHj3AlFbQpm8NDFYgEAgaHj/88INONkZQPxFTM0HNkbcElj/g7foBQEomXDob2g0GQEFmavlNzLXnoCIhUWkJKqonqfzSWSDHZkhJIGjoNHLE1Yjen6B6OHDgAAcPHhQGYANAeAAFNUPeEnj3Jr3xB1C0H969Cdv2pd5FK5RejC2fiJKkF0s9QDplI14XEjA1yNZ9wfOdBAJB/aJly5aoqhpWxbGgbiIMQEH1o7jcnj+M4rruZfZVDyOjeJeuUHpRcNt3XFP2CBPKxnNN2SP0L30eV/uhNTPmekJxWQVtH1xG2weXUVxWEfoNftRkL1eBQCAQ1BwiBCyofnavC/T86VCRi/bRS97OesVn1inb9K8F1cregmIKTpRTWlGZl/nxlgNcc86pqCo0SbRzSpNGtThCgUAgEEQLYQAKqh+Lki19pa00l4/y5JhBxJ8+gOIKUaBek8RKL1eBQCAQVD8iBBzj1IscrKQWljabYF/EC46XiH/7CsjppMsLFFQ/OVd3I86/GbOHOFki5+puNTsggUAgEFQbwgCMcepFDlabvu5qX8z7QgX4+or241g4hmx5Y3WOTODD8O6tWDSun+G6ReP6Mbx7K8N1gvqDkIUV1CfE+RwcYQDGEHsLitmyt5C8/MpuGB9vOcDWfYVs2VvI3oLiWhxdFZBtbqkXwMwIlIAflSyuLX2YH5UsNJNwiv0tXXFIvfCI1iFqsperoPaw2+0AFBfX0XuMQGCAdj5r57dAj8gBjCHqdQ5Wh2Ewal6gDqAPC10D+FrtyELXALrIO5FQyZQOk3drMu1fczcCX/JDPr2y0mty5A2KutTLVRA9bDYbjRs35tChQwA0atQISVj/gjqKqqoUFxdz6NAhGjduHNB/WOBGGIAxRM7V3bj3vR+oMGiDESdLPH1V11oYVRTpMAzaX+6uCj62H35bxd4fPqNATUZCZamrDwBLXX240raWg2oTVCDtjz8Bd/WpqEqtXupaL1dB9GjZ0q27qRmBAkFdp3Hjxt7zWhCIMABjiOHdW9GueZLO46exaFw/OrVKrYVRRRnZBicLYNUUKMqnf+l87yqt68cRUhhSNqPyPSsr/7feeERjGEdcZWaIJEnC+GsgSJJERkYGzZs3p7y8vLaHIxBUCbvdLjx/IRAGYIwjSVCv8li1jiAeYy/HPod7y2+ngjh3n1/w/pVxARKKQapqvfCICgQxiM1mEw9OgaABIIpAYgwtB0ujY0YKzZKc9SMHy6AjyHDbVyxyTDbcfIljMksuN7Z+RVWqQCAQCASRIwzAGEPLwdJYcHtvch+8kIzUhFocVZQI0RFE8lT7an8ZNA1OO1+/jchLFwgEAoGgyggDMAaptzlYJh1B0qUimnGUztJOpsf9h07JJ2mW5CC9y6D67REVCAQCgaCWEDmAgprDpCNIhnSEXOcEHFQgSTDiqgnIp53nNXxFVapAIBAIBNFFeAAF1Y/igp1fuqVfGjXFSAzaKVWgAvlqOuqpfXUGXr31iAoEAoFAUEsID6Cg+lBcsPZp2DDXLf3ig4reDHRX/qpMLb+R52Rh4AkEAoFAUJ0IA1BQPeQtgaUTAgw/M9SUTMb+dRUrlF7VPDCBQCAQCAQiBCyIPnlL4N0bUUMYf3+pKfyj7E5Krl9MyZ3fC+MvmnjC7rZtH9BbztP1UxYIGjrFZRW0fXAZbR9cRnFZRW0PRyCoFYQHUBBdvFp/Rpl+lUhAU6mIg6ShtOlfI0NrMOQt8fZcdgLvOCBfTcO2/Vno8vfaHp1AIBAIYgBhAAqiSwitP3+ac7T6xtIQ8eu0otGSI0gLx0Cczd2TWSAQCAQNGhECFkQXE60/Mw7RuHrG0RAx6LSiIWvu2OUPurcTCAQCQYNGGICC6GKi9eePJvmyUWlfveNpSITstKJC0T73dgKBQCBo0AgDUBBd2vSFlEyCZwACSEwtvxFFnILRw8T7+qOSxbWlD/OjkhV0O4FAIBA0HMTTVxBdZBtcOhvQtP0MSEijbMTrouo32ph4Xxe6BvC12pGFrgFBtxMIBAJBw0EYgILo02EYjJqHmpyhX57QBC6YBPf9hqv90NoZWx3EsmSFj/d1r9qULUoWW5W2LHX1AWCpqw9bE3qxJa4jewuKa2bwAoFAIIhJRBWwoHroMIyS07K5ZdoLNOcoT44ZRPzpA9weQgCE9lbU0byv795E/9IXvIslT1HIEVIYUjAR5nwNwK5Zl9fGKAUCgUAQAwgPoKD6kG2sVzqwROnr1voTLd6qH4/3NSflbeI8RrYWitf+xskSOVd3q60RCgQCgSAGEB5AQa2zdV8hnVqlmq5v5IgT3qpw6DCM4e0vp923XzJk4YmA1YvG9Qv6fQsEAoGg/iM8gIJaZ8kP1oWjBRaRbdCqu26RFKowWyAQCAQNBuEBFNQoewuKKThRTmlFpRjxx1sOMLxbq1ocVf0kPclB0yQHfx0vA6BjRgoHi0pJT3LU8sgEAoFAUNsIA1BQI3SYvMJ03ZETZVz5ytfe140c4rSMBhmpCay653y6TVsJwILbexNnk3HGiVxMgUAQGxSXVXifD3nTssX9vwYR37SgRnn8io48unib4bo4WeLpq7qav1lxubtYHD/o1rJr01cUloTAEVeZ5SFJkiXjT+RcCgQCQf1HGICCGuWyzi1NDcCgxQl5S9x9bn1bnaVkumVPOgyrhpEKBAKBQFB/EUUgMUijOIldt6ew6/qTNNr3tdvzVY8JWZyQtwTevSmwz23RfvfyvCXVNjaBQFAPUVz0lvMYJq9D3p1b7++xAoERwgMYazRAT1fQ4gTF5f4+PGLGelRAguUPQvvLRTi4HiHyggTVRt4S4j95gHccnnvs2y/V+3usQGCE8ADGEg3U07Xg9t7kPnghGakJgSt3rwv8PnSoULTPvZ1AIBAEw3OPlY41rHtsTCO8sbWGMABjhZCeLtyernp4cQQtTjh+0NpOrG4nEAgaJj732MCsk/p9j41Z8pYQP6cb7zie4AXHS8S/fQXkdBKGeA0hDMBYoQF7ujpMXkHbB5dRXGbQHziphbWdWN2uoSFm14IIKS6roO2Dy8yvzbpGA77HxiTCG1vr1GsDcN++fdxwww2kp6eTkJBA586d+fbbb73rVVVl8uTJZGRkkJCQwMCBA/n1119rZ7DC02VMm77u/BxTJEhp5d6uAbB1X6H1jcXsWiCoRNxjYwfhjY0J6q0BWFBQQL9+/bDb7XzyySfk5eXxzDPP0KRJE+82Tz75JC+88AKvvPIKGzZsIDExkezsbEpKSmp+wMLTZcz2ZVB+0mSl59Zx6awGUwBiuW2emF0bo7hg55ew5X33X/GAaTiIe2zsILyxMUG9La2bPXs2rVu35vXXX/cuy8rK8v6/qqrk5OTwyCOPcMUVVwAwb948WrRowaJFi7jmmmtqdsCap6toP8Z5gJJ7fQPxdAGVRTGG3weQ0ASGPl9vK/fM2uZdc86pqCo0SbRzSpNGgW8MObtuoJXTDbDCXuCDuMfGDsIbGxPUWw/gkiVL6NmzJ1dddRXNmzene/fu/Pvf//au37lzJwcOHGDgwIHeZampqZx77rl8/fXXRrusXmSb+0EEEPDYbnieruBFMR7i4t1GTD2l/+zVDH0pV9cm78iJMoa8mMvQl3LpP3u18RvF7DqQBlphH03qfE6gzz02cGrUAO+xtYnwxsYE9dYA/P3335k7dy5nnHEGK1asYOzYsUyYMIE333wTgAMHDgDQooX+BGvRooV3nT+lpaUUFRXp/kWVDsNg1DxIydAvT8l0L68jXoq9BcVs2VtIXn7g9/PTfovfWUgjBjiWX6+NmJyruxEnG6tkx8kSOVd3M35jVWfX9S1M2oAr7AV+eO6xanIGPypZXFv6MD8qWXXuHlvn8eZ2m3UBaFi53bVFvQ0BK4pCz549mTFjBgDdu3dn69atvPLKK9x8880R7XPmzJlMnTo1msMMpMMwt1erDve8NfVMATe+9o21nYgQAcO7t6Jd8ySGvJgbsC5o27yqzK7rY5g0HI9o1oAaG5aglugwjJLTsrntsQUcIJ332s2myw0D69Q9ts6jeWPfvQkVCUk3ORPe2Jqi3noAMzIy6NChg27ZWWedxR9//AFAy5YtATh4UG9AHDx40LvOn4ceeojCwkLvvz179lTDyHGf9FkDoPOV7r917CII5rmymSwPQIQIDAnZNg8in13X1zBpPZpM1PkwLLX7GbzRiQMnOEA6AMt2y2zdf5wtewvZW1Bs+t768N3HFD7eWB3CG1tj1FsPYL9+/fj55591y3755RfatGkDuAtCWrZsyWeffUa3bt0AKCoqYsOGDYwdO9Zwn06nE6fTWa3jrg8E81y9OaYnN1jxAoZM2MZdBKIq7tBdHTOSrZKe5KBpkoO/jpcBIdrmaUQyu67PLffEZELgwSg6oeXVauyaVX/zimMOjzf2lmkv0JyjPDlmEPGn1z2nR12l3noA7777btavX8+MGTP47bffmD9/Pv/6178YN24c4O4+MXHiRJ544gmWLFnCli1buOmmm8jMzGT48OG1O/hqIhZmsL//ecLahkGLYjycLIB5w+q1tl1GagKr7jnf+zpo2zxfTGbX+WoapSNeD5xd12ThSE3nGIp8I4GHUNEJ07xaQdTRnkcdHlvFeqUDS5S+/BjXWRh/NUi99QCec845fPjhhzz00ENMmzaNrKwscnJyuP76673b3H///Zw4cYLbbruNo0eP0r9/f5YvX058fHwtjrx+4O+50vh2d4H1nWhFMf45af5oIcp6GjZwyCq95TyacxTbH4k4s/rCTgs5on6z60M0ZqPSnq3tLwvctqbCpBHkGG7dV0ivrPTIjynyjQQegkUnFtzWm55t02phVAKNJT/kV+1aF4RFvTUAAYYMGcKQIUNM10uSxLRp05g2bVoNjqphkJGawLxbejH4Bf2NdvXPf3r/v3GCnf/c3FMncxKAVhSz80t4f7Tb6xdAHQ9RBiNvCfGfPMA7Do/B9PZLIMnu0LdGMANKtrFe6RC43J+aCJOa6TqGMOCj8lDQPKKfPKAXx07JdBt/9XDiIBDEMvuOBgr8W9I5FUSNem0ACmoXf+MP4FhJZej56Mny4Mafhmxz/zM0/jTqYSWn1s3D32DyNf4gOh7Q6hbJtZhjuLfFRRScdIUvfm0FkW8kwDw6kZYYJK8WvH21m3MUeXciWDh3issq6DB5BQB507Jp5BCPXI1Bz64NWCbyMWsWcTYKoofi0snXzB7RkQcWbovOvutRJacOv+/MG84N2s3Dnwg9oP7Hzp4J74127yvaYVKLOYb9n1oTsCaqDwUfj+isNv2F8dcA0fJqu01bqVveMjVI6o+RJ76uyyNZpLqM2NkjO/PAB1sM18XJEk9f1TUqxxGYIwxAQXQwyO26KjmTRdJovlY7WdpF0Fyv+ljJGSwfLqFJaCFsHWF6QM2O3fcu2Pq+wZiqGCa1aJjn9C3j3vVOKpRAT2HAQ8HMeBYIQuCIC6P+0cwTX89zj6uboV0zTQ3AoDqngqghDEBB1THJ7ZKO7eehuPkMK59h+DZJAtXnLUFzvepbH0/Pd6b6e/i0h0pvYymikPgZWo0cceyadbluFm/bvhQWjsEwF2/di3DlG5CYHpZhpfMSPDaQRvs36t9v0TAf3rkp7Xp0CS1+XR8FqwWxh+irXaP4PxME1Uu9lYER1BBBcrskVNKlItIo9K73FYI+LT2RxgmVc5CPtxxg675CY0HW+tTHM+RDBfjx3cj2HcLQklGwr5yEeS4e8Okkt9EWgRB5tryR+Dnd4M0h8MGt7r85neDEYetSLL+v8SxRdH+15fVWsFoQe4i+2jVKx4wUmiU5g+ucCqKGMAAFVSPEDbKVfISvnXdxrvQTAGvvq9S02/HXCY6erCwK0XK9hr6Ua9xOro4px5vqLlp5qBT/BY2aYm4w+WNNy66XvB35WPU80LLljcy15+irbMFtmL0/GjpdWTlWHT4G/PZlpK+aSDOO0lnayfS4/9BZ2kkzjpK+aiJsXST6+tZ1PMUUw+R1yLtzY/u3qq+5xzGKZZ1TQVQQIeD6ilF+VHVg4cbnlCoYJH/HBlcHnPZKb5JNlnBZyfXypT5Uclp9WHQZBevnBmjXeQJPPlj3gDbnaHTHqKG4mGKf5zsaHzxj//4tOP8BlE3zdEZovprG1PIbee60bBq93I0M6TC5zgk4qECS4Drb55QRh1Nywcf/dBvHptTDavD6RF0rpqiPuccxjCRJOOPq0L28jiM8gPWRvCXusJtfGM62fWn0j2Xxxndr3Cdkyxt1yxbc1ttw20Xj+jG8eyvznXkqOZcofVHqYiWn1YfFmYONPZ6S32Ubhgf0EI2jO0YP8p6vyZSOELTV88kCWDMLVJVnykcyoWw8hVe+xz/Lb8dJBXHf/svrGXVKFd6+x5Lkfu31jFrBY8DGQvcbgQetmMLIQxyroXvRRUZQjxEewPpGELFdx8IxZMv/YIXSK3rH8xZnBK9YVYEp9rdAud90mwaTABxOQYtsC/B4Kq16ccsTcyLygG5U2qMkZyIfi24xjRSGx1A6foC74z7gXxVDSFr+Af917HevWBXWIYMjPDKxRV0tphBdZAT1GOEBrE+EFNt1G2EyisH6CNH17A2ymQSZ0mHse9d7l6UlugVZNRpMAnC4BS3+Hs84R8QeUAWZ8kFaVXb0imnUMAwu7SF6e9xHyMf3h3UcIERupPDIxCR1uZjCJ/f4RyWLa0sf5kclq+7lHscaPrmgveW86D6XBJYQBmB9IsRNVkIlUzpML3l7dI/bYRj0vtPSptKJSk9Ry9R4Vt1TWRTSoBKAo1nQorjcrfK2vO/+GyKp3tV+qPsYKdErplFa9yFfTcMgpdMQWXJ7fK2WuLjxGHeXP1P52n89CI9MLFLXiyk6DKNk3GZuK7uHr9WOvNduNkzcEnPGX50hbwnxc7rxjuMJXnC8xDuOJ8h1TqieNCWBKSIEXF9QXJUyGSGwXAgQDmcOhvUvh9xMTWwBlHhf+wqyNrgEYJ+ClhYc4anBmThSWrhFoBWXJSPGtn0prJoUvh6e1mM5WkLKso2p5Tcx155jECqLBj7GXYdhIM0z0QEUfX1jkjpcTLG3oJiCE+WUVrg4gFundNlumav3Hxc9ayPBRFi7JUeQFo6BOJu4hmsIYQDWB4xEcYNguRAgHNr0RUl25wIaFQIoKhwgHccpvYEvon/8uopsI5XjPGB/B8eqI5XLfYw4TcxZQwvrZMsbcSx8HkNBZysdCmRbVCtlVyi9GFs+kbnp7wYm+lcVf+MuCgZs0M4zguhSh4XcjSSpRM/aCAmSCypLnjMjFnNB6ykiBFzXMRPFNUBFIl9NZ6PSPvrjkG3e3DL/MKD2emr5jeKi9sO2fSlz7Tm05Ih+RYjKSBnFI7sSI3p4nnweJxWUDXkJbvjQ7cmsAtPKb2BC2XhKrl9sHG7TDNgIBKvB3XlGUEPUYSH3nKu7EWdS3h4nS+Rc3a1mB1SX8UtT0uVU4skPjtVc0HqIMADrMkGLPvxx38Cmlt+I4v+zh5lDZoar/VDGlk/kAGm65QdIZ2z5xOhWH9cHFJenKwcGXtPgRlwveTuZ0pEgOXR+N9LqFN/1y+eJ/+8IWDIOut+I+7zTj1LFXe1tXvEtoaS04g3XpVGV+tmWX0hefpH3ddDOM4LoE4NC7jJKyOtiePdWLBrXz/D9ISWrBHr8cjwXugbwtdqRha4BQbcTVA8iBFwH0PVZnZZNI4fnZwtZWedDSiZlFz9O4YLfPTe7RDh9AGxfFtWeqiuUXqws7UnerclIxw9y83t/uKVHojDX8P0e6gW717kFkU2tOHNR47AEnatTfNckn8fbV7jvXbD1fd35paa04l+Hu3Nb3EdgIq1RPnA6yvzozk+vemW97rUI44VAcdFJ+p39ahrbvl1Dx7P7V32fMSTkni1vZIp9HpmSx/sexnXRYCSrok1SC/aqTSlQk5FQWerqA8BSVx+utK1FRaKJdIxTYjAXtD4iDMC6jNVZ0nn3QYtO2Jc/pDcCEpq4xXn9sZpDZoKC7PbaAOsX1CODLdpUoTLSch7n4R3wxUxjA60KvzEQkM/zo5LFzPLreMg+ny7yTkCCrR/AhB9gzwZvrl5JRi9mPbaK79V2vJy2AJuvFIwn18/VbjAQ3XMnos4zDRXPpKGnPJA3XJeybNkienw9nmx5VNU9+R5ZI4BZtSTkrqVeBGByXaQnuSWr/jpeBrglqw4WldZ/yaoooU3eZRQUXvAu1+5LR0hhSNkM7/JdMZgLWh8RIeC6jNVZkmyH90YHJuYbGX9AjeaQ1aW+oNHG8/v558GYbefLRqU9+WqaoayuGwmSM2HTG5iL71K139jPAx0YzvF4MNc86X7Z8e+6XL0VSi8KbvuOa8oeCZ7rFwGaFpqvxzjizjMNjL0bl7DlnclsK3ToPDTbCp0Mkr4llWNs3VdYy6OsAiFSLxRVJX/BRIpLSr1LM1ITqixZVae/syihIPNUnwricBeyaXcm7W8cFeT0V2IyF7Q+IgzAuoyVNkVBjYBgVH8yrm37Un3u2NtXuFvYxWJLqOrAUzn9gVkeTBBRYwWZqeU3VW7n/z6AHqOrV3z3+EH2qk3ZomSxVWmrMxa2Km3ZomSxV20KXz7lbUcY8NtGsa1fuAK4UngXRMNAcdF/oY2hZdMZWjaDI6QAbg/N0LLp3Ou6k0KSWbJ5Xy0PtAp4Ui/M2hZqovXynq91y6sqWSWKjtxcftnlLLrc+Ms/R9rOxFw5tgWs6xEiBFyXsdKmqMdo+GKG0butYSVMqbhg9zpsR/PpLbtz/sxy9bySJnlL4N0xqNURmqwDaNpi5T1m8tFydwGCPg/mOKdIfwWtjFyh9KJsxOs4DXUAZ4GrzNpgIk24TmpB/1IL4Zz469z/4/ltbSNeB2o+dKZ1nhFhvCDsXkeOfQ73lt9OBXEBHhqtbdvHP+zhml5t6qYOnsXzPZz2hv74agdqfLzlANecc2rd/M6izWnnA7l42wB6/n6tdqrVYTU0hAFY19Eq6z55QB/iDdcIMOPQdndlsJnGmo8GoRN4xwH5ahpTy28yzxWqq31Bq4C/5lyltpgdfLwsOsPpJldII9jVfih0Gmash7fzS2uDizThuk1fclJu5N6iqw2NhTgqeNr+qs8bVFQk7KseRmI2KrKuKtf3O/LXPowGWueZbtNWAu4wXpxNblji46E4fpDhtq9oJ+3TnYv+HClR624BjcXzXTpxyLIguz/1VTswWtqZ/jmV4fYEEkQHEQKuD3jaFBnmUvnd7ELmm/njF77zDbOV/vih2/voF2ZsyRHm2nPIljd6l+VNy2bXrMvdFcxR7AtaV/Jq/MM/em0xveFkkyBnVBfrHlAzPTwrKQJV6Zsr2xg+/BoWOaYYrl7kmMxw21d+R1SRi/bRAnf+6cdbKgtAaiJEVp86z1TLue93v5C8/VlV7xLfv1XVwauV69eTehGqbaFj1SMRp6TUV+3AUNeo1TQM/5xKQe0gDMD6glkulZ8RYKq7FAotfOfp1SijeBKpjRXdAabY3yLvsYGVhp9GFPuCxmJezd6CYrbsDa45F0xbbMHtfRh+duuqD6QmxHc7DINB0zx7VHR//fHNFzxMMgDLthzwrv/oh/31Upcv3NxEq1TLue+5X6RLx2jGUTpLO5ke9x/asddw86oW0NTK9RtEtD7AJgwhyG5GfdAOtHIfqwq+k7G8adnkTcuu0v4E4SNCwHUIGcVdKVvyl/XWV7KNvf1nU/DRZAA/3aUvUYEm8TKnlO0IcXQVRYXDH/wTmefpJW93a9iZHVaCTA5TsudrOOMC/coI+4LuO3oyYJNYzKup6fCPqU4khE4RiEKeZXqXQTRdk8vJ44X0kbZxiCbsV9NJl4p02/nmC2ocK6k0iI6eLK/zIbLqwptTVlZGHBVUEMfHm//gmh6tUCVb9M59z6Qh492b+NL5D5yUI0nQRfqdoeUzkFBQkSPSwYulvDhX+6FMKJ/o1gH06cITNCXlzqoZKP7fWdDrNgaozTB2LH8v9QnxzdYRNNHS+LeN+8UGo/9CGzAd8E/Udy+jDHbdngI718Dap0z3oxl1veTtloWIDROpI+wLOujZtQFbxmJeTc7V3bj3vR+oCKE5F5gH4yYtMcpFCaHEdz1FPJH21NXCOd2mreRz9Wx+Sb+P8mN/kiDpvV2+xQXBELp8gfg+jCXcv01BicqQOZWVqlE79z2TBofPpKGpXEQzqYhSVaaIpIgKaGItL04TrR9tW85k+/8LsqU7JcW/KjgUdV070Op9TFB3ESHgOkCk/WI1fPNRAhL1tXyUrAHQzFqP4OYctSxErBp5+3xCk6YSJgahydkjO5seJ5byaoKFfyoUlYkLNlNcVmGaB9MyNd7ysSznUJmlCOQtcec5vTkEPrjVXK4lBFo4R0Gm+OLpOKWKgPDaMPkrPjTJF/SlroTIapKc/kpo7bRo4pdX3OSG11n58HCKSAJC6+AZhb1jMS9OQeY3pZWlvOhwq4KjoR1Ym9SHMLYgOMIAjHWq0C9Ww/KFbDE0e4jG7vZuyeYFBooK+Wo6Sus+xjvxeBlIsd4XdGjXTNMxxfoNyUxzzjcPJhKqlEPlaeMWUJATYd6TRtnfLjftCV1+0WOm7xO6fCYoLob/cj+LHJMNVy9yTGH4Lw9EX0Tdb9LgcNi9qyIpoIklg0KrMs+bls0v6imW8qINJ7MhqE9FRyCu0fqGCAHHOhb7xYYbnjDM4QkRmlVU90Nc6+1bPmgGzoVjAjQINc/P1PIbeS5YKLHDMLfUSxXCj7Hak9Mo/HOgqCQg3GuEmdSCWQ7V8G7hPTi1lky/NXsA2TAEX3UpHi28pqULaJOGVR0vpGnu197vwbc9W7ghsnB7Q2/dV0inVqlhf5Zax1s13xagMg/P8zdYz+hYp7auX99rSZuoBPSjlf7SRgkpmZ7J7KqIj1kX89qqEsb2/byC2KRunIUNmbBES5NM11u6kH2EpSvFOd34GnWKx3Hsaj/UsMDgAOlMLb/RWs9QTcIkQmI1ryYjNYFVE/tz+/SXaCEdZfalAynN7E+3Jz4P+d4lP+QbGoBmOVRXvhKe8Q+ELOKJhlGhIHt7vmr4a/Gtve98+s3+AghDl89AeFyxEMxY8kN+3TQAPfeAdKmIZhwlQzrM1bbVLHBdqC+2qYJwcU0RK3lx+mvJPbs2FjCPUrV8LVKVYhPf/F4Q2pn1DWEAxjoWww7u8MQJ0/WWL2QtNOsRd9YwNer8Cgy84eEayi6I2RtS3hJSPnmABU7Pdzj/JZxJGdxl68tuNQN5dyKcPiCsyuZgSdlmGHkNARxqOVuULD9PhwFRNir8PXZOe+XvZilEZlF4fL/J9xqutzQm8NwDMqQj5Don4KACSYLrbJ9TRhxOrdgmUkHvGiRWDAqja8lQwNy3Wr6Btierb2FsQSXCAIx1PKKlFJn1rrQenrB8IfuEZkuP5nPzeyG8LJ5codogJm9Intw6yS+8Kh3fzz/tH7hfvP0SpGQy6NDTAW83q4wc3r0V7Zon6daFwshrCLBW7craMncVn7dVmxGxZFRoOYt+36smPD62fKLXCBz6UqCIeKTeUo1ak+3wSc1w+lRWSxI4qcCsaj5WiQWDIti1dJb0B5+7unPpTffrquUj6k6juOgt5+kmxwJBrCCKQGKdIKKl1Rqe8IRmXR1Hsl7pYGj8dZi8IuritnWeIG3uAuz3ov08Z58TYChqWKmMDJWUHbTyEhc59jlme65al5Bo4/O9+uMrPC57RKgfv6JjDQ6umgki6K2ooKgqpQOn19kQZaygXUtb1NMCq+UjIW8J8XO68Y7jCV5wvMQ7jifIdU7wiukLBLWNMABjGcXl7ufqKuO5iis56FdVGaxi1grV1aGgQROyzZ0vKsNt6/g/+5OGa40qI7UcKo2OGSm61/4Eq7x891KF4bZ1hCPFU2uE+F5lCTIlt0YlwGWdW9bUyGoGTdA7WV81f4B0xpZPdOfjCsIi3GspLLQogF+ebUuO4Fg4JuIK+3CpK60yBbWDMABjFR99Nufi2/in/X1UVJ4pHxnY71dQawQY0WHmzEmoNJP0N+lgXj0jbbHwe2q6vWiqMxmueiMsKZ5aw+L3GkygvM5LWPhp8xWOWkj/0uetFVsJArB6LYU9UQ4SBfA640NId0ULf5koEbUR+CJyAGMR01ynAu6O+4Cx5ROrHp6IIkYJ9xrb8gvJSE2IiRZtNUIEOXPpUhFOyijF7X0IVRnpn0PliAtu2WiejrLjR7gjbinLXb3Yr6aTufwRSI2HS2ZCYnrEUjw1QhgalWaEI8UTs/jk204+tR8Kn9XcsX3y2W55LI+NSnu2TrusRnIhqyv/MtxryRIhvNVShNJdoYiWTFSVEDmPdQphAMYaIXKdFNWd64QyiVj5+YwS7jWuemU9EBst2mqEkG3uAsmQjtBV2sFG9Swg+pWRGakJrL78OI0+vA1JgrG2pZXVo0USvD/a7fHrfGVUjlcthKFRacaC23tT7lK9Fah1Hp+HrVZVHqnhHsrAsm1fin3lJN5xVBo2+Woatu3PQpe/R/4Z6iNRku4Kl2jKREVE3hLiP3nA8BwRKQqxiQgBxxoWc52iPXusCmPPP810nQQx06KtRgiSsG+EikS+ms636pneZVWqjNTyRre87/6ruEBxkfj5JCTJff5IEj7VpNa6ydQ6QdoHGmlUGuH28NSPW162vJEm/+rhLTCIf/uKiFr4WT2WY+GYWs9nq2kizp8LS7oregQr+Kp2QuQ8isKX2KR+3A3rE2HNHmODuWt+N12XkhBHu+ZJbNlbyN6C4hocVS1ikrAf6Ldy36xDGS5WyZY3Ej+nW2Bf37VPIx8zkxHyjEwTfY5lTNoHaoUQDSUXLlveyFx7DvLx/foVVWzhZ4SMwhT7PILls+UvmMhpDy6td3llCzftpe2Dy8LqNgNUeqtNJoCqp8LetE1mhAQr+KpWLOQ82lc97K3Q19BkdXIfuJAdh06Ql18UsOtt+Q3ouVELxEYMUVBJLc0eq4vCkxWGmnb1Hj+B7KcvTiJu8zz9DDklk7KB01kx3yDXz9PtwmpeXm9pG4VqIlsKnXT1tSWL9sMXM0zfp6MKkwpfjbRqNQTC1ag0GWetafpVFcXlMciMzIuqt/Dzp5e8nUzpiOl6CdWn+vqyKh+vNtmWX4jk862u2Bbh9eDTUcmoTaYkUWMV9jXSas9CzqNUtI9e8nZDvVgzrVJogClENUwdues1ICzkkLlUCXn3V1DyV6Vx4EFGQd6dq18XAwn9cbLE01d1jfp+Y/oh7pOwP2tANhX97vEahE+OGUT86QNwyjZ2ddHnYNm2L0VZOUnfqi0l0/1QMarMVVycIv/J+64L+NA1gK7yTp+VYdz968ikwqtRWVbB+gVhemdqGbM+z1aR93wd1CCLdl/gYFXVkWwXy2jGhkZBcXnkO9OiAAZtMtNHPIOzmjqLVKUHecRYnDg6VPf36X8NBOtwZJMlnqmG54bATYw9MQX6frwmm6Biy/XRjkvJxDZwBtnyZqbY5xH/9hHdOlPDoQZZNK5f3ezDGk18DUKTKm53vtXzBBhuWnhv1DxoN9i7eFt+IfL+zax2dQeCNbR3ex+CdZOJRPQ5mp40/1BbTBr1VcSsz7NVLKd+hOvNNSooIXhVtS9Wt4tlbLKEK4w2iyExaZO5tX31eUqNWu1Ve+GTxYnjL+opQOA1EKwry4z+doZ3rWeanjFE/bq71hc6DIMr34APxoCqBKwO0DMr2o9j4WhesRv4e0wMB6sY9ar1Jz3RweETxjPMGglB1EGMPEHB8q104b07s71LNa+FRApg1tAezzZGRmD0RJ/3HT1JSZkS0HfYCF/jzj8kW18wk+XQ+jzHO2QGPbsWsG7sWk79CMeb61+96WlTaBs4g41Ke/LVNDKkAsOONSoS+9W0apP70M4LGYXe8vbIKp4tplMsuK139CtmLbbJrKpn2JdqkbYJRpCo1V61KUfUZEhsxoESdyMDs17nbjz3Oc/f3NwvGLDhNtJHPotTVJtHHWEAxiqJ6YbGnzGVF12ghyfQcNDCxNLxg/SW/wh689YeUMFYelc/+s4yzuMIpWlnBaMHaa3h/zDJiKzwwMgTFCrfSgvv+VaAa14LzWQ0bGjv4dmKK7k27nMy8fcQz4qKh9jKuaLREPQhzWQ5wunl7I/Sug/5ahotORIdb65J32r3pHIMg+R/MLX8Jl5xPG+azxaqiKmqxk22vJEp9nmV14bHQLUU2chb4i5QKLKYTuGDZoZUBW/OaUmp1xPo62HVqKpnWIefN7fKxSah5IaC5Dz2L33B/T8+/gGjXufpSQ6aOFXSS/dyie1bXnUNxUUcuUon/lJS+Ov9qaSV2DilVwyJ09cDhAEYq4TdUQKzojN8DQftZqqFid9xGOt5aUbXhIva8cLnvwU99o4/j5uui4amXbAk4WhgOYxp8DCJT84kWx5lWIGq3fz3FhSz49AJU09Qk0Q7aYkOy3lUvvphZl6LRY7JdJJ3ae9ASclkzqHhzHENp4O0i/1qGq8Ma8k5vS+IWo7o7JGdefjDrYa5PP7U9eRuK0ZNsNymOFli+t878cAHW8I7sGxjavlNzLXnBDxsw/bmBqne1CaOU+xv0b/0ecpGvI595aSAfLakYU+x4t34oIepinFj276UufacwBW+kQ0zQ85EUN8sKpKWqM+fOysjmbz9xyIat/844j95gElxTmaWX0fuvMdokRRH+bnjATsQyisW/rF8vblKkHtUJPszNKBNch6nxL3JE66bcKmBZ5hvXnhGsoOCUokCWvObq7X3vD5KMsPKPRGNhbCrpysmctrrC0IGJlaphoR82y+fMNeeQ0v0XiYjPa/+s1cz9KXckMYfwI2vfWO6rkqadh5qVd9KQ3uY+FW7Scf2M9eeQ7a80fSt2nfpa6hps+ChL+V6DVyreVTGYUD3DVPC32vs/t7KB05Hcft+2aqexmEas/hQ86jeTId2zbQsQ2GTpWrVh/z4x/0By6IpKeHfYsuIYLIci8b1Y2jXzIiOvULp5e4GlOSXGxVuCz8L1Ztaha+r/VBdG7pryh5xG4Z/0xvwewuK2bK3UCfp8fGWA2zdVxi+FJTiwr5yEmAW2cBcvzKIoL7Ze1umxutawb15yznWx2qGjz7eQtcAvlY78j/l9zG04G5GLLd7x2J0P6jKsXyxco8KZ3+mckN+rQqvKXuExytuZMHtxt5oXa/z3evIsc8hDndhjFFEI8c+J/alquoYDcIAnDVrFpIkMXHiRO+ykpISxo0bR3p6OklJSYwcOZKDB2NHW89fS+pHJYtrSx/mRyUr4l3GbXsPCLyZGvWnnD2ys+X9VrdpVmv6VhpBHibaTNXdncU4RB3MgI3zMYS0fCtzAelA/TDNawESHaSddLLtpRlHSZfcD+B8NY3SEa/zR8uBAXvTHszf7DocXq9TXzzhoWHyOnf1uUUx6QW39a68+VvEtydrKH22yUvyApZd9cr6iB6u0TRqotWPeIXSi4LbvvM+bCPqDR5uf2VPPtsSpS/rlQ6GYV+rkx1L7F4XuX5lCOPWP51CS4tJ+PlDest5yChIVf2xFBd7l81ii9KWbUpblrrc120SxdjQrhP9MeIinRgF8eb63qP8tfgi2V9Q49vCOWL4tR4/yHDbVyxyTDYcziLHZIbbvqqSVJUgkHpvAH7zzTe8+uqrdOnSRbf87rvvZunSpbz33nusWbOG/Px8RowYUUujNMCvo4Q2e1zoMpZ2UAlWbCFBo6ZIxYdNb6Zaf8qSHV8ChOWdSI6v55kEIR4mW9Us/ll2B9s2Ged2hfIEaYaQgszUcnf1t9FtHAgI7/l6LfLULP7v/hvJkvYzs/w6r5fG1X6oYX6e9mD2l7+wTN4S4ud003WjSH9nMEn20CHg3w6Zpw1UF5F6Hati1GiyHBodM1JoluSsUk6sF5+HbUS9waPQX9kfq5MdS1Sl4jkMQf1seSO5zgnEv30FzsW38Y7jCXKdE3D8sixg+1DdQXwnKSU7vqT/4YcZWjadIWUzOOIp1DpBAi6MfyudVywcLHaQcus1Vn1/4YjHV05S3RheA37nohbJCIho1BWpqjpCvTYAjx8/zvXXX8+///1vmjRp4l1eWFjIa6+9xrPPPstFF11Ejx49eP3111m3bh3r10f4MKwG9mYMZMvF89gS39M7e1zq6sMWV1u2KFnsVZt6tqz0El4T4CX03Iy7jLJ0zEg6jBSVVH8HAP8HaY0S4jvRjPMlPwUq2Zth5lxYofSibMTrAV1EgoX3dFV/tjg2qmcFzMCDeXRtkYTXTcJDGSe28608mt5sDfr2jTuDFbtUD+8OdUYkKVEVo0aT5dBYcHtvch+8kIzUhLDHEXUsdKzIV4P3V/bH6mTHElWpeLb4XunI76ZpMclLbg0Im1oJ/Xv3ffxg0LAmVHrnwnU2+hqaxWUV4XtzQxFFuSH/0LrhNdCmL0pyJk0oohlH6SztZHrcf+gs7aQZR0mTjkFKq4ikqgTm1GsDcNy4cVx++eUMHKgPf3333XeUl5frlrdv355TTz2Vr782lwEoLS2lqKhI96866T97NUOX2Rh29G4Oe2aPh0lhaPkMhpZNr6ywSsmkbMQb3FV+F+v9vYSa4XCmNQmYWO0w4v8gjSqhwpgG38letSlblCy2+oR2lu1xmIYFw/EE+edbRRTe8yOYR3fBbb3D21mI8JBTquB2e6D3xJcvfvkzsrywCNAess5P7omoX25VjRqHrHrPL9sfX+GMlbtu0L7VFtsUWkgBiDiSeuIwqhTsy5LMjYIQxq2igpKcSdxmd1cVo7SYvWpTrrZ9ofNChRP6V5NaBA1rNuEYnaXfGSh/S8d0mWZJjsg9w9H25kZRbqjD5BU6HULDvHDZRvmgGWRIR1jrmMBix6NcH/c5ix2PstYxgQzpSI11T2lI1NvY3TvvvMOmTZv45pvAAoUDBw7gcDho3LixbnmLFi04cOCA6T5nzpzJ1KlToz1UU/RVhNodyv3XJsEzfcrY23YJBU06U+qCP3Abr0vsl3LlhRegJqTTJKs7pxz/EY7tR22UjnrCOAysqO6qvsZR7k8ZTXw9XVHDSpWbgc6V1/gG77IjJZi2vTMSaA1aHW1BNLqqRKzRaKF4oL28BzvllHuqHP3xl4LIm5ZtuF1VuVNeRK7amf1qujsvsqgA3r0J24jXgcg9ypa/u2DnVwS6nFUloOLdpHqTlEykS2fxqs+kwz8/NFveSJN//ZN3HJ6CG89nSx8wm6ZJCbpuFGFLQeUtgfdHE1KIxcwo0Anq6wVdtKLsim434vhytmkS84DS5wOWGUmYmKG07uP+rY+6DyChoCJ7/75mf5Lu8g73uXQMylJa49w3A1IjmOiF6CC12ZXFtIqb+V5tF5X9VUU83gxX+6FMKJ+ok/yRJCggtbJ7iiCqxMpcNKrs2bOHf/zjH7z99tvExweXKAiHhx56iMLCQu+/PXv2RG3fRgTzPCy4vQ/Dh/2d/vOPM3TO1/r8pBIY8kk8QxeeoP8zufDmEFj4v0jFh923Qr/rWbshTi2/MSJDozbqc/OmZVfdaLBa5WbgKfEN7QQkckuqYVjQX6DV1/jTJGN2zbq8xrpfaF7ItMQwDSELYZ8M6QiXSN+G3C7ipPeQuL02g+M2stjxKLlOjxfB8zAzak7vj2+YrZHDFn4uX4jzy7Z9aUSfLOr4VW+aeZy1czRvWjbZ8kbm2nOQj/tVWxftJ2PZTaweXMS5ktsz+N6lFeTef771sHdQD7MHyQZXvRHcK+4xbknRp1McIJ2x5RNR004POgz9Na7H0nnruW+kS8ZhzZZSgdc7KklgL9qDalRda4Ug3lwViQ+VAWxS/4Zq9ZHvs7/AO3xgPrJRoVQkrFB60b/0Ba4pe4R/lN3JtPIbmF1+NWpCE8sFZgLr1EsP4HfffcehQ4c4++yzvctcLhdr167lpZdeYsWKFZSVlXH06FGdF/DgwYO0bGmeI+R0OnE6ndU59LAJqjVmIAbs60vUOEA6U8tvjEwniijqZdUkFjTQWP4gtL/cfZPz85QMt31FO2mfruuGxiL7I3RyTgMiSOauQTQvZNjtryyGhw5LqSEdOFqLwLCrj4Mg4+JMaS9/qamkS0VIEjh1D3IVOUhzeiO0PCbLHlwL55d95ST6yKNpRlH43S2iTTgeZ8Xl6VhjNPlz/+BJS/+HBU6PgT0/DOFmMPUw/6hkMbP8Oh6yz6eLvBMaWdAW7DDMfQ17xNtL4pvS/7VjKMioSYlB3xr0Grfa2rLDMDKuhrUfTyL+2B4kCa6zfU6pGke8rD/nZcnz7fned8LB7x61V21KgZqMmtiM/5ZcrNvUkhC7ZkAbCmnrxeOjqdWqIJPKcR6wv+Mj/v1yzLQ1rU/USw/gxRdfzJYtW9i8ebP3X8+ePbn++uu9/2+32/nss8+87/n555/5448/6NMntkKgZsUPmtcmaH6SVjrvg3aTURo1pXTYK95K0UiNP4iSXlZNE0mVm8dTcm3ZJArUJK9tY1ixZqZPFkNErNEYheIBq3lhAcnuFrhM2sjHjod8vH7GWE6I9xDMgxuAhfNLPpbPfx0zvBXUkeQn1gbynq/5S03l+jJzWSrJv4uRmXacESYe5gAlBKuFCrINsgZA5ytR2vT35jQqrfugJGdiNv9RkfhT1Rt5EeUzdhiGOv47ri1/hBfKhyNJBBh/3v2HUV1rdizNm9u/9AWGlk1nWMFEyvxSMTRJpJDXV4dhMHEr3PwRjHzN/dfAOxwVrVZPPukjtrd4xaAwJ6xzSGCJemkAJicn06lTJ92/xMRE0tPT6dSpE6mpqdx6663cc889rF69mu+++44xY8bQp08fevcOMyG+mjErfvjreKnpe0JdhrIEcvFfqMkZplpN4VBlvawoEEqeIYBIq9xkGyoyTaTjNDUJ7aRLhVW7iYegNsLFOvzCTXqNSmvFAxHJofgUHGhabUYcllLdXj8puMEYjrxJ2ESiV1ZHHnDS8YMhZakCCSHc7IuPh9mo2Gqpqw9blbZsOdm0agVEnsIDIMAI1F6/UD5ctzxiGR+Ph/U39RRr21dF787Hm2tW4R+WJJKPAU2WsZe6ylqtPpJS/2P/BEmKQPxbEDb1MgRsheeeew5Zlhk5ciSlpaVkZ2fz8ssv1/awDDEqfhj1qluuJm9attdLqCVdd2ri4kDBMa8YsBm+LcWqgrffpU+CeU0TdrupKlS5aZ6jDOmIWy+MCm9op4y4SsOjPouW+oSbFh6pNAa6NC6jbOB0VswP/oAMt0VgQMEBbpHrqeU3BXivNyrtcSVlIB3bb9ovV0nJZOMh6/ImYWPx/AoIa/qnHvihXWsQWJRhiVB9XYOgtYcsK2mqM8autK1FRaKJdIxTpL+C7CGwl7UhPgUIvsVWWjX3EVLcYdmFJ4DVVWonqCs88PE4aW3uvvdrc1fV1pZWJx0l8U0xzF739CK3Hc0P2ccdzFtFLritNz3bpkU19SJizPpRG+LjIc2yOvkQmNFgDMAvvvhC9zo+Pp45c+YwZ86c2hlQGOw7etJ0nZbL4Zuf9O7fk5HfHhPSA+KWfDkRzaHWGNvyC5F8fJ1h99IMs8rN17jtLTf2buX7HQfkmkVJUsdK39maZm9BMQUp51P697X8v3+5PZ1L7Jdy5VVTOelSgeB6muGEn7WCA8lPO7olR5hrz2Fs+USdEaggc+Ki6SQtvgVF9fck+LTGm1+NAZCQ55cbX0+a2wCM7AFn6RypYkWyPs/LLUvlNcY87Iq/LuR+4kv+YtesK8038Kngfc4+h/vKb6eCuMD2YD69ZKvCCqUXK0t7kndrMtLxg1zz7n42q6fzVvK5gF5FIm9/UejcuSCEmpwEVWPw6UXuxLyPuxV+O3Scnm3TIvoMZvg7IixhpeDHiPo8ua5B6mUIuL5h1MVBQ8vl8PUSqqf2xZnaHPNgcGBLsbrGVa+sr1q7KQsaaGYSE1Zbtvkaj6FalwUjHPHZmsLbHeNfG6nwzCOPlMCQOV9H3lnEj637CoMWHGgPUKMWV2V/u5yx5RM5gN9DzqOL6Wo/1LsokjzDkAQ5v4KGNTWB9zAfcCHPkShUJOvzvEx6tVrBysTI42G+ovFO8/ZgkXbNMEBBRmnTH1fHkXyvnoGKzA0GPc4jbSfoe5wTF013/384agwmvciN+rj7onXhSOQkXaQd3qrm6hBi16crqSRykk7sIJGTmE6CQubKmhCjerV1jQbjAazLzB7ZmQc+2GK4ziZLPOM/Cw6igRXKuLGKjEIvebs+lFSD2GTJsHo1LK9AEA00/yo3X7SWba84nkdF8gtdVO371cJspRWVOS5hezdrgGDV52a/TVAUFy05zAHSacRJiklgyQ/5dKk4XFkJaIAsQSaHDSt6fT078SV/uR8abfq6f5dqDn0Vl1XQYZ6NbPkfvJy2AJuPXErQsKaHXUkppvsO+xyxUpG86mFkZgfN2xzevRXtjn/HkGWB53UHaTenSfkgyeBfAOLzaY204wK0CbW81g7DKDktm4em/ks31oj1K6OA4f3WBN/P5Is2OfEPOxeSxP9VZLNS6anfUZBe5KEqh1vtX8k79mcoth9HllRuLnuAw6SyJm8vW/dlcbI8uteBI04mW97IQ3HzaSMd8v5Wu9XmzKy4LrDYMGxPXvT1BxsywgCsAwztmmlqAJrmcgQp4S8dOJ0z59mAyDxS2fJGnVinFkqyDZxBVcR1w8Est8WyPIOG5yEzauq/2K+m8cqwlpzT+4KQxpvWss2+clJYxmMojLwL4YjP1hTDu7eiXfMk3bg0zH4bI/YWFFOwdRUHv3ydk1wNwEncUktLN+2mv72EVkpWyPwys4pezbNDGMUy0cxlXaH0ouC2+xk/62Wac5Qnb76InA9e496iq43DmlTwdMq70Gae6T7DPkesVCRbkcXJWwIrJwPTA0SNf1RP5/0WE+lyQWN4b7THVIvCxEi2sUU9TbePiISlo4R2v60q2uRknG0Rt8Qtp4l0nCbScf5p/4Br41brw7oWhNeN0gay5Y04Fj7PwJK39dsCR0oxvHarim37Uubac9zH8tE4PJVD3nQN8DGIw/LkRcd5IahEGID1GT8NLM0D4qpQqYrxp13gOor241g4hmz5H6xQeuln8jVAlbwCso2tnofM4kPNOcfizcXVfiiuvw3mlmkvuB/uYwYRX0Utt6C6jlHKeaouIvkN3MaMDfgf7zLNGCosk7jjywTAHTILll9WrRW9VcVXYy/rfIYPP0G7dyYzpGx6wKaLHFPoNHxa0HMo7HMkGn1iPV6odKnEXelOIRfZNvGpqyc7aIWKzLK98YxKOQ/14nk0/noWrYu3Vb6/ihMjX6paiBEemnKqkYJq1Rgkf8vdce8HLG/JEaSFYyDOoz8agWKBjOJJnVDJsc/hXpM8yoi89WYoLuwrJ7mPb9BaT1Hd6Rook/CaHhZzZYGonkMCN8IArOOE7OKglfDriMztX3lTMSvRl5hif4uVpT39V0YdLbelKu2mqhpurfQSRa9lWzDPWtjezWrGP+lb+w0sdxZRXOSkvO31hlWiP7lsuHgq7hWgsmr2Stsa3nedzwNx82kuF4WshowpOgyDQcCywPZgDJoW8gEX9jkSjT6xHi9UhgS5zgmcWTqP7a42npUer5KaxJA5X+M26B/2VhtHY2LkS8T6lSHw9fqeL33PNk4nkz+52raaBa4L2as2pdmBNdDW7ZkzDV1bINi9NCCsG4FiQS95uzdCE0zQ+t2hTkYuLrE87qDsXod8LN/UTtbSNUr2fA1nXOBZGLpl3/+5LuWGm8dG9RwSuBEGYB2nZWr0Wt2FwvemYoSESqbkzseCy6p1LGF3ZjCgroRbazPnKRhm/Y0texR2r2N42TLaObYZPpw0rpTXMNz2FSqSt2r2qCuJn9Q2LFIGsN+VVmUty5omvcsgmq7J5eTxQk6X8lHSz+BgSRzpXfpHtL+g54iFiveQsjg+3iWnVKHzKgUUhMgS0//eiQc+cG9fXb2sqwstylFGHE4fiacSNY745RWQJEGn4VU6hpV7qTes26YvSnImFOUbVg6rSEh+eXFm3lz/CYdUfASIUk6xRU+l5L+dSbqSb4eq6+rYOVRXqFt3TUGNI6Ow/dZEfr76OH3lrZbeE26HhUgJqzODAcHU66uvR21o/Lu/mIrPKi7Y+SWNfl7ErttT2DXj0hoXhg7nN5BRvELO8u5cOObXR9Zbyes2UrTOKjuVllxXNolVjgv40OUWm92utgbg/7kGskLpSSfpdwZK3wUViDajqv1LI0Eznk+QwI/q6Sy4ayC5D17k7ZcbqjLZ8jkClireywdO9xrRhqLqfl6o4bavglbnDu2a6T40ivu33vI+7Pwy5gR8ffsbg94zFy9V6PLYEuQK97f1wRjYtqhKx7V8jzx+0JJgtX9enL8316wfcVq6XjqoShXxFj2V0olDgeeBT8eR0iv+FZUOVYLQCA9gA0TTFZRQsKFQQRxxVOBC9uoKpiU6vMUe8W+7Z6oTLJ4tMZ2P5UM4obRgWozRpLiklLtnv8S5aiF/Sal8o7Y39m7mLUH55AF3yEWjhgtxwsGwcMjTy1V7OKVzlL00x4WMDYXW0p/8paaykQ6gwvqiTt79aYaMFjreqp7GVmCX8zry1TQcvzwNPlK6/uE6Xz7e4m+ImhChiLKveLMv4RjP/uM3876a7iNExbur3WC0vGBDUfUgXsSAMLYH//tH5fHc/Vy1z+SeGOgVBfYWlgakZ2hY6mMbIaE8c4C7yvm9m7GNeIOIrjXFRVPpqLVtPUZVMMHq9BHP4PRJG2jkiOOdJ+6BnP/z/l7+ovXX2lZTntIaV/tvgVXhfwYjQngqNRyrHoGNLwf29fWkK7nKKli/oHYaCjQ0hAHYANF0BVVkXJ4HqQsbKpJXw+3n68oMiz1Uz3+Mur+pSOxX0+pWPpYfZqG0YFqMUcNfqBe30Gvcz8/i9BV6NVPO9yvEiRVMC4eKDwP6jiplxGFXKyiX4rDjojSlNR3+nKEzLNzoT8A4Knja/irgSaJfcqvp9+AvIr5iW2VIyqz617Z9Kc5Vk4xFlGspKT1sD7in4t23aOmvtJ4UnHRR6uMFNcyD9cnV0qSPNMM9QzrMKNtqFqTcwoEytxfStxpUh9bubtQ8aDfYVFGg/6GnTT+Gdo8yS8+wmptnJJ4dTvTCVzpn39GTlJQppgZr40ZuQ1HraDPZHnzSoQJSsj6sqxOsPraf2R/kclhNYXZCE1BcFFeo+s/t93tpovWK5/7tvGw6xdEMq3o8lfYPRgcIsKv+zwzf88DC9ROLYvj1AWEANkCe6lPBQ19jLkPRD9NqLi1NN+CCttgDNtYwK2TwD6UF02IMB9MHkolRF1ARaEHTbZTtC1Yo5+BrJNVWu77ghUOVOCT3VMRJBUhgVyuQJAl50DRUCx07Fjkm00ne5T2OCqYFSf5C1QXF5aZj7yVvZ6D0HY6FnwRuEOZDLCbwrUhu05/+BueCaR6snxdRM9z/UlOZVnEj7/zjUrcXUgbF5P7hraZd/iC2i8tNjcQc+xzurbiTCjXwpAlHiw/0BuG3j1zsXW7k6QwneuErnRNKrB/MO9oE3ks9V25FCWxfpju3FGSkkwXYV09jsl2bjLxs7P038frqvIYR6GEGM7CNPJWB7Q7B9zzw1y80uleF3epTYIm686QWRAfFxcjfHmSh3Th/50PHFIb/dA/yMXM3viQZeABTMikb8XpMeZ6soFevd4fSch+80JuLpaHlNFULQYw672+w/EGKS0q55pFnQ2qCfal0IdqSFZGihdSCGX8ANNJrqx0gnbIRr+s6dujR5wn6oxUkTYx7352D5pNzZDMZjIRCO2kvMgrZ8kZynRMqm9ObjEEF8hdM5LQHl+pzpjzhYm++Y4zlvmmEnQfbYRgl4zZzTdkjTCgbT8nV7zKgzJ2r5fVCeqpBzX9zd4GDY8V9gLGRONy2jkWNnzd894LbekfcAWT7fr2nc+u+QrbsLfSmeGxU2rvDmBbRPIazR3Y2/R5tssTsER1NO9oYRVMAOFngnmD4dPlwa/uNMezo4lg4mrtsH+jPOb/fS8utM7+uLBDi3F6h9KJ/6QtMK78B0Lc71ONT6OLD3oJituwt1OXm+v5WewuKIx+7QIfwADY0vDfntoBBVRgqFAdr6F5JWb9/4mjZwasv6JRt7OpSjWOvJqpaTPL+HX2qJg5rUehV3vO1aYhqr9qUAjUZCdXbXkzDN2fKLB8tmvjO4B98bF3oNwBlA6dz8/t7ac5RDtGYjUp7trbXV5KnJtgpPOn21tlQSKDUmyeYLhkXckyIWwRvL0JJziRbHsUKpZepUPVSxyN0kndxRE2iCccttaY3rHwP1nM3xjyFEckO+XgRJ5/aD4XP9OutVoMWHzY3flDhxCFL+wkH3/Zu/p5OcHvYygfNwLlwtKX9aR7DoV0z6ZiZaiqM3lPdBqFyCwPw8ZLdma3T9jP2/sM/7Z7Sa78+z0EFvsPB4rmtIPOb0iqg3eGVtrWoSHphd7/zpa6oM9QHhAewoeG52MyqwswepEYobc+Dzle6dQbre4m+4uJMdiOhkECJzvNkWfcOkwrLMOQTzEJU/UtfYGjZdIaUzeAI+jZiVe1fWhWshtTU5AzWKx1YovRlvdLBMI3gkg7Nvf/fg5/5znkHHzseItc5gYwQD1fp2H7m2nPIljf6HtW9zs+L2AR3jC6k19IHr2EeoueuWc/WWMLcKLNIlPq0pktFNI0P9PCGc71ZIU6WmD2ys/e1q/1QuPJNVCnY41FCSWllPd857JZnGpWTP82brv08PypZXFv6MD8qWZ4R+RFGn2dLhHlur1W76u5HWrvDoWXTde0Q/c+XWFVnqI8IA7Ch4bnYtPydxY5HuT7ucxY7HtU9SNVG6QGSA5VIkNLKLczZEMhbQvycbvSx/YSKzCj5C75yTuASyW1MhKPFuOQHA0+fxQemmtSCjUp78tW0AB9Ajn2Ot9G7/zpbGDfNDpNXRCYBYYLZeCtxn0tK6z4Ba7bl68NAq36q9Ah9Q3sOkwKS5E1uD4aWWznF/hZpCTaaJjk4S/qDJwwmP4YpDiE4RGML+Zm4vTkxFg72l5Q5q2Uy4G4VFtF5oFUMB/vNGzUNuZsM6Qinlf4csLxlanzV5Er88JWt8dJpOGXD/4OqGhWFBUrnQOD3qJGW6Ai4xv2Nt1DYti8NkOEyD61quAfuLlYJTxopgIjObdXz38A88xz7HLRr37+v7/DurVg0rp/hMBaN6xdx+F8QiDAAGxqeUn1FdQu6+upcOaUK90Wa0oqy7KeAQN2putaPsaoPir0bl7DlnclsK3R4QxkfKX34S0lhXNxizpM2m7/Xai5LiAem6mMkKchMLb+pcrkHty7bFMP3VyVnqqr4jtcg+8n9x+RcuuqV9bpQrW+xhhp0v8bIEmRKh8ks+p7Pr4zjY8dD3OCZ/My1P8c9ZWMDHsihHtSKCvlqOhuV9sh7vg7Zc9co56m28c+DffOWc6q2Qwu6gwx+xnsfMkJFIl9N51v1zKqNJQihjHzXWVdwR/lE9uOX3pGSCaPmBeTR+X+PGi1T4wOu8dDGmx77d/9hQtwi9qpN2aJkBYRWtypt2aJksVf1N6wr+zwbYjVX1UI/ac1TWYnxF7zIMZnhNs81YPE5UmWvtMAQkQPY0AhSqq/JA2i6YEa6U/WpH6N/RaxXtLbkL/eMvfW59F9oQ+tF622kTgrDyn06VygujC4ly7ksBhIb3l37/CbajXKF0ouyEa9jXzlJH45JbAZlEXwR1URlvuHlkNcjQOlfdy4ZGOeh+pRq34Nz1aQQDyc90vGDONE3q/9I6eN9IFdWKuof1L7LoXJypFW+3//6Sl7wcQAZVz9ShXBg9eGfB1tlQugO0mEY5YpqeB+qTkWB9EQHh09Ybx/pK70Sr90X2vR1X4sG56zv96hDtrG3/2wKPnIX3/kabyNta1FViTT5GEfUZONzxoNv6NT3fuTbSceoZ7Zh7rAnn29SnJOZ5dfxy1sT6ZRa6s2V1RFWl48kv6XuXEadTmSI54hVdQZB1RAGYAPEkqhoWUXwm189w1C0tlE6Ofb2po3UNe05eU9iZW9LH3Ku7sa97/1AhYEREydLPO0rZRGmZIOr/VBcfxus03RLb3oOTees8940Ncxypox6IWtEXWy3wzC33MPude6HiYVzyaxYwxdX+6HQaRjsXkfZb6txfPVMyKGonnCcUeHMUlcfzpN/pFBNJEU6ETSB3bdVFQTmO5oaj1HKkasq1a6tZqA76NvP1fc+9JeSWmn4NC6jbOB0Vsyv+sPeX/Jo6V396DvLPTHzFc8OFh1QkFHa9Icqdtkxm0wO9THeRtuWm044AF0LPrP7kRH+56Zt+1JYOAYJlYWum7zH7HzsLebacxhbPpEOHqGIvGnZNAojTQVO+C11G38dm8Zx8LiL9JEvQMfgrd3CFjoXRIQwABsomnHXy6PAb1Z5Ga2bX7UQYWcGf89fMKHiYI3Un4p7lQUVF3DKH3/S84zAt4ddYen3wDT7Tbz4abplOOJ0N00NsxzFYIUhocR2I8Kj9B8p+lbxgfutaNGDY7n/Io1jhiEjRXUb1I09+YZm3pRbyu83XO57Dmy/NZH+rx3Teag2Ku35TjkdOwqyn1HpNR6TG3GKX85TbVEj2mp+56j/9andh5pTwAHSea/dbLrcMBBXhYrWmSSaVLXivyr4Tgj9jTdQuc22lA9c7hCyWcVssPuRrxamhnbO+xaryCgcWv4UR5W2AZOfK21rcakSt8V9xMqynpXnd4h+0ppwtTuXN7CziIrMgrsGhmXE1eZv1VCIwae6oKZQkKMnD1AD6CRMPK3Qqiq1YVWoGAIlcz5XuvO12pElvxbS80KX9+Hma2AuvLQcsAe2y/p9DbQyGKfPAzMSTENQBgQTt7ZJ8MxVtavpk5aoDwOdlZFM3v5jxht7wlmNJOP1qsd8nFp+I895fqfO0g5+UtsYelO0sJX/cpuk8syo7ihtWqD4GSgKMiPLHve+NjQeD8Muz/FrQpJHw8jb69vxI95R8+ngmvaegswB3Ibost0yV+8/zsny6BQhxQKapzXYhBAk/uUaBiYTDqOwbmVo1W1Q+udb+p7zvhOVXvJ2Bhx52OfIxsfsLedV3ouCpKm49wFHioqIy/sI3xaMmph6c45i+yMRZ0MpHKwjiCIQQUgMpUtqE48cgRwFqQ0rQsW+kjn32t7hdPbRmGPkKu7etMt2wdanstny5RKdSGm2vJGWq+8xlttZNTGqkiDBfiOzdcHErRfbJzH8i0tCjlEzYnbNuty05VaktEyNt1acYCZP4YOaksnY8om63KYt6umcIxknx3dmh+HyBbf3DVlQY5NMqh8ltdYkLPrPXs3Ql3J1IXUtH3XoS7k10+rQD6NjamPy79YC7lBkdZxn/kT7fmdY+e8h0FNtVjFbiXY/SqQEgI6ZqTSLV0lL0nv6/c95d8/lPC6VNxqqBvgfs6+0NUBUmlHzUOMbG36WxhwnecmtXqklXzH1FxwvEf/2FZDTqU5IITUUhAdQEJIlP+TTq03jsPK3qg0fOYJA3DPh/Qsm0r9UYus0k9CpBxklQFrBiAzpCF86J+CkgqzS+d7luplzwd2wDFi2mrxplaKt/k3Yr7N9ThlxOCWXYRukSAkWzrMS6gvwUEJMtDoLWZwQVJ7CQ6OmlNzxLSumBYa8v1Y7ef7PI7rr+buFdhGPecHtfQ1zFxeNH2AsrBxljFp1BctHrS2CeqBDFABVJ9r1EomHVvNq+uLraS13uQKKGw4UlQTk7WoYhXVbSgWsbTaLDn+6vXVafpyrYhDX+ORbKq37sOIxdzg2oOcyhA4la7cl3+hK+8vhkwdQTxYEGK++LRjlcpU5doNOLjFwTxFUIjyAdR3FBTu/xLbtA3rLeVXWe1q9/VCAdMkn3+92e7hev4u97z8Abw6pvZmcha4ZlZ0ZzNFmpxPiFlk6rDMxFUky1tvTzZxT5oPi0om2GsntVFUSxF8jT5OX+eLnwO4JwdooSSikUWgiCB672nUaoaVXgOK/kPdtNF2dnuigUrIieB5AJCLEsSBhEUxbrbYI5oFecFvvGhlDtNuOBfNqDn0plxFzvw5oPWkkHeOvoaeh2cTyoGneiZo3P86TPrJE6evO2/ZMLLUc55a+ag4+aELo2l9D7UPNcFv7NPKxfNNzWrv/PmH/P/c4DXtBE9P3lIaE8ADWYbLljThf+icc348TeMcB+Woatu3PQpe/R7TPcfO/D1h2pBSGlN7tfb0r/rram8lZlCMwa5kG7go4w6IPA1Qk9qtpnHfkOW6yfcpk+/8LPnMu20VJkJZtAQT5PDf0PpUnhnc2XOcfIjNqa2W2zterca68nTftsww8lFoOlo+hWoUCjupCqpI8hRvfylBwPwhbeIoSWnCYP2nizaGyIvrtn7sYkYSFX4GTkVC21fdaLY6yiq9nLFqC4RqS5DE+fD6DVgxVHUS77djsER15cOFWQ3+0Vvnv69XO21+EZDjpkLBTTpNEJ/g4FQ+QztSyGy1XSAfLcdZCyRnSYa62rWaB60L2q+mkS0UGBp7HQ75hrqXjppvk4nr3FcP3lIaEMADrKNqsTjquX96SI0gLx0CcLSLDLNFpo6RMweUzBTSWGfDpUxmlMKYlLMoRmLYgU1zYV04CrLT6qtQjqyCOv9TGfmsNwqYEb9kWgCZJEiJJv0miXed9MguReR+gBgRIz+A2lH07aUgSODF4qFezdp1ZuC2UgaFWSZ7Cje8Dube0ldvjPuLe8rEAVBDHa/YnebViCOu94eLgaLmLEUtYGPRb9e1lHO57tfBdeqtBOsM0FumYkcLBI4VkvD+Udxw/eZdbmdgGkzUyIyypplDkLeGqLx+go8NhPEH0VP77ntNGuY4a5diJH/s518x6WWcIh6ONqEUijDBPTzG75lQ4WWD52CGJQT3MhoYwAOsgvrM6fxtGy8OI1DA7UWp+8wzMR6mFmVxIOQK3x87UY7B7nbt4xEpYLiVTp0emGXXBZs6gtWxrRL6aRoZUEFAx50Zyfw6PJIgVT0TetGzv/5tp5L13ex9T7Twj6ZlwDdVYQ2ndJ+j5oH3PvvIUW/cVmubirVc7sb68ky6/c0z5g2GPKywJC8VVmV97eAd8MTOwytLTy3hs+UQg23A33mIY/+/B463PGDWPVfdcGiATVNMEM9Qe63yYtNUPkFl8QLfcysQ2kn7XYUs1meCrqwdtAfMJou59oXIdq6gKECoSoRl7b1RcwnXnd8ZpRUczvgnqyQLDCbSKxGE1maZWesrH6D2lISFyAOsgoSpXpai1nFI9+wuRV1iTMzmfNlNmrcWCdhCwONayfv+EiVt07Z60vrYtMOujXOBu2daqF73k7XxccS5aYYrROH27e1S1AXqwPLNg67TPFKrvs3+/zpjBwvng327KqCpTRmFK3BtB8zunxL0Z/bylvCUoz3Vy59V+cCt8MQNVdR/Vtw2dby9jwzFY7NXqkGu/CMSoIlnjyhV2Lip71nBiCwTNHQt2DXmx0Pos3JxNGcUTVXB/976qAd68WqmI9EaB/pbqznW0OsFbrvRCaXuepW3Lz7kdCGwTqr1+pHy0pf7fMXtPaUAIA7AOEk5+WaS9cBsn2EmkxKAwwICansl55AhIydAvT8mkbMTr+jCZ/w0/sZmlQyhtzwvwnvr2tbXjX9jheZB0Gkn83B6843iC/7F/4r4F+j9RPL1EfT0Z4TZA//NYia7xfMeMFJolOQ2LFLR1Rjlovp+pzvZ9DnI+7B08jy0p5wck+fu+BvekakzcpyxyTDY8xCLHZMbErfDrdVpFTORrtNPFv1+s1svYaAxW+xBHdfxhosmrBJ3sGMieaJhNbLX9hip0yZY30uRfPQJkSdLz1xheS1ZzNnvJ23WSVFpoVTdBdIwn44eXLO0vmmgTPDNjTOu5vFFp7+41HqQ/s2a4VfS7h7HlEzng1yP5AOkcG/Yay5Xehv3KvfuA2L+nNBBECLgOoOVHafIO1Rm203LI5t5wNtf9+2sutG3mWttqyrEZ5Ibow5g1iklrMd8OArbtS7GvnKTPh0rOQE1oglpsHMLw7xbhzwqlF2PNeiR3GgnrXgwMwakKigr/57qUG24eq2uHFYxg+Xxf7ThsmGdmFE4KlYMW9DN5+nUaSYvUNEFlOUzOh/6TlgP68N6RE2UB3if/SZV/+O5XpRXTy6/nnyZdX8LGxGNn1p7OtytEMwMvdjSKYaobTV4laNjVJ83Eai/lhZv2MupVdy7d+3cYX7d9pK2GOdMU7Sdj2U2svuJ1Oi9wG3zh5mwaTcgN82q/mAHNz4J2g73r/AuG/NlvICsTDtoE7xXH8wYCzn4RkyB94v0NN7NOUhv/Ngj4zLxfeT3qJV8fEAZgHUSb1bXELAzsY5hVhBfy0SoWW6TEo/rcPJz4h0piYCZn2FrMfePNljfiWPg8oOofJMd2oT10FRW2qpXrOsvudb7dIox47rFHQZmk09yKz+oLL3TFbM6rAoNt36C0nmf6fZk1QC9zudiytzCgQGR4t0qvoJZnZuTltdJGyf+G7t+3tdYIp6LV4Hywqn+nTaoOqanYKaeNdJAxtuXe/M51ake+Vjsy/6cinH87QpBUWWuYyBmZtafTtaFLSgx4XzSKYSLBzCgPVdR0aNsawBY0T86ol/JetSkFJ5tS6uPBXbGt0iAscykGBpXKA/Z3AKPUX3cxW+Lqh5GZjYIcdtsxyxNycIew76zM4fQvGPJn6Eu+3k69VqVVghlj/j2XzfrE6ww3zz3GqJOU//lQ7NevPCbuKQIvwgCsg2izurn2HNNZXaVhFp5Mg78nSbt5OFdN0j+wYngmV1kk4zbGAh8kEgUkUopDt65T4zLG/nVV6EpLCOxxGiIEJ0uQyWFK9nwNZ1xguI1ZA/QzH1kesK2RF6uq+N7Qjfq21jhBKlqtnnfB229V0pgiXKrEWqUr5djpJ23lfNuPdJZ2UoHM/5bfC8DCvSksnBOF793EY5djn8O95bcbtqeLo4KH495Gaf1WwPs6vHaMXGfooiOzXq3RJnRRk82wkKoUG1s8OY/+HlAFiWFl02HhCaDyNygoLvf+/3X/3oCEwrnSdlpIR9mhtGQPzZFRg1T9q8hF++glb4+o4GKj0h4lOTOwM5ERBmH4YO0bH7+iI5MXa7Iyeq1KrQWcFVzth+LsNCxoxEQjqpNBv/tkcYVKh8nLgNqLJAgqEd9+HWWF0ouepXN5LfX/6F76TeWKKhpmRp4kV/uhYHDzqHUDwYRe8nYUZLaaPEgOqk1QgS+Urrzvab6+xH4pQ4ZPZsW/zAWDgxJWCM4co+rRWOziUG1oFbE/fwzrXw58vEVBf9I/tP7X98sYa1vKNqWN91z5SOnDm6WXVr7Ha1SF530xxcRjN9z2lanO5EL7ZOa4hnO1wXVnJdRXk976oPIquHja/gqXyRsCJEjOLJ3nM2pjD2icLJleC52lHbzqeM4rffJY+U1sc52m8yKaYTm32g8FmfJBM3AuHG1p+3DC8Fc4v6OrfRrDygPPh8X2h5njGo5pVbgPWj9is4iJPzE3GRRUC8IArMMcIZUFZzzN7E0rq9/FroXXtAf0tg9j1hBszlFLoTQ3nnUlKlcaGX9WBWn9Huhm+UtWQ3W+WPVi1Xnylrjz4nw8qWYhu3BkjoxC6weKSmh9YiunSoe4dFl/YLrneJXniv6o1jqFQHCZGXBrG3Z69WgIj11gHuLbroFBvdOW8q6iLNxsRvA8v0cD2ptpeXLBPKA2SeWZUd1N99tH2srbjhnsU5uyRTWe/Gl5lKdIfwW8P6xQrh+u9kPhgknuPL8QWA3Dyygkfv4w4ASMZWXcVeGTCPUot9IO0ipG7e40tuUXkpGawClNGkXlWILqRRiAdQijC29F3iEKPDO1u1J7cEZ1GmMGD+hwQ3I1wSEaB32QyLhQkQ3DKjr8Q5BUCtL6ysMAAfqERmFnUjLdBnoUCFYgUifxVMQaa/n5E57+pH9o/f3z/0Jd+SgJFXsAuND1g7nRQQUuk9tk5YNY7xVc8kN+SP04vcdOf/aZ6UweUfVGqbc4rKTUm2elJgyiZOx33PLEHP2kENwtI4/m01v+I2xB4Whg5ZwN5gFdcHtferZN81b9at+7lhV3W9xHAAwoCz352xV/ne/IUFIy2XjIWrcR34Ioja37Cul13r2w6Y0gqSDhheF7yduxHd9PMznN8HxoJheRIR0xTCvZll+o6zDiLypfFQPNqN2dhiZsHW4PZUHtIGRg6hBGF55v/kuwC7PKaA9o/5ubFpKrjb7AJmxQ2jOvYiCz4141XP9s3FxS8C8HdKNpHtq2LzWU6GjJERwLx7jX+yLb2Nt/NluUtmxRsnSeh61KFluUtuztXxmCC1eeR/NiaXTMSNG9rtP4VMSGRRj6k1poPVveiPPDMcQf3+NdN9z2lan8yzNxrwCB/VKbcIzO0k7utb1DO/aSwjHsuK9FI5kZIzSPnZqg98wYyog4J3BMMnho5y0hfk43nbRJ/NwepHK8sifs9mXu3t1vDsG5+DbecTxBrnMC2XKE6Q4WMTpnmyVI5nJSJmiyOPF297WTnr+GZlIRXaTfPTJVO0inkPbyXmTJQr9uncyMe3n5wOlVMoiX/JDvo0kpRUX+RAtJm50PGZ4wt1FayVWvrPfkCHsMYJ9+xEEFs31kszpJvwOqj8HtZvZI4/aUADYJckZ18b7WJim7Zl0u8v1iEGEA1iGCXXhW1kdM0Ad07DX3VpHZpJ7JF0p3IFDIemLFeAq9OTj6z9RJ2hUg7OqLLLlv5fZVDyP77bf/QhtDy6YztGy6N4To9jy4l/Vf6HPjtyBI64vmxdIwbyJfBzGpiA1JmOF0/+IgI/wNvcbS8UBRX46yyPEoix2P8rTrGn6jNUUkU+7xFIZToONqP5SSu7ZyWE3WececUqXOpAocJjUw/cBMR9DTNSRb3uidyPh/vy05wlx7DpfK673nYW85L+CcrgpG52zuQ4PISI3HLJSuqFCBjfREu3eZTpcvbwkZy27iS8d4P529u7wGUTCDfmHSUwy3fVW5wKPJGeDRD4JRJObjLQfYuq+QLSnns3fwPNTkQE3KcPNWtZD0j0oWo8seYIuaBWi6o5WTRqO0ksq0Av33HCeppqLytu1LdZOJnvIvgMTS1V/pthvaNdN0zE/b5jD8i0tiyiEgMEeY5HWIq885lY6Zqaa5YMEuzKpgVWS2Npt7G8lOLFfOIZXjNJeOcoUtlwUVF7KH5mAY+lVJppiWHCFRLtFV9AXm8xlXDfomvgd4Hnz7igarbvXRCPPHv0DEEReFYgQTvEnjNUHYnWQi058M1hfVLOz6N2lv0H6pOfY53F0+1hMKjvD3iHMwqfxW5tpzwK+AQ6t1COhuE6Tzh7s6FKbY52Ff+S5GEzdZcu97jv0lbFKl0ZevpuH45WkgPqKP4q8XGVDU5Ihzn+fv3hRQrKJ91rkVQ1l6T3/6znJ7qry6fDIonzwAqkq8n85egkn/Wv+8ufILp0BmfGAxWxi5kUaRFv8K57zHNldZ/mS9chbfO89h0fGzAuRwoFKz9ERyN0r8ZKJSOE4hyQH7XGR/hE7OaYBeWD5b3oj9gxz2qU35RunH6xWX8gduw/LjX45z9ZdLOJh+LqrkbhJQiV6a5nOlO38vWlflQi1BzSAMwDqOdulZYd/Rk5SUKWE1SwfrIrO12dxbH9Zw34zKiaMQO4VqEk9XXMNO53V8r5zOiPLHA96/1P4wf5P3MrLsMfYrafyoZHlvtkZ6ZBBYNWipr2iIfq22Ea8DtR/aDZU0HlVh6LA8eZFXtAar8tTCbL6GXoka5zU0dF1fqPAKNreT9pHCCcOHbThoYtwvpy3Adny/d/kB0plafqOu+GPrvkJ6kWdBdugIHDM/plsWRe/xa8kRpCW3ki3/w5ocUiR4Oreonzyg8176ftbpRr2Ud35puY+3kUG/V21Kk3aXQwtr/X3NmD2yMw98sMVwnXei5y8TFVFutsSrKXfxTaG7YMS3kKUxx2gl/eX+vnJ8PXTue1+hX5WxTmfRr4DKt7e8b/6kN3xMCkOWScC3AcfxPQJArtKJrUobd7HNslmcEkE/ekHNIQzAOoZ/ReNZGcnk7Xff5UN5bSLNEbRcuVqLzb1zru7Gve9+T4VqrJcFKvtJI84jaB1QUSdJ2FNbsPVQFiAxr2IQN8etDFpJ+ML/XsoLPh7P4rKKAONPl/gesl+r5Aktz67xBH1//JPGjVrMRQ2/ApqgVEHmKFSVp3/3hgJSWVLRh2Fx6/SiuOgFmyvHrH8ofnRX/5DFIL6sUHpRcNv9jJ/1sq7q3P9cWPJDPr1Or57Jlizh8R6+xcrSntVyDAA6DKPktGyvl8zss+qwOMFUVb1BrwId2MktFQ/wV3EFp1Vx6EO7ZpoagNpEL5y2m8FYvicOPOkkh/0KWbLljaxQejF7ZGce/nCrRxonMLJxlbyGn9XW7FfTSZcKoeiILlqjyWZtU7P4p20Bz7hG4RslqSyecy9ye2oDjwMSR0muHONh2FWLUSFBaIQBWMfwr2h885ZzOGf650Bor43+RmEdpXWfEA/oWmwJ52G48zva2SczpGx6wDpNL2tq+U1Mjptn6Bn4U01l89l341heQRl23lcu4P2yCzx7MKkktPB5tW4e6UkOC7luIQRp/bpiKAbt6vzbBkaKPqTl9vJpVGW/hmjJ8+/ehKlPu/edcObgKskOaR10zKRXVOCwmsLj5TdwkDSvQfKk6xp6ydvpK21lgn0RoBdsNqokT46Ps9xL1pe8AydCihF/vOUA12Q2RVWyTCVNrGAmVSShkikdppe8Hbgson1bwsdLZgmLE0wFCRuq16Dfr6bzj4q7KCAlqnIovlRvVb6RsYXXQzu0a6ZpatBS+8N0tu1CVdGlLpQezefMB92CzMPkoyYTGj1LLiuBdgNNUpACi22etr8Kx2+x/jH9CNr6URAVhAFYB/HNq/n5QGWMJ1Spf7AbRVCCPqBjoCWc17Pm8IzIWC+rf+nzUAFr0meQcHyvN9SXVTqfW8rvh+Vg7M0xuLn1ly19Xl1f0T+seTAMQ5UmeYO7bqpeCR5d7mJ14gkLBsoMtYpaxxlf6RWz8/jh8lsCQp+aKO5G2jM+bSPysf1B5Uo+uKSUTuddGlY7MY2Pt+wPuc2RE2UMWViGpl2olzTxjFmFA6QhAS1MWkaapTZoRCqMHAnaBCPo5KJNX5TkTCjKD9LVw23AKio8VzGC3WpLCtVE8mkKRFcOxRfdRK/aCRYD16RxPPdAv9QF71Y+WoT+slmB+/fcC3XV6tr9UcGoltTb0znpofA+mqBGEQZgHeeG1yq7gPh7baI6ezJ9QMdASziPZy1dCq6X1UvezgqlF8W3388tPmE2CQVZtnna34UW/F10uUSnAdaqBnV9RS16MAJClSHyBqsz2TraIa2gdBjmzk2qxo4zwVob+vdF9aey48MYP9NRP+FwfDENZ8s4S7+Jv16bb1/bUMRJKk/HvRxQTKEi8aPSllvK7+dv0l7mO6Z7t9FyF31TGz509WeTcgajbSvoZdvu9ShWRRi5WpBtlA+agf2D0SgqOiPQ35upqPCi60rveq8e4InSarlH6iZ6IQjol+tzbb1/R5+wWzxuyy/EJkme1KBS7o/7L8tdvTwhX3/JnUAtwo1Ke561v8xC+2TDjiNnSPs4SgrpZ1wAsqw7zsKK/vxGa4NJt+SevNViVEgQGmEA1kOCeW38cwjDogYe0BHhyQ0ySuT3DXv0lbbSXD6KfW98QL7Ru0OdjFxcYrj7gJvbaRHKr4TMdTMQpLWQNxhOVwyr1JrQtNZxphoxa21o1BfV8L1XvgEfjDGtHE6XCuGTByz9Jppwroavrie4z73TyGcHpwS8d9H4AXQqVFA+2akrplBTMplw6C6OkMp6NVVXXGLUIaeQRH5UT+eeijuhAnbGX89+Nc28640BVlIO/AuHIsHVfigTyicy3f4aTX0qXPy9mZoeoL/Atzaxq5Jn26A70MlyFz2nfFqlzxYp2jm0efIguk1byQ/K6SxyTKaMOOIl3/PJOFqjecbH2RZ5ttKMOLd375m4uZw5ahrOJokA3hSkH5TTecM+m+HlT5AZcA0UwaU5tf9sEARFGID1kApFZeKCzVzSMdDj5J9DuG3qJZS7VO/rkNTAAzpsfDxr/on8vmEPLX+Ld18i15nG1PKbvOE+qfgI0CjA2GvCMVpLhypvbs7TIg/z+ITSzfq1ypfO4vcOPt7FnV/WigSP1i5N85Z8+8jFUdt3TGB4Hlv0ciamI6lK8AnHMShb/SSOi4OHwGyy5PE8G6GiInuNv8pzs1JmyLeYIkk9yR3D+kGLLvzh09ZwhdKLdUPH8uwb73C29Avfq2eg6sSKK3PL/hn3LluUtkwpu8ndT7sm5YAsskLpRXx5GffZ3w3pzVzkmGwYpl80tjedWqeFf3CT7kBVkc7xJS1RP0Fv3zKJ7QeMRes1NGNWSw1aofSifOTrOFZOAostAVcovShR7aRRyCnSX7r86NTLp+DsXOnN9j0OwPuOx2gjHaq8BlJOxXlZjpCAqQMIA7AeYdVrU5N6cjWChSpSVa2U8oBKIdyx5RNZofQiLT2dZuwP8Oa873iMU31vbjcsxZmaEPlYTSQwTEPptSTBs+D23uFNDOophrlpPt91sAmH/ctZkNEx6INwwW29g4T8KtvRNaKULOkAo2yredd/IuJTTLFqcQkQ2OHjxte/A84I8kndPFNxNc9wtfe11tYuapI/UeIgaZa8mR85JnnW+3nx9/8IrS/wvt9SwYFJKoaRdE6kBQwtU+N1E/S3bu3lLfIzwyhNw9V+KK6/DbakRVh5jru/pzPYxwalAwmUUkAyzc42LwRaofRiZVlPesnbq78fvSDq1NtOIDNnzuScc84hOTmZ5s2bM3z4cH7++WfdNiUlJYwbN4709HSSkpIYOXIkBw/WnpZdJKT7yHPUq/Zg4eBtwaSaiohIfjaulj80xf4WMgrN2/djbdOZfGjXt1tqI7uNP0UFNbUVztP6VX28HYZRMm4z15Q9woSy8ZRcvxgmbjE2FGpJgsc9Mai8PWzfH177rnpNON91FDrkLHZM5lvnWBY7HuWGuM9Z5JhMbvJDZCQHXus2k+oIs+V6PF5on02ttrWraTYq7ZkS90ZAyze9N3MBf6qppFEU0MklXQ2zcjpIKob/vaSq+E/QzQiyyjMw98TA2xLQglGmIrNBdb9ng9qhUjswCFqRVDjHEcQG9dYAXLNmDePGjWP9+vWsXLmS8vJyLrnkEk6cOOHd5u6772bp0qW89957rFmzhvz8fEaMGFGLow6fpXdVGiT1qj1YuHQYBhdM0t2cf1SyuLb0YX5UsgzfIktUyl3INuRLHvcae77tlrQIXfnA6dG7uVm9OWveTdOilJpJtvYtNvLHSiu7eoWnGjWUmpIEleF5E7SQnx7V8363MfGr0krXCkyWVJzH/jDc74Lbehse580x1jX9fD9XOG3twqUqfWI1o2Oh3bjlG7i9mWPKH+AIKYF9dJuHOWHyk3Dyv7fopXNqBl2LPIEgAuqtAbh8+XJGjx5Nx44d6dq1K2+88QZ//PEH3333HQCFhYW89tprPPvss1x00UX06NGD119/nXXr1rF+/foQe48dAsO5VftJO0xeQdsHl9VM1We0ST9d99I3MTwYmtyFq/1QxpZP5AD63KADpDO2fGJY/UKjhte7adz0C6g1CZ44KsixzyH+7Ssgp1PD6f/pqUa1TJDwvBby00hPdJDKCZ23ap3a0fg8/vnjgP1Vl7EWFcLsfx2KFUov3nZpuan+1nilZFOOfU6lt0yScKa2CH/C5Pcbmt1balI6Z8Htvcl98EIyqpKSImjQ1H4yRw1RWFgIQFqa++H+3XffUV5ezsCBA73btG/fnlNPPZWvv/6a3r0DZ9KlpaWUlpZ6XxcVxV5opEGT1MJQ5sK/g4e/cK6v3MUKpRcrSytzWh6/4SL6zyuu1s4cIRPtw80brCG8Wl9QI5I0sYSzy9/hyC/whQVDMETI2HfStvSuftw9ew7n236ks7STCmT+t/xe9zr/83j9y3Bqn6D9ozWa+KSKmGnudcpMYW/BSY6e1FciR4NseSNN/vVP3nF4dA59+19HeL7kTcum8MQFfP7kElLVQn6jdcA2vueo5tmPaMJk8d5Sk9I5OokpgSACGoQBqCgKEydOpF+/fnTq1AmAAwcO4HA4aNy4sW7bFi1acODAAcP9zJw5k6lTp1b3cAWR0qavYWJ4QAcPj3Cu1kzdX+5CCy8BTD61HwqfVeuwLXUn8GudFe1ka0tCvH4is0brqkOSpjbwLXYw9Yafdy/Kd2+YChOrSEhGHXKCdHRxxMl8o7a3dB7nOv9BwdIXKb0qsCOMPy1SQleoLri9Nz8fPMaIlyu9iFWRA9ImNrtucsG7z6Met65j+fufJ0IWUWj7/3xUPL9/MIsrKmYYisBrHCCd9BHP4IzE4LR4b4lGDqDv+WH/Ix4ZpdZbQ1YHsVhh3tCof2eVAePGjWPr1q288847VdrPQw89RGFhofffnj17ojRCQVUpLqug7aTldJZ2BCSGq37hIKjMc5pafmON3lz3FhSzZW+hLrH+4y0H2LqvkC17C9lbUGz+5giSuq2ydV9h0PXpiQ4SKdGFJg+pjf1yLNWQOW/1Cp9QsH8+oPe1v7cpbwnxc7rxjuMJXnC8RPzbVxA/pxvZcmXlroJs6TzuX/o8QwsmcuW/Aqt+I0GSJDJSE3Q5iVUpLFvyQ74FHUsMC2WW/BBM+ki/ja3jUJ51XUUahfpiD6mIDyr6M6FsPNeUPUL/0ucjT+OQbeT0V4L+Jp2lHVW+l9i2L9WdH6nvjiDXOUF3ftQXrPzGguql3nsAx48fz0cffcTatWs55ZRKMdWWLVtSVlbG0aNHdV7AgwcP0rJlS8N9OZ1OnE5ndQ9ZUAW2qKfTR9rK12qngHW+4aADpDO1/Eaee+zR0J6eKNJ/9uqAZVY7uFRnb0xN7sOMpXf1Y+bs6Vwf97lX725mxXXGrcSiLEkTDary3QV7ryZMPMU+j0yOeJcbeptMZESkY/u9kkTgzmnbop7OrbaPeM01JOCYvudxZfsu62zdV2j6W/vrhFqVA9p39GTAMnfP4sOoR500kZqa9CxW2VtYSsG3X1LavIv+vT4t2wAKTpRTWuEK2OZkeQVr1O46CZMFYzpTmtmbbk+khPo6LDN8yFDapS5hyLLAdf9vkItrVp4euCIMsuWNOBY+j38+o79kVV1kb0Gx6e8X7bZ8AuvUWwNQVVXuuusuPvzwQ7744guysvSVoD169MBut/PZZ58xcuRIAH7++Wf++OMP+vQJHVKpCfyV88OtlAulzF9fqTT+tJCl+//+UXYnR0nixcHNueHjkloJq+Rc3Y173/uBCoMS0prqu2t2Mx7erZXpexxxMn9KjdmrNmWj60xer7iUP3DntgXkpkVZkibW8c8b1bpDbG3vo5+muFA+eQBUNSBcLHnki6bY3wLlfu/yjZ40BLOwZrB+xMEIZewHFJbJii5kjUHqwaBn1/q8cl93VnoWA+7Q6sITQGXo2X9SZIT/NpqECSrMajuAxh7D3UqXEsucdj6QS2UvXPffilP7A+aV8qGQUZhin4eZzIyius+PlaU962Q4uCoTX0H1UW8NwHHjxjF//nwWL15McnKyN68vNTWVhIQEUlNTufXWW7nnnntIS0sjJSWFu+66iz59+hgWgAjqIu5bacdMd1eLHcfdHuCPj7Tk91mdLe0hUg20G3qfyhPDA48xvHsr2jVPMny4aYKu1Y3ZzThUBelGRZ+bhkke1K4G2P/TN2/UkN3rkI/lm6r5yBJkcpjCvZUKBM9PvImrcz4mgz8D22wBIEFic7DQ1dFXxzGUse+LbftS7CsnVXa+MCnemD2yMw9+8KPHfNF/yDgqeNr+qukxcuxzuLdiHBUGuYa+kyKziVPwbirRJbCVpvuz+hbZREIveTuZ0hHT9dr50UveHvw8q2Gs5Q7HxsRXEEjdm0pYZO7cuRQWFnLBBReQkZHh/bdgwQLvNs899xxDhgxh5MiRnHfeebRs2ZKFCxfW4qgF1cHkoR148dru3teWc+6Aj7fsD7n/KuX1YUHQNcrkXN2NOEvCwJXsP3oSBZl27KEyRGWQm9ZfqfMFINWCxbC4dKJyu5ZNEvl8VDwf2h/lWpuPhp10BO27T7/oLks5er46jla1/dwhyTH6ynOoLN7wkf0Z7vyOxfaHDfezyDGZ4bavTI4iMbzJLhbdaRx1WTSuH8O7t2J491YsGmcswm6mfVgdaCFycHvtzpXyuFz6mlOOflelAhCr8jE1KTMTTYL9ftpvLKh56q0HULVQuhYfH8+cOXOYM2dODYxIUFP4z0pHvarXdTQLPRjlMa3YVvlA3nf0JGc0Tw7YJtzwhr8XoWNGCgeLSmtM0DWYF9KMoS+5CzvcUhvG19aiyyU6DagFrcS6gMWwuJrYAijxvrZ1HMqd73lyDKUjla3mPBJAGR2GsapjWdRb9gULSQZUfAP2lZMA9/lrFrJWkdiitGVm+XU8ZJ9PF01CyECWxUr1cVUqlKuCI04mW97o/U0AePdFb39xyA57n1blY8KRmanOnOFoUFu/n6CSeusBFAg0zNpgxckSOVd3877W5zG5KSguD7oegnvU/I8Bei8CxIagaygv5OPDzvIpXjDZ+LQG2oXGQ960bO/kA/wqq0N0D1FUyFfTKT8l0Ju1QulF/9IXTFsHVlX83QgtJGl+WvhUfHvC23+Rip1yTpfy9W3XtJB1ozS9gHJKplcCRpsUaRh1uTDbJq2K4ddwsW1fylx7Di3Rh2y1Yg3b9qVh7a+RI453nrgnaMcfRQUlpRX/N3lCpMOudaz8xoKaRRiAgnqPWYjIP/Qwe6R5XqCRIacRSXjDP9G+pgVdjW7GZqHEbHkj160bzFKHcYjv9GaJ4kZugE7mwk8yxreVmOZjm1p+o2n4PJr9Vq0E/y2HGo8f9Ia31ypdKcdOP2mrru2aC5ktShbf95jJ/3O5hfeX2C9l61W5bEk5n70FxZYmRWbbtEwNrXEYNRSXx9tJQDGP9tq+/F6osJCYqXuzecefamlF6Y9Pl5becl509Az9yEhNYNXE/pwruY/z3qUV5N5/vuhkUovU2xCwQGCGWehhaNdMHvhgi+F7QhZo/L4GsAWGv35fA61irzOGVbmPbHkjc+05SMcB2gL4hPYUQGbWiM50ad24znclqGrIbFt+oafm3I2/zEWaj2SMryesU+Myxv51FSuUXp562epFBb9ChkD8Q40/Klk+odtKyZ+9ajMKSlQkpa23O8ZHSh+uUiqrwr2FQz6n1pESGDKnMg9x16zLLU2KjLap0baVFop5KP4Lnj0LhjwXXpcTk44/XsmqampFGVDoA+Sr7nB2VGVn8paQ8skDLHB6jjO/6t1gBFVDGIACQ2I9fyQc0hIjz7mzlKeSt4T0VRNpxuNkSIf1FZurHoV0avwGZ+X3C+wj7fdUU1yMsn3BdWUPM8k+n2ZSIc04qvuMe9WmpDeKq/PGXzS46hUt19RHBsUnz3LlPeexQunFp6U9sXk8LEvsl3LlVVMZL9l4NNEettRTJMwa0YlLO2UEzRvcqLQnX00jQypAQtUZrG4DUIKUTPrPP+55xwzMqsJz7HO4t/wOKgg8R+pcBWiQYh6dkVy8M7LWiAYdfzJPH8CrHs9ftI3dYNqDrzieRxo1D0Kck5aeFSYamA2thWSsIQzABkQ4rXfqU5uelqnxAd6uOJtsyWgJaSx6Oh1kSIfJdU7AQQWShFcs2Sm56mx7NHn3V3ypdGG958H/mH2e4WdUizKhxQW1PdxaxyapuFQDGRRJ5elR3b05pCoyFZ7sG39PmG8OYXUxzIIEjILMg2X/w73295DAr/ftl6hAk/7TyLH7ynsEVoU/bX+V4bZ1tLvkDkMB5ZqSPooaQYp5Ao1kIrv2PR1/AGaFCPf7ahx++8jF1o9BYKGPv5dX9Rt/xHqKIbvB1J8WknUNYQDWcfxnX8FmiGY9ZxsZCKZa6k9bh4g05y6ksbh7HRS5QxpOqfK7lyQqKza1ZPmsAZENvhb4ad1H2HOfZqnrTsBA7Jm/vJ+xNAY7f9Q02fJGxsctZmhZYBB3kf0ROjmnUTqym2mKQXV7wjTJYi8+/WY14Wp/1qrdWFvWzfN+X++e5zMuhF2zWtHu+HcMWRZ4fSxyTKZT43K4dB6kagLKnvHU1QpQTzGP1v95r9qUAjUZCdXPSPZcK4XHOCVGr31/7UF/A1byLfSpyvh97pHGROk4grARBmADwrd1ki+iTY8bI0M4pLFo1fipY0bSyOV24CHTpve+XR3UBtb5wx/Nk3JYdbcdM5RBWf4gQ+/83lKOqdUJXWhUEinhdCkfV1o7th1WAMk058u2/Vno8nfdHjSR5YDet5rBmrcEVk4Gpgd8bhXgkhnuKt/Ck9GRPvIxXL1dSWoSTzGP/YPRKCo6YXTTayXMa7+m0m+aczS0ASsd45Sq3rvq6T2yPiAMwAaEWXul+tamJ1iv06hj1fipI0aSjMKjcfOYXnEDFcQZNr3XujooqjtBvXHr2GidGBTF5fYwHD/o/i3a9I1auMlXMsU/R9LduaMQio4g7wkUX64uT1i2vJGH4ubTRjrkPsZx2O1oznJXLxwLl2GU8yUtHANxNmg32Lt8wW29DUWjF43rR6eM/9/evUdHXR5+Hv/MJJkQDEmA3LmjCIaLWpQxVdvtmpKgRVTWRUr9KWu10lClaC92t4Ce3VXq+VlW5Se/9fwq2tO16DmKykG8hNtBA1QUG0BToCBySbgESOSSTDLP/hFmzCSTG5nM7Xm/zsmBzHxnvs+cJ9+ZzzzXVGnJbzTQcb6d110nvf87qWBq0ElHXR2G4bfrbfV59zdtdiXpW7JY+5+6NbRbvnXAt//z/0r6jwvjG3/W8bWS+ljIzt2dHp/OHFVG1wJsag/3U46z98h4QgC0UOutk+Jtm57O9joNqWHfbZ7JVntEwRdIbh4srxjZHm2S80vNTnxf1zr/EXSP2ZWuBRrn3O9fmuJxz936Y7SP29n1dvMYpJbdUCGcfehbMiXPUdPOONDmD2nHN9WSUgMe2xuLgPtmbkvfru/ocEhDdVQ/S1zV/Hurxzgd+nbM18/bH4cYEFgvdO3lOdT+666Vv2uvR0sfdWESQd+CW8P2RfU97ySV1X9HW5JL9WbSAk31BLtWFmpcRkPUXvtbvGM0XIf1tXLUpITgATbtNWnYKz07UZy9R8YT1gG0UOt18WJ5m572tmG72D18u62D9bv8H7NBdjqIVq3Xf3NcmK3qaLUu2Gmlao5nXmiXiegNF4JDmzFIQbYzu1gtl0xJdjQGhK6W40KDdZWHehHwbwf2B1+nzuFofx1A35ivli2Vvhn0PgGL97bosuvodfe4a6/TSQRqDq7epjb39qZGJep3nvtaLI8e5FqJ4mvfyKn9ytfNzi1B73/TtVC33Taj5+WPs/fIeEIAtEh39pwN9/60F+uGxes09flNAd1UXd3rNGR863f1ywu8vcVOB7GgrytRz95fIkka6KhVlk5pvGNf0F0dfu55KPrDX4vg0FbogoNvyZRg8aSZQ0obJG+QrvJQLwLu647u5lbPgWVqEdh8M+h9AgJruLr2ujOJIMze807SvzbeqUxHbeC14qjVwKlPRN21H+wL88aE5r/L1gHW858Xha78cfIeGW/oAraIr7sp2NZJkd6f9mJ1pfu6ryux9xeLDbJ+V59Lb4y9b7UXumvyao8E7dZzORp13KQpW6d0nXNX0NmjUSMMsw/7uhL1z6emSruM9Nq/yMjRqpsyvC0cLuPRzPr/3mbB5u5obqk88+1zttd120nXnpFDjlB07UXZJILWk8U2mKv18a+/p18+vUxbvAVaMXu8nMNvULIrKSzlaV2ujgQb733a4+v6ba7nvqrXGfVRxtiidp9n1xPF3V+zMl7eI+MILYAW6WjrpGjcn7Yroqr7+sL6XaHYritiWnTXuBxNQbv1Mh21+j+uf9NfXf9Tm5If6vbep2ETzuDQSy0cvg/1rq4P+A8z+Nu9drvJdNBSGVQXti8LSfCNgUkELleStpjma98MvzHs4a+rOtq33OeMUiQ5emeLvXh4j4wjBECLdNbdFOn9aUMlVrqvo1Z7YSaIXNXI9cbskIylC7lwB4eCW3W+dLvuavgfeqhhrs7PekuaV9Hr3VuHTp3z/79KAyQ1L+WxwztcFd4ROmgy/fd7ja+tru1YLIfU/cDWzt9KlQaq4Y6XQvPafS2NnXSxh3sSgS+c73/qlrDs4BIKHX1hhn1i468WAeJpm7ZQiMXu66ivwxbdNTmq0ZKMFXKcPdHx7NFoW8k/ErMPu7GLQ6j4dhhp1lxDwdZt9LXKNbrnKumLN4LMin6qObB1d7hEO9uXhey1+1oao6CLPR7F7KLc6DFaABHz8tJT9OG8G+R27NKtzo/1ekmjNv36+1HffR31LoSZag2Q4+yJdg9zRHAQfodadFEGa/GSFBfBYfH08W1ua7mUx5KkpZKaW+XmeObJc9Pj0rwd0j2rpOn/0fxvT1sqQ9C112GL2oWWRkcakwh6yveF2WdsXlrA77AHLYD4VrBV9mPhw3HX20p79zdakXyhReP/PR/Sdd5s13ppmHZF40r+F4JD8HUAn4qLv48Z1w7V2PPbg27HNt25QWubrtYPZj6iG145K6/vO78zIfa23Sq4tbmVuZcW9LZFsEW5PU3G/zvsQQBEs3ZW2Y/6ENWFBWJVcGu3ulyjvns2zFquc9ehaF3JP96DQwfbsc1KKNPSptvkGXq9vCrr2vO1+iLY5Ukh4RCLwTUKuZzGX8cJBy6Ro0UdX9QMX8QkatlCbQJOF0NU1Ol0gVhHWMemxWtw3OodI2+/fDnrYngl/xgPDu3+bV24Btrfjq1WC5P+rL6Jv+va32aQL4Lefvkqdv7X6F/3sR3xel1etDisY1wcxgDaLkpX2e+SKF4gNp545ZTnh74JBfE7li4m+bdja96G7i3X7zUrca3ecv1em5If0iBnjfIdJ4LuQ9yG74tgXeA15ag7oheSlqjYubWXXgTChjpGCwRA28VyiIqyBWLjWdOYqc0twQzCjy5d3I7N0dk10MEXQV/PwMKkP0fnF0GbXeiuv9X5sZxfbeq4fnpax905VzticemceEYNxImDJ8/q5BmP6hu7eVHGcoiKgQVi40q8j6WLRV382w62D3GATr4IOh1Svk7o/Nfl0qj/1Ob+rnSz0hUbYt0dt92TOo7VMeLoEAEwTgTb4qdLYjlERWKdN9vF+Fi63hb2kNPJNeA1zcu/ZHQ2kaOLX/A6bUlEeFzMuO2LreNYHSOOTtEFHCe6ssVPUFG6yn6XdLAVFWPTEC0OnjyrioOntevgSSWquVs2UY1yyKudh0/r4MmzF//kHVwDvt8f99zd+TUQqpZE9L6LHbd9MXUcy2PE0SkCYJy46C1+Yj1E9dIerECo3LB4naY+v0n/5f9uVZOar6MmJcjIqTuXbb741nufdq4BR1q+nDP+rH//3493Pt6qi18E+1xK62/EXey47U7q2Gukw2Zg4LI/sTxGHJ0iACL2V9mP0B6sQFcsucHrb/nzfckK2KnjBm/PT9LTa8CSXVPiwsWO276Y1uJYHiOOTjEGMI603hO3W2J9gH8E9mAFOuVt0m3/+LUuc7kC9ub1edO1UOP/0SB5b+7532xPr4FI75ribYrd959w6sm4bV9r8bu/CVgKxqTla87xO9uuAxjLY8TRKQJgHGm9xU+3McAfLTBrMwT8XWjDJanNTh0B+yhHw7UXqS+Cu95uJ3gyy7SNnk5+K7hV50cW67898ayydUp/mP1DeYcU6r1FH4b+XIhqBMA440q0s1efsIKodKFrbKCjtt2dOloeFxXC/UXwwizTNgEjhmaZhvX9x9eV+9q/yMjRanZuF7vrW7cW9+a5ELXsTAsxaMeh05EuAoDuutA11t5OHXmOmoDjrNNilmlbzDJtVzgnvzHRLm7RAhgj3v78sCaNGBjpYgDojhZdaAE7czikZDU2t6rY3IXWnVmm0dBFHk2CdOX2ufTG3mmNC+e5EDa0AEYh/7phh2v9t62uqNKOQ6dVcbCH64YBCJ8OZl56fY1eNnehMcu0Zy505b7t/a68vT35LZznQljQAhiFgq0LVnOmQT96bpP/9/bGmxw6da7d5915+LTy0lM0uH/fnhcSQNe0M/OySgM18I5/VbLNXWjMMgUihhbAKNTRrh6JToeWzLiq3cf+8JmN7d4XkkVnAXRfkHX68hfuVvKE2yNdssiK5Z2IgBhHAIxCHe3qsbL0et129aB2H7t4+vh270voJDzCLr6Zi/ufuqXznSLQc3ShtcUC1EDEEABjhKOL2/xOvTK/3ftWPHBdh+ERAMLOtwB1rO5EBMQovvZHqda7eozNS1N1bb0GproiXDIACLFY34koxrGOqp0IgFGq9a4eK352nRITnEpOvPg3xAGXEB4BRCl2IuqRHYdOh22psHCeC72HLuAo1nJXD4fD0aPwJ0m56X16WiQAQBR6+/OO1lOM3XOh99ACCABxgG48exw8eVYnz3hU3/jtDimrK6p017VDZYzU/5KkkC33Fc5zIbwIgAAAxJCerBUbzedCeNEFDABADOnJWrFS95aA6um5EL1oAQQAIIbcdvUgXZadGtAK57Oy9HqNG5Qek+dCeNECCABAjOvqWrGxdi70HusD4NKlSzV8+HD16dNHbrdbW7dujXSRAADokG+tWJ+xeWnKSk3ulbViw3kuhI/VXcArVqzQ/PnztWzZMrndbi1ZskTFxcWqrKxUdnZ2pIsXMrueKGarLwCII72xVmw0nAvhY3UL4DPPPKP7779fs2fPVkFBgZYtW6a+ffvqT3/6U6SLBgBAh0K9Vmy0nAvhYW0AbGho0LZt21RUVOS/zel0qqioSOXl5REsGQAAQO+ytl/w+PHjampqUk5OTsDtOTk5+vLLL4M+pr6+XvX19f7fa2tre7WMAAAAvcHaFsCL8eSTTyo9Pd3/M2TIkEgXCQAAoNusDYCZmZlKSEhQdXV1wO3V1dXKzc0N+pjHHntMp0+f9v98/fXX4SgqAABASFkbAF0ulyZOnKiysjL/bV6vV2VlZSosLAz6mOTkZKWlpQX8AAAAxBprxwBK0vz583XPPffommuu0aRJk7RkyRKdOXNGs2fPjnTRAAAAeo3VAXDGjBk6duyYFixYoKqqKl111VVas2ZNm4khANBTvv1XASAaWB0AJWnu3LmaO3dupIsBAAAQNtaOAQQAALAVARAAAMAyBEAAAADLEAABAAAsQwCMM76ZhrueKI50UQAAQJQiAAIAAFiGAAgAAGAZAiAAAIBlCIAAAACWIQACAABYhgAIAABgGQIgAACAZQiAAAAAliEAAgAAWIYACAAAYJnESBcA7fNt6wYAABBKBMA4RXgEAADtoQsYAADAMgRAAAAAyxAAAQAALEMABAAAsAwBEAAAwDIEQAAAAMs4jDEm0oWIVbW1tUpPT9fp06eVlpYW6eIAAIAu4PObFkAAAADrEAABAAAsQwAEAACwDAEQAADAMgRAAAAAyxAAAQAALEMABAAAsAwBEAAAwDIEQAAAAMsQAAEAACxDAAQAALAMARAAAMAyiZEuQCwzxkhq3lQaAADEBt/ntu9z3EYEwB6oq6uTJA0ZMiTCJQEAAN1VV1en9PT0SBcjIhzG5vjbQ16vV4cPH1a/fv3kcDhC+ty1tbUaMmSIvv76a6WlpYX0udF7qLfYRL3FHuosNkVLvRljVFdXp/z8fDmddo6GowWwB5xOpwYPHtyr50hLS+PNLQZRb7GJeos91FlsioZ6s7Xlz8fO2AsAAGAxAiAAAIBlCIBRKjk5WQsXLlRycnKki4JuoN5iE/UWe6iz2ES9RQ8mgQAAAFiGFkAAAADLEAABAAAsQwAEAACwDAEQAADAMgTAKLR06VINHz5cffr0kdvt1tatWyNdJLSwaNEiORyOgJ8xY8b47z9//rxKS0s1cOBApaamavr06aquro5gie20ceNGTZ06Vfn5+XI4HFq5cmXA/cYYLViwQHl5eUpJSVFRUZF2794dcExNTY1mzZqltLQ0ZWRk6L777tM333wTxldhn87q7d57721z/ZWUlAQcQ72F15NPPqlrr71W/fr1U3Z2tm677TZVVlYGHNOV98UDBw7olltuUd++fZWdna1f/epXamxsDOdLsQoBMMqsWLFC8+fP18KFC/Xpp5/qyiuvVHFxsY4ePRrpoqGFsWPH6siRI/6fTZs2+e/75S9/qXfeeUevv/66NmzYoMOHD+uOO+6IYGntdObMGV155ZVaunRp0Pv/8Ic/6Nlnn9WyZcu0ZcsWXXLJJSouLtb58+f9x8yaNUs7d+7UBx98oFWrVmnjxo164IEHwvUSrNRZvUlSSUlJwPX36quvBtxPvYXXhg0bVFpaqs2bN+uDDz6Qx+PR5MmTdebMGf8xnb0vNjU16ZZbblFDQ4M+/vhjvfzyy1q+fLkWLFgQiZdkB4OoMmnSJFNaWur/vampyeTn55snn3wygqVCSwsXLjRXXnll0PtOnTplkpKSzOuvv+6/7YsvvjCSTHl5eZhKiNYkmTfffNP/u9frNbm5uebpp5/233bq1CmTnJxsXn31VWOMMbt27TKSzN/+9jf/Me+++65xOBzm0KFDYSu7zVrXmzHG3HPPPWbatGntPoZ6i7yjR48aSWbDhg3GmK69L65evdo4nU5TVVXlP+aFF14waWlppr6+PrwvwBK0AEaRhoYGbdu2TUVFRf7bnE6nioqKVF5eHsGSobXdu3crPz9fI0eO1KxZs3TgwAFJ0rZt2+TxeALqcMyYMRo6dCh1GEX27dunqqqqgHpKT0+X2+3211N5ebkyMjJ0zTXX+I8pKiqS0+nUli1bwl5mfGv9+vXKzs7W6NGjNWfOHJ04ccJ/H/UWeadPn5YkDRgwQFLX3hfLy8s1fvx45eTk+I8pLi5WbW2tdu7cGcbS24MAGEWOHz+upqamgAtAknJyclRVVRWhUqE1t9ut5cuXa82aNXrhhRe0b98+3Xjjjaqrq1NVVZVcLpcyMjICHkMdRhdfXXR0rVVVVSk7Ozvg/sTERA0YMIC6jKCSkhK98sorKisr0+LFi7VhwwZNmTJFTU1Nkqi3SPN6vZo3b56uv/56jRs3TpK69L5YVVUV9Hr03YfQS4x0AYBYM2XKFP//J0yYILfbrWHDhum1115TSkpKBEsGxL+77rrL///x48drwoQJuvTSS7V+/XrddNNNESwZJKm0tFQ7duwIGBeN6EQLYBTJzMxUQkJCm5lR1dXVys3NjVCp0JmMjAxdfvnl2rNnj3Jzc9XQ0KBTp04FHEMdRhdfXXR0reXm5raZfNXY2KiamhrqMoqMHDlSmZmZ2rNnjyTqLZLmzp2rVatWad26dRo8eLD/9q68L+bm5ga9Hn33IfQIgFHE5XJp4sSJKisr89/m9XpVVlamwsLCCJYMHfnmm2+0d+9e5eXlaeLEiUpKSgqow8rKSh04cIA6jCIjRoxQbm5uQD3V1tZqy5Yt/noqLCzUqVOntG3bNv8xa9euldfrldvtDnuZEdzBgwd14sQJ5eXlSaLeIsEYo7lz5+rNN9/U2rVrNWLEiID7u/K+WFhYqIqKioDw/sEHHygtLU0FBQXheSG2ifQsFAT661//apKTk83y5cvNrl27zAMPPGAyMjICZkYhsh555BGzfv16s2/fPvPRRx+ZoqIik5mZaY4ePWqMMebBBx80Q4cONWvXrjWffPKJKSwsNIWFhREutX3q6urMZ599Zj777DMjyTzzzDPms88+M1999ZUxxpinnnrKZGRkmLfeesv8/e9/N9OmTTMjRoww586d8z9HSUmJufrqq82WLVvMpk2bzKhRo8zMmTMj9ZKs0FG91dXVmUcffdSUl5ebffv2mQ8//NB85zvfMaNGjTLnz5/3Pwf1Fl5z5swx6enpZv369ebIkSP+n7Nnz/qP6ex9sbGx0YwbN85MnjzZbN++3axZs8ZkZWWZxx57LBIvyQoEwCj03HPPmaFDhxqXy2UmTZpkNm/eHOkioYUZM2aYvLw843K5zKBBg8yMGTPMnj17/PefO3fO/PznPzf9+/c3ffv2Nbfffrs5cuRIBEtsp3Xr1hlJbX7uueceY0zzUjC///3vTU5OjklOTjY33XSTqaysDHiOEydOmJkzZ5rU1FSTlpZmZs+eberq6iLwauzRUb2dPXvWTJ482WRlZZmkpCQzbNgwc//997f5gky9hVew+pJkXnrpJf8xXXlf3L9/v5kyZYpJSUkxmZmZ5pFHHjEejyfMr8YeDmOMCXerIwAAACKHMYAAAACWIQACAABYhgAIAABgGQIgAACAZQiAAAAAliEAAgAAWIYACAAAYBkCIAAAgGUIgAAAAJYhAAIAAFiGAAgAAGAZAiAAAIBlCIAAAACWIQACAABYhgAIAABgGQIgAACAZQiAAAAAliEAAgAAWIYACAAAYBkCIAAAgGUIgAAAAJYhAAIAAFiGAAgAAGAZAiAAAIBlCIAAAACWIQACAABYhgAIAABgGQIgAACAZQiAAAAAliEAAgAAWIYACAAAYBkCIAAAgGUIgAAAAJYhAAIAAFiGAAgAAGCZxEgXAJFljJHH41FTU5MSEhKUlJQkh8MR6WIBAIBeRAC0lMfjUXV1tQ4dOqRz5875b09JSdGgQYOUk5OjpKSkCJYQAAD0FrqAo8S9994rh8Mhh8Mhl8ulyy67TE888YQaGxtDfq6amhpt3rxZe/fuVWpqqgoKCjRhwgQVFBQoNTVVe/fu1ebNm1VTUxPycwMA0F1Lly7V8OHD1adPH7ndbm3durXD4xctWuT/TPX9jBkzJkyljQ20AEaRkpISvfTSS6qvr9fq1atVWlqqpKQkPfbYYyE7R01NjSoqKtS/f3+NHj1aycnJAfdnZ2ervr5elZWVqqio0Pjx4zVgwICQnR8AgO5YsWKF5s+fr2XLlsntdmvJkiUqLi5WZWWlsrOz233c2LFj9eGHH/p/T0wk8rTkMMaYSBcCzS2Ap06d0sqVK/23TZ48WXV1dVq9erUefvhhvfPOO6qvr9f3v/99Pfvssxo1apQk6auvvtLcuXO1adMmNTQ0aPjw4Xr66ad18803B5zD4/Fo8+bNSk9P17hx4+R0tt8A7PV6tWPHDp08eVL9+/fv8FgAALpr3LhxXTrO7Xbr2muv1fPPPy+p+fNpyJAh+sUvfqHf/va3QR+zaNEirVy5Utu3bw9VceMOn+pRLCUlRQ0NDbr33nv1ySef6O2331Z5ebmMMbr55pvl8XgkSaWlpaqvr9fGjRtVUVGhxYsXKzU1tc3zVVdXy+v1avTo0Z0GOqfTqdGjR8sYo/r6+l55fQAAdKShoUHbtm1TUVGR/zan06mioiKVl5d3+Njdu3crPz9fI0eO1KxZs3TgwIHeLm5MoT00ChljVFZWpvfee09TpkzRypUr9dFHH+m73/2uJOkvf/mLhgwZopUrV+rOO+/UgQMHNH36dI0fP16SNHLkyKDPeejQIWVmZrbp9m1PcnKysrKyVFNToz59+jA7GAAQVsePH1dTU5NycnICbs/JydGXX37Z7uPcbreWL1+u0aNH68iRI3r88cd14403aseOHerXr19vFzsmEACjyKpVq5SamiqPxyOv16sf//jHuuOOO7Rq1Sq53W7/cQMHDtTo0aP1xRdfSJIeeughzZkzR++//76Kioo0ffp0TZgwIeC5PR6Pzp07pxEjRnSrTFlZWTp27JiMMQRAAEBMmDJliv//EyZMkNvt1rBhw/Taa6/pvvvui2DJogddwFHkBz/4gbZv367du3fr3Llzevnll7sUun7605/qn//8p+6++25VVFTommuu0XPPPRdwTFNTk6TuD4L1Hc9QUQBAuGVmZiohIUHV1dUBt1dXVys3N7fLz5ORkaHLL79ce/bsCXURYxYBMIpccskluuyyyzR06FB/8LriiivU2NioLVu2+I87ceKEKisrVVBQ4L9tyJAhevDBB/XGG2/okUce0Ysvvhjw3AkJCZLU7WVlfMfT+gcACDeXy6WJEyeqrKzMf5vX61VZWZkKCwu7/DzffPON9u7dq7y8vN4oZkwiAEa5UaNGadq0abr//vu1adMmff755/rJT36iQYMGadq0aZKkefPm6b333tO+ffv06aefat26dbriiisCnicpKUkpKSk6duxYt85/7NgxJSQkEAABABExf/58vfjii3r55Zf1xRdfaM6cOTpz5oxmz54tSXr++ed10003BTzm0Ucf1YYNG7R//359/PHHuv3225WQkKCZM2dG4iVEJcYAxoCXXnpJDz/8sH70ox+poaFB3/ve97R69Wr/Th1NTU0qLS3VwYMHlZaWppKSEv3xj38MeA6Hw6FBgwZp7969qq+v79JEkPr6eh0/flyXXnqpBg8e3CuvDQCAjsyYMUPHjh3TggULVFVVpauuukpr1qzxTww5fvy49u7dG/CYgwcPaubMmTpx4oSysrJ0ww03aPPmzcrKyorES4hKrANokYtZB/D06dO67rrr2BYOAIA4QhewRZKSkjR27FidPHlSO3bsaHd9v/r6ev8i0GPHjiX8AQAQZ2gBtFBNTY127twpr9erzMxMZWVlKTExUY2NjTp27JiOHz8up9OpsWPHsg0cAABxiABoKY/Ho+rqah06dEjnzp3z356SkqJBgwYpNzeXfRMBAIhTBEDLGWPU2NioxsZGJSYmKjExkRm/AADEOQIgAACAZZgEAgAAYBkCIAAAgGUIgAAAAJYhAAIAAFiGAAgAAGAZAiAAAIBlCIAAAACWIQACAABYhgAIAABgGQIgAACAZQiAAAAAliEAAgAAWIYACAAAYBkCIAAAgGUIgAAAAJYhAAIAAFiGAAgAAGAZAiAAAIBlCIAAAACWIQACAABYhgAIAABgGQIgAACAZQiAAAAAliEAAgAAWIYACAAAYBkCIAAAgGUIgAAAAJYhAAIAAFiGAAgAAGAZAiAAAIBlCIAAAACWIQACAABYhgAIAABgGQIgAACAZQiAAAAAliEAAgAAWIYACAAAYBkCIAAAgGUIgAAAAJYhAAIAAFiGAAgAAGAZAiAAAIBlCIAAAACWIQACAABYhgAIAABgmf8PydHJbcHUH2MAAAAASUVORK5CYII=' width=640.0/>\n",
       "            </div>\n",
       "        "
      ],
      "text/plain": [
       "Canvas(toolbar=Toolbar(toolitems=[('Home', 'Reset original view', 'home', 'home'), ('Back', 'Back to previous …"
      ]
     },
     "metadata": {},
     "output_type": "display_data"
    }
   ],
   "source": [
    "%matplotlib widget\n",
    "\n",
    "# Setting fig and ax variables as subplots()\n",
    "# function returns tuple(fig, ax)\n",
    "fig, ax = plt.subplots()\n",
    "\n",
    "# Adjust the bottom size according to the\n",
    "# requirement of the user\n",
    "plt.subplots_adjust(bottom=0.25)\n",
    "\n",
    "index = np.arange(test_y.shape[0])\n",
    "plt.errorbar(\n",
    "    index,\n",
    "    test_pred_constant_mean.mean.numpy(),\n",
    "    yerr=2 * test_pred_constant_mean.stddev.numpy(),\n",
    "    fmt=\"*\",\n",
    "    label=\"Predictions: $ \\mu \\pm 2 \\sigma $\",\n",
    ")\n",
    "plt.plot(index, test_y, \"o\", label=\"True values\")\n",
    "\n",
    "plt.title(\"Prediction on test set\")\n",
    "plt.legend()\n",
    "# Choose the Slider color\n",
    "slider_color = \"White\"\n",
    "\n",
    "# Set the axis and slider position in the plot\n",
    "axis_position = plt.axes([0.2, 0.1, 0.65, 0.03], facecolor=slider_color)\n",
    "slider_position = Slider(axis_position, \"Pos\", 0.1, 90.0)\n",
    "\n",
    "\n",
    "# update() function to change the graph when the\n",
    "# slider is in use\n",
    "def update(val):\n",
    "    pos = slider_position.val\n",
    "    ax.axis([pos, pos + 20, 0, 100])\n",
    "    fig.canvas.draw_idle()\n",
    "\n",
    "\n",
    "# update function called using on_changed() function\n",
    "slider_position.on_changed(update)\n",
    "# Display the plot\n",
    "plt.savefig(outputs_dir / \"task_3b-5-4_predictions_on_test_set.pdf\")\n",
    "  \n",
    "plt.show()"
   ]
  },
  {
   "cell_type": "markdown",
   "id": "7768b26c",
   "metadata": {
    "deletable": false,
    "editable": false,
    "nbgrader": {
     "cell_type": "markdown",
     "checksum": "4c889990401b0f52f611089d5c5f589a",
     "grade": false,
     "grade_id": "cell-bf8dca82183883b9",
     "locked": true,
     "schema_version": 3,
     "solution": false,
     "task": false
    }
   },
   "source": [
    "## Task 3b.6 - Train and evaluate the `SVGPModel` with zero mean (0.0p)"
   ]
  },
  {
   "cell_type": "markdown",
   "id": "95467cf4",
   "metadata": {},
   "source": [
    "### Task 3b.6.0 - Instantiate and train Train the model (0.p)"
   ]
  },
  {
   "cell_type": "code",
   "execution_count": 37,
   "id": "8ed3992c",
   "metadata": {
    "deletable": false,
    "nbgrader": {
     "cell_type": "code",
     "checksum": "339f5041515ce08cec195743430d6a42",
     "grade": true,
     "grade_id": "cell-6b0ddd961eed0731",
     "locked": false,
     "points": 0,
     "schema_version": 3,
     "solution": true,
     "task": false
    }
   },
   "outputs": [
    {
     "data": {
      "application/vnd.jupyter.widget-view+json": {
       "model_id": "38cb474565ac451dade71e318b96c10f",
       "version_major": 2,
       "version_minor": 0
      },
      "text/plain": [
       "  0%|          | 0/2000 [00:00<?, ?it/s]"
      ]
     },
     "metadata": {},
     "output_type": "display_data"
    },
    {
     "name": "stdout",
     "output_type": "stream",
     "text": [
      "MAE on train set: 3.3908550177414734\n",
      "MAE on test set: 6.277106515265582\n",
      "Accuracy on train set: 0.905339777469635\n",
      "Accuracy on test set: 0.7766990065574646\n",
      "Dangerous percentage prediction on train set: 0.031553398817777634\n",
      "Dangerous percentage prediction on test set 0.06310679763555527\n"
     ]
    }
   ],
   "source": [
    "# Set a random seed for reproducibility\n",
    "np.random.seed(43)\n",
    "\n",
    "# Define the model (with a zero mean) and the likelihood\n",
    "# model_zero_mean =\n",
    "# likelihood_zero_mean =\n",
    "# YOUR CODE HERE\n",
    "model_zero_mean = SVGPModel(inducing_points, constant_mean=False)\n",
    "likelihood_zero_mean = gpytorch.likelihoods.GaussianLikelihood()\n",
    "\n",
    "model_zero_mean = model_zero_mean.double()\n",
    "likelihood_zero_mean = likelihood_zero_mean.double()\n",
    "\n",
    "# Call the function to train the variational parameters\n",
    "# YOUR CODE HERE\n",
    "train_variational_parameters(likelihood_zero_mean, model_zero_mean)\n",
    "\n",
    "# Call the function to evaluate the model\n",
    "# train_pred_zero_mean, test_pred_zero_mean =\n",
    "# YOUR CODE HERE\n",
    "train_pred_zero_mean, test_pred_zero_mean = evaluate_model(likelihood_zero_mean, model_zero_mean)"
   ]
  },
  {
   "cell_type": "markdown",
   "id": "e831f1fe",
   "metadata": {},
   "source": [
    "### Task 3b.6.1 - Print the horizontal and the vertical length scales (0.0p)"
   ]
  },
  {
   "cell_type": "code",
   "execution_count": 38,
   "id": "41acd7d1",
   "metadata": {
    "deletable": false,
    "nbgrader": {
     "cell_type": "code",
     "checksum": "2d74e55fe32e697ee874e78ba2d795bf",
     "grade": true,
     "grade_id": "cell-96876de1bc31c86a",
     "locked": false,
     "points": 0,
     "schema_version": 3,
     "solution": true,
     "task": false
    }
   },
   "outputs": [
    {
     "name": "stdout",
     "output_type": "stream",
     "text": [
      "Horizontal Lenghtscale of the kernel: \n",
      "tensor([[58.4892]], dtype=torch.float64, grad_fn=<SoftplusBackward0>)\n",
      "Vertical Lengthscale of the kernel: \n",
      "tensor(38.1979, dtype=torch.float64, grad_fn=<SoftplusBackward0>)\n"
     ]
    }
   ],
   "source": [
    "print(\"Horizontal Lenghtscale of the kernel: \")\n",
    "# YOUR CODE HERE\n",
    "print(model_zero_mean.covar_module.base_kernel.lengthscale)\n",
    "\n",
    "print(\"Vertical Lengthscale of the kernel: \")\n",
    "# YOUR CODE HERE\n",
    "print(model_zero_mean.covar_module.outputscale)"
   ]
  },
  {
   "cell_type": "markdown",
   "id": "baa68348",
   "metadata": {
    "deletable": false,
    "editable": false,
    "nbgrader": {
     "cell_type": "markdown",
     "checksum": "98ece5c37100f0edc550022008dc644f",
     "grade": false,
     "grade_id": "cell-02030cafaad31dd1",
     "locked": true,
     "schema_version": 3,
     "solution": false,
     "task": false
    }
   },
   "source": [
    "## Task 3b.7 - Comparison of the two models (1p)\n",
    "Comment on the difference between the predictions of the two sparse GP models (i.e., the one with constant and zero mean). Discuss the effect of the mean function, in particular, on the safety of the predictions."
   ]
  },
  {
   "cell_type": "markdown",
   "id": "ac703411-144e-4054-90c1-4b7c2c18e38b",
   "metadata": {},
   "source": [
    "#### SVGP Model with constant Mean:\n",
    "\n",
    "- MAE on train set: 3.3885288529227657\n",
    "- MAE on test set: 6.268052803968135\n",
    "- Accuracy on train set: 0.9065533876419067\n",
    "- Accuracy on test set: 0.791262149810791\n",
    "- Dangerous percentage prediction on train set: 0.031553398817777634\n",
    "- Dangerous percentage prediction on test set 0.058252427726984024\n",
    "\n",
    "#### SVGP Model with Zero Mean:\n",
    "\n",
    "- MAE on train set: 3.3908550177414734\n",
    "- MAE on test set: 6.277106515265582\n",
    "- Accuracy on train set: 0.905339777469635\n",
    "- Accuracy on test set: 0.7766990065574646\n",
    "- Dangerous percentage prediction on train set: 0.031553398817777634\n",
    "- Dangerous percentage prediction on test set 0.06310679763555527\n",
    "\n",
    "#### Conclusion\n",
    "\n",
    "Some notes:\n",
    "\n",
    "- The constant mean model performs slightly better across all metrics.\n",
    "- The mean function affects safety: zero mean assumes outputs are centered around 0, which can lead to overconfident and unsafe predictions.\n",
    "- The constant mean allows the GP to better fit the data baseline, resulting in fewer dangerous predictions on the test set.\n",
    "- Both models are reasonably safe, but the zero mean model more often overestimates material strength, which can be risky.\n",
    "\n",
    "A constant mean function improves both accuracy and safety. Mis-specifying the mean (as zero) leads to more unsafe predictions, highlighting its importance in safety-critical tasks like material strength prediction."
   ]
  },
  {
   "cell_type": "code",
   "execution_count": 42,
   "id": "380e84d1",
   "metadata": {
    "deletable": false,
    "nbgrader": {
     "cell_type": "code",
     "checksum": "768f57c82e1afb4e5214be95ed11060e",
     "grade": true,
     "grade_id": "cell-daf9bb0cba1218e2",
     "locked": false,
     "points": 1,
     "schema_version": 3,
     "solution": true,
     "task": false
    }
   },
   "outputs": [
    {
     "name": "stdout",
     "output_type": "stream",
     "text": [
      "See Conclusion above\n"
     ]
    }
   ],
   "source": [
    "# YOUR CODE HERE\n",
    "print(\"See Conclusion above\")"
   ]
  },
  {
   "cell_type": "code",
   "execution_count": null,
   "id": "5d876cba-8d8b-45a3-a2bd-05e4d5dca993",
   "metadata": {},
   "outputs": [],
   "source": []
  }
 ],
 "metadata": {
  "kernelspec": {
   "display_name": "Python 3 (ipykernel)",
   "language": "python",
   "name": "python3"
  },
  "language_info": {
   "codemirror_mode": {
    "name": "ipython",
    "version": 3
   },
   "file_extension": ".py",
   "mimetype": "text/x-python",
   "name": "python",
   "nbconvert_exporter": "python",
   "pygments_lexer": "ipython3",
   "version": "3.10.12"
  }
 },
 "nbformat": 4,
 "nbformat_minor": 5
}
