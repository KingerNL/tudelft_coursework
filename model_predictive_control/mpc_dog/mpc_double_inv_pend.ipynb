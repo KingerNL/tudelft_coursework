{
 "cells": [
  {
   "cell_type": "code",
   "execution_count": null,
   "metadata": {
    "trusted": false
   },
   "outputs": [],
   "source": [
    "import numpy as np\n",
    "import sys\n",
    "from casadi import *\n",
    "\n",
    "# Add do_mpc to path. This is not necessary if it was installed via pip\n",
    "import os\n",
    "rel_do_mpc_path = os.path.join('..','..','..')\n",
    "sys.path.append(rel_do_mpc_path)\n",
    "\n",
    "# Import do_mpc package:\n",
    "import do_mpc"
   ]
  },
  {
   "cell_type": "markdown",
   "metadata": {},
   "source": [
    "## Model"
   ]
  },
  {
   "cell_type": "markdown",
   "metadata": {},
   "source": [
    "In the following we will present the configuration, setup and connection between these blocks, starting with the `model`. "
   ]
  },
  {
   "cell_type": "markdown",
   "metadata": {},
   "source": [
    "In this example we consider the double pendulum on a card as depicted below:\n",
    "\n",
    "\n",
    "<img src=\"dip_sketch.svg\" width=\"60%\">\n",
    "\n",
    "The system is described in terms of its horizontal position $x$ and the two angles $\\theta$, where $\\theta_1 = \\theta_2 = 0$ denotes the upright position.\n",
    "\n",
    "We will formulate a continuous dynamic model for this system and start by initiating a **do-mpc** ``Model`` instance:"
   ]
  },
  {
   "cell_type": "code",
   "execution_count": null,
   "metadata": {
    "trusted": false
   },
   "outputs": [],
   "source": [
    "model_type = 'continuous' # either 'discrete' or 'continuous'\n",
    "model = do_mpc.model.Model(model_type)"
   ]
  },
  {
   "cell_type": "markdown",
   "metadata": {},
   "source": [
    "### Parameters\n",
    "\n",
    "The model is configured with the following (certain) parameters:"
   ]
  },
  {
   "cell_type": "code",
   "execution_count": null,
   "metadata": {
    "trusted": false
   },
   "outputs": [],
   "source": [
    "m0 = 0.6  # kg, mass of the cart\n",
    "m1 = 0.2  # kg, mass of the first rod\n",
    "m2 = 0.2  # kg, mass of the second rod\n",
    "L1 = 0.5  # m,  length of the first rod\n",
    "L2 = 0.5  # m,  length of the second rod\n",
    "\n",
    "g = 9.81 # m/s^2, Gravity "
   ]
  },
  {
   "cell_type": "markdown",
   "metadata": {},
   "source": [
    "We furthermore introduce the following derived parameters to conveniently formulate the model equations below."
   ]
  },
  {
   "cell_type": "code",
   "execution_count": null,
   "metadata": {
    "trusted": false
   },
   "outputs": [],
   "source": [
    "l1 = L1/2 # m,  \n",
    "l2 = L2/2 # m,\n",
    "J1 = 1/12 * (m1*L1**2)   # Inertia\n",
    "J2 = 1/12 * (m2*L2**2)  # Inertia\n",
    "\n",
    "h1 = m0 + m1 + m2\n",
    "h2 = m1*l1 + m2*L1\n",
    "h3 = m2*l2\n",
    "h4 = m1*l1**2 + m2*L1**2 + J1\n",
    "h5 = m2*l2*L1\n",
    "h6 = m2*l2**2 + J2\n",
    "h7 = (m1*l1 + m2*L1) * g\n",
    "h8 = m2*l2*g"
   ]
  },
  {
   "cell_type": "markdown",
   "metadata": {},
   "source": [
    "### Euler-Lagrangian equations"
   ]
  },
  {
   "cell_type": "markdown",
   "metadata": {},
   "source": [
    "The dynamics of the double pendulum can be derived from the Euler-Lagrangian equations, which yield:\n",
    "\n",
    "\\begin{align}\n",
    "h_1\\ddot{x}+h_2\\ddot{\\theta}_1\\cos(\\theta_1)+h_3\\ddot{\\theta}_2\\cos(\\theta_2)\n",
    "&= (h_2\\dot{\\theta}_1^{2}\\sin(\\theta_1) + h_3\\dot{\\theta}_2^{2}\\sin(\\theta_2) + u)\\\\\n",
    "h_2\\cos(\\theta_1)\\ddot{x} + h_4\\ddot{\\theta}_1 + h_5\\cos(\\theta_1-\\theta_2)\\ddot{\\theta}_2\n",
    "&= (h_7\\sin(\\theta_1) - h_5\\dot{\\theta}_2^{2}\\sin(\\theta_1-\\theta_2))\\\\\n",
    "h_3\\cos(\\theta_2)\\ddot{x} + h_5\\cos(\\theta_1-\\theta_2)\\ddot{\\theta}_1 + h_6\\ddot{\\theta}_2\n",
    "&= (h_5\\dot{\\theta}_1^{2}\\sin(\\theta_1-\\theta_2) + h_8\\sin(\\theta_2))\n",
    "\\end{align}"
   ]
  },
  {
   "cell_type": "markdown",
   "metadata": {},
   "source": [
    "we introduce the states\n",
    "\n",
    "$$x=[x,\\theta_1, \\theta_2, \\dot{x}, \\dot{\\theta}_1, \\dot{\\theta}_2]^T$$\n",
    "\n",
    "and input:\n",
    "\n",
    "$$ u = f$$\n",
    "\n",
    "which is the horizontal force applied to the cart."
   ]
  },
  {
   "cell_type": "code",
   "execution_count": null,
   "metadata": {
    "trusted": false
   },
   "outputs": [],
   "source": [
    "pos = model.set_variable('_x',  'pos')\n",
    "theta = model.set_variable('_x',  'theta', (2,1))\n",
    "dpos = model.set_variable('_x',  'dpos')\n",
    "dtheta = model.set_variable('_x',  'dtheta', (2,1))\n",
    "\n",
    "u = model.set_variable('_u',  'force')"
   ]
  },
  {
   "cell_type": "code",
   "execution_count": null,
   "metadata": {},
   "outputs": [],
   "source": []
  },
  {
   "cell_type": "markdown",
   "metadata": {},
   "source": [
    "**At this point we have two options.** The typical approach would be to rewrite the system as:\n",
    "\n",
    "$$M(x) \\dot x = A(x) x + B u$$\n",
    "\n",
    "where it can be shown that \n",
    "\n",
    "$$ \\det(M) > 0, \\forall x$$\n",
    "\n",
    "such that we can obtain the ODE:\n",
    "\n",
    "$$\\dot x = M(x)^{-1}(A(x)x + B u)$$\n",
    "\n",
    "**do-mpc** fully supports this option but it requires some nasty reformulations of the above equations and yields a very complex expression for the ODE. \n",
    "\n",
    "Instead we suggest ...\n",
    "\n",
    "### Differential algebraic equation (DAE)\n",
    "\n",
    "We introduce new algebraic states \n",
    "\n",
    "$$ z=[\\ddot{x}, \\ddot{\\theta}_1, \\ddot{\\theta}_2]^T$$"
   ]
  },
  {
   "cell_type": "code",
   "execution_count": null,
   "metadata": {
    "trusted": false
   },
   "outputs": [],
   "source": [
    "ddpos = model.set_variable('_z', 'ddpos')\n",
    "ddtheta = model.set_variable('_z', 'ddtheta', (2,1))"
   ]
  },
  {
   "cell_type": "markdown",
   "metadata": {},
   "source": [
    "which makes it very convenient to formulate the ODE in terms of $x,u,z$:\n",
    "\n",
    "$$ \\dot{x} = [\\dot{x}, \\dot{\\theta}_1, \\dot{\\theta}_2, \\ddot{x}, \\ddot{\\theta}_1, \\ddot{\\theta}_2]^T$$"
   ]
  },
  {
   "cell_type": "code",
   "execution_count": null,
   "metadata": {
    "trusted": false
   },
   "outputs": [],
   "source": [
    "model.set_rhs('pos', dpos)\n",
    "model.set_rhs('theta', dtheta)\n",
    "model.set_rhs('dpos', ddpos)\n",
    "model.set_rhs('dtheta', ddtheta)"
   ]
  },
  {
   "cell_type": "markdown",
   "metadata": {},
   "source": [
    "The only remaining challenge is to implement the relationship between $x,u$ and $z$, in the form of:\n",
    "\n",
    "$$g(x,u,z)=0$$\n",
    "\n",
    "with **do-mpc** this is easily achieved:"
   ]
  },
  {
   "cell_type": "code",
   "execution_count": null,
   "metadata": {
    "trusted": false
   },
   "outputs": [],
   "source": [
    "euler_lagrange = vertcat(\n",
    "        # 1\n",
    "        h1*ddpos+h2*ddtheta[0]*cos(theta[0])+h3*ddtheta[1]*cos(theta[1])\n",
    "        - (h2*dtheta[0]**2*sin(theta[0]) + h3*dtheta[1]**2*sin(theta[1]) + u),\n",
    "        # 2\n",
    "        h2*cos(theta[0])*ddpos + h4*ddtheta[0] + h5*cos(theta[0]-theta[1])*ddtheta[1]\n",
    "        - (h7*sin(theta[0]) - h5*dtheta[1]**2*sin(theta[0]-theta[1])),\n",
    "        # 3\n",
    "        h3*cos(theta[1])*ddpos + h5*cos(theta[0]-theta[1])*ddtheta[0] + h6*ddtheta[1]\n",
    "        - (h5*dtheta[0]**2*sin(theta[0]-theta[1]) + h8*sin(theta[1]))\n",
    "    )\n",
    "\n",
    "model.set_alg('euler_lagrange', euler_lagrange)"
   ]
  },
  {
   "cell_type": "markdown",
   "metadata": {},
   "source": [
    "with just a few lines of code we have defined the dynamics of the double pendulum!"
   ]
  },
  {
   "attachments": {},
   "cell_type": "markdown",
   "metadata": {},
   "source": [
    "### Energy equations\n",
    "\n",
    "The next step is to introduce new \"auxiliary\" expressions to **do-mpc** for the kinetic and potential energy of the system. This is required in this example, because we will need these expressions for the formulation of the MPC controller. \n",
    "\n",
    "Introducing these expressions has the additional advantage that **do-mpc** saves and exports the calculated values, which is great for monitoring and debugging.\n",
    "\n",
    "For the kinetic energy, we have:\n",
    "\n",
    "$$\n",
    "\\begin{aligned}\n",
    "E_{\\text{kin,cart}} &= \\frac{1}{2}  m  \\dot{x}^{2}\\\\\n",
    "E_{\\text{kin}, p_1} &= \\frac{1}{2}  m_1  (\n",
    "(\\dot{x} + l_1  \\dot{\\theta}_1  \\cos(\\theta_1))^{2} +\n",
    "(l_1  \\dot{\\theta}_1  \\sin(\\theta_1))^{2}) + \\frac{1}{2}  J_1  \\dot{\\theta}_1^{2}\\\\\n",
    "E_{\\text{kin}, p_2} &= \\frac{1}{2}  m_2  (\n",
    "(\\dot{x} + L_1  \\dot{\\theta}_1  \\cos(\\theta_1) + l_2  \\dot{\\theta}_2  \\cos(\\theta_2))^{2}  \\\\\n",
    "&+ (L_1  \\dot{\\theta}_1  \\sin(\\theta_1) + l_2  \\dot{\\theta}_2  \\sin(\\theta_2))^2) + \\frac{1}{2}  J_2  \\dot{\\theta}_1^{2}\n",
    "\\end{aligned}\n",
    "$$\n",
    "\n",
    "and for the potential energy:\n",
    "\n",
    "$$\n",
    "E_{\\text{pot}} = m_1 g  l_1 \\cos(\\theta_1) + m_2 g (L_1 \\cos(\\theta_1) + l_2 \\cos(\\theta_2))\n",
    "$$\n",
    "\n",
    "It only remains to formulate the expressions and set them to the model:"
   ]
  },
  {
   "cell_type": "code",
   "execution_count": null,
   "metadata": {
    "trusted": false
   },
   "outputs": [],
   "source": [
    "E_kin_cart = 1 / 2 * m0 * dpos**2\n",
    "E_kin_p1 = 1 / 2 * m1 * (\n",
    "    (dpos + l1 * dtheta[0] * cos(theta[0]))**2 +\n",
    "    (l1 * dtheta[0] * sin(theta[0]))**2) + 1 / 2 * J1 * dtheta[0]**2\n",
    "E_kin_p2 = 1 / 2 * m2 * (\n",
    "    (dpos + L1 * dtheta[0] * cos(theta[0]) + l2 * dtheta[1] * cos(theta[1]))**2 +\n",
    "    (L1 * dtheta[0] * sin(theta[0]) + l2 * dtheta[1] * sin(theta[1]))**\n",
    "    2) + 1 / 2 * J2 * dtheta[0]**2\n",
    "\n",
    "E_kin = E_kin_cart + E_kin_p1 + E_kin_p2\n",
    "\n",
    "E_pot = m1 * g * l1 * cos(\n",
    "theta[0]) + m2 * g * (L1 * cos(theta[0]) +\n",
    "                            l2 * cos(theta[1]))\n",
    "\n",
    "model.set_expression('E_kin', E_kin)\n",
    "model.set_expression('E_pot', E_pot)"
   ]
  },
  {
   "cell_type": "markdown",
   "metadata": {},
   "source": [
    "Finally, the model setup is completed:"
   ]
  },
  {
   "cell_type": "code",
   "execution_count": null,
   "metadata": {
    "trusted": false
   },
   "outputs": [],
   "source": [
    "# Build the model\n",
    "model.setup()"
   ]
  },
  {
   "cell_type": "markdown",
   "metadata": {},
   "source": [
    "## Controller\n"
   ]
  },
  {
   "cell_type": "markdown",
   "metadata": {},
   "source": [
    "Next, the controller is configured.\n",
    "First, an instance of the ``MPC`` class is generated with the prediction model defined above:"
   ]
  },
  {
   "cell_type": "code",
   "execution_count": null,
   "metadata": {
    "trusted": false
   },
   "outputs": [],
   "source": [
    "mpc = do_mpc.controller.MPC(model)"
   ]
  },
  {
   "cell_type": "markdown",
   "metadata": {},
   "source": [
    "We choose the prediction horizon `n_horizon=100`, set the robust horizon `n_robust = 0`. The time step `t_step` is set to $0.04s$ and parameters of the applied discretization scheme orthogonal collocation are as seen below:"
   ]
  },
  {
   "cell_type": "code",
   "execution_count": null,
   "metadata": {
    "trusted": false
   },
   "outputs": [],
   "source": [
    "setup_mpc = {\n",
    "    'n_horizon': 100,\n",
    "    'n_robust': 0,\n",
    "    'open_loop': 0,\n",
    "    't_step': 0.04,\n",
    "    'state_discretization': 'collocation',\n",
    "    'collocation_type': 'radau',\n",
    "    'collocation_deg': 3,\n",
    "    'collocation_ni': 1,\n",
    "    'store_full_solution': True,\n",
    "    # Use MA27 linear solver in ipopt for faster calculations:\n",
    "    'nlpsol_opts': {'ipopt.linear_solver': 'mumps'}\n",
    "}\n",
    "mpc.set_param(**setup_mpc)"
   ]
  },
  {
   "cell_type": "markdown",
   "metadata": {},
   "source": [
    "### Objective\n",
    "\n",
    "The control objective is to errect the double pendulum and to stabilize it in the up-up position. It is not straight-forward to formulate an objective which yields this result. Classical set-point tracking, e.g. with the set-point:\n",
    "\n",
    "$$\n",
    "\\theta_s = [0,0,0]\n",
    "$$\n",
    "\n",
    "and a quadratic cost:\n",
    "\n",
    "$$\n",
    "J = \\sum_{k=0}^N (\\theta-\\theta_s)^2\n",
    "$$\n",
    "\n",
    "is **known to work very poorly**. Clearly, the problem results from the fact that $\\theta_s = 2\\pi n,\\ n\\in\\mathbb{Z}$ is also a valid solution. \n",
    "\n",
    "Instead we will use an energy-based formulation for the objective. If we think of energy in terms of potential and kinetic energy it is clear that we want to maximize the potential energy (up-up position) and minimize the kinetic energy (stabilization).\n",
    "\n",
    "Since we have already introduced the expressions for the potential and kinetic energy in the model, we can now simply reuse these expresssions for the fomulation of the objective function, as shown below:"
   ]
  },
  {
   "cell_type": "code",
   "execution_count": null,
   "metadata": {
    "trusted": false
   },
   "outputs": [],
   "source": [
    "mterm = model.aux['E_kin'] - model.aux['E_pot'] # terminal cost\n",
    "lterm = model.aux['E_kin'] - model.aux['E_pot'] # stage cost\n",
    "\n",
    "mpc.set_objective(mterm=mterm, lterm=lterm)\n",
    "# Input force is implicitly restricted through the objective.\n",
    "mpc.set_rterm(force=0.1)"
   ]
  },
  {
   "cell_type": "markdown",
   "metadata": {},
   "source": [
    "### Constraints\n",
    "\n",
    "In the next step, the constraints of the control problem are set.\n",
    "In this case, there is only an upper and lower bounds for the input."
   ]
  },
  {
   "cell_type": "code",
   "execution_count": null,
   "metadata": {
    "trusted": false
   },
   "outputs": [],
   "source": [
    "mpc.bounds['lower','_u','force'] = -4\n",
    "mpc.bounds['upper','_u','force'] = 4"
   ]
  },
  {
   "cell_type": "markdown",
   "metadata": {},
   "source": [
    "We can now setup the controller."
   ]
  },
  {
   "cell_type": "code",
   "execution_count": null,
   "metadata": {
    "trusted": false
   },
   "outputs": [],
   "source": [
    "mpc.setup()"
   ]
  },
  {
   "cell_type": "markdown",
   "metadata": {},
   "source": [
    "## Estimator\n",
    "\n",
    "We assume, that all states can be directly measured (state-feedback):"
   ]
  },
  {
   "cell_type": "code",
   "execution_count": null,
   "metadata": {
    "trusted": false
   },
   "outputs": [],
   "source": [
    "estimator = do_mpc.estimator.StateFeedback(model)"
   ]
  },
  {
   "cell_type": "markdown",
   "metadata": {},
   "source": [
    "## Simulator\n",
    "\n",
    "To create a simulator in order to run the MPC in a closed-loop, we create an instance of the **do-mpc** simulator which is based on the same model:"
   ]
  },
  {
   "cell_type": "code",
   "execution_count": null,
   "metadata": {
    "trusted": false
   },
   "outputs": [],
   "source": [
    "simulator = do_mpc.simulator.Simulator(model)"
   ]
  },
  {
   "cell_type": "markdown",
   "metadata": {},
   "source": [
    "For the simulation, we use the time step `t_step` as for the optimizer:"
   ]
  },
  {
   "cell_type": "code",
   "execution_count": null,
   "metadata": {
    "trusted": false
   },
   "outputs": [],
   "source": [
    "params_simulator = {\n",
    "    # Note: cvode doesn't support DAE systems.\n",
    "    'integration_tool': 'idas',\n",
    "    'abstol': 1e-8,\n",
    "    'reltol': 1e-8,\n",
    "    't_step': 0.04\n",
    "}\n",
    "\n",
    "simulator.set_param(**params_simulator)"
   ]
  },
  {
   "cell_type": "code",
   "execution_count": null,
   "metadata": {
    "trusted": false
   },
   "outputs": [],
   "source": [
    "simulator.setup()"
   ]
  },
  {
   "cell_type": "markdown",
   "metadata": {},
   "source": [
    "## Closed-loop simulation\n",
    "\n",
    "For the simulation of the MPC configured for the DIP, we inspect the file **main.py**.\n",
    "We define the initial state of the system and set for all parts of the closed-loop configuration:"
   ]
  },
  {
   "cell_type": "code",
   "execution_count": null,
   "metadata": {
    "trusted": false
   },
   "outputs": [],
   "source": [
    "simulator.x0['theta'] = 0.99*np.pi\n",
    "\n",
    "x0 = simulator.x0.cat.full()\n",
    "\n",
    "mpc.x0 = x0\n",
    "estimator.x0 = x0\n",
    "\n",
    "mpc.set_initial_guess()"
   ]
  },
  {
   "cell_type": "markdown",
   "metadata": {},
   "source": [
    "Note that ``mpc.set_initial_guess()`` is very important in this example. Also note that we didn't set the initial state at exactly $\\pi$ which results in unfavorable numerical issues (it will work however)."
   ]
  },
  {
   "cell_type": "markdown",
   "metadata": {},
   "source": [
    "### Prepare visualization\n",
    "\n",
    "For the visualization of the control performance, we first import matplotlib and change some basic settings:"
   ]
  },
  {
   "cell_type": "code",
   "execution_count": null,
   "metadata": {
    "trusted": false
   },
   "outputs": [],
   "source": [
    "import matplotlib.pyplot as plt\n",
    "import seaborn as sns\n",
    "sns.set_style('darkgrid')\n",
    "plt.ion()\n",
    "from matplotlib import rcParams\n",
    "\n",
    "rcParams['text.usetex'] = False\n",
    "rcParams['axes.grid'] = True\n",
    "rcParams['lines.linewidth'] = 2.0\n",
    "rcParams['axes.labelsize'] = 'xx-large'\n",
    "rcParams['xtick.labelsize'] = 'xx-large'\n",
    "rcParams['ytick.labelsize'] = 'xx-large'"
   ]
  },
  {
   "cell_type": "markdown",
   "metadata": {},
   "source": [
    "We use the plotting capabilities, which are included in **do-mpc**.\n",
    "The `mpc_graphics` contain information like the current estimated state and the predicted trajectory of the states and inputs based on the solution of the control problem.\n",
    "The `sim_graphics` contain the information about the simulated evaluation of the system."
   ]
  },
  {
   "cell_type": "code",
   "execution_count": null,
   "metadata": {
    "trusted": false
   },
   "outputs": [],
   "source": [
    "mpc_graphics = do_mpc.graphics.Graphics(mpc.data)"
   ]
  },
  {
   "cell_type": "markdown",
   "metadata": {},
   "source": [
    "For the example of the DIP we create a new function which takes as input the states (at a given time $k$) and returns the x and y positions of the two bars (the arms of the pendulum)."
   ]
  },
  {
   "cell_type": "code",
   "execution_count": null,
   "metadata": {
    "trusted": false
   },
   "outputs": [],
   "source": [
    "def pendulum_bars(x):\n",
    "    x = x.flatten()\n",
    "    # Get the x,y coordinates of the two bars for the given state x.\n",
    "    line_1_x = np.array([\n",
    "        x[0],\n",
    "        x[0]+L1*np.sin(x[1])\n",
    "    ])\n",
    "\n",
    "    line_1_y = np.array([\n",
    "        0,\n",
    "        L1*np.cos(x[1])\n",
    "    ])\n",
    "\n",
    "    line_2_x = np.array([\n",
    "        line_1_x[1],\n",
    "        line_1_x[1] + L2*np.sin(x[2])\n",
    "    ])\n",
    "\n",
    "    line_2_y = np.array([\n",
    "        line_1_y[1],\n",
    "        line_1_y[1] + L2*np.cos(x[2])\n",
    "    ])\n",
    "\n",
    "    line_1 = np.stack((line_1_x, line_1_y))\n",
    "    line_2 = np.stack((line_2_x, line_2_y))\n",
    "\n",
    "    return line_1, line_2"
   ]
  },
  {
   "cell_type": "markdown",
   "metadata": {},
   "source": [
    "We then setup a graphic:"
   ]
  },
  {
   "cell_type": "code",
   "execution_count": null,
   "metadata": {
    "trusted": false
   },
   "outputs": [],
   "source": [
    "%%capture\n",
    "\n",
    "fig = plt.figure(figsize=(16,9))\n",
    "\n",
    "ax1 = plt.subplot2grid((4, 2), (0, 0), rowspan=4)\n",
    "ax2 = plt.subplot2grid((4, 2), (0, 1))\n",
    "ax3 = plt.subplot2grid((4, 2), (1, 1))\n",
    "ax4 = plt.subplot2grid((4, 2), (2, 1))\n",
    "ax5 = plt.subplot2grid((4, 2), (3, 1))\n",
    "\n",
    "ax2.set_ylabel('$E_{kin}$ [J]')\n",
    "ax3.set_ylabel('$E_{pot}$ [J]')\n",
    "ax4.set_ylabel('Angle  [rad]')\n",
    "ax5.set_ylabel('Input force [N]')\n",
    "\n",
    "# Axis on the right.\n",
    "for ax in [ax2, ax3, ax4, ax5]:\n",
    "    ax.yaxis.set_label_position(\"right\")\n",
    "    ax.yaxis.tick_right()\n",
    "    if ax != ax5:\n",
    "        ax.xaxis.set_ticklabels([])\n",
    "        \n",
    "ax5.set_xlabel('time [s]')\n",
    "\n",
    "mpc_graphics.add_line(var_type='_aux', var_name='E_kin', axis=ax2)\n",
    "mpc_graphics.add_line(var_type='_aux', var_name='E_pot', axis=ax3)\n",
    "mpc_graphics.add_line(var_type='_x', var_name='theta', axis=ax4)\n",
    "mpc_graphics.add_line(var_type='_u', var_name='force', axis=ax5)\n",
    "\n",
    "ax1.axhline(0,color='black')\n",
    "\n",
    "bar1 = ax1.plot([],[], '-o', linewidth=5, markersize=10)\n",
    "bar2 = ax1.plot([],[], '-o', linewidth=5, markersize=10)\n",
    "\n",
    "ax1.set_xlim(-1.8,1.8)\n",
    "ax1.set_ylim(-1.2,1.2)\n",
    "ax1.set_axis_off()\n",
    "\n",
    "fig.align_ylabels()\n",
    "fig.tight_layout()"
   ]
  },
  {
   "cell_type": "markdown",
   "metadata": {},
   "source": [
    "### Run open-loop\n",
    "\n",
    "Before we test the closed loop case, lets plot one open-loop prediction to check how the resulting graphic looks like."
   ]
  },
  {
   "cell_type": "code",
   "execution_count": null,
   "metadata": {
    "trusted": false
   },
   "outputs": [],
   "source": [
    "u0 = mpc.make_step(x0)"
   ]
  },
  {
   "cell_type": "markdown",
   "metadata": {},
   "source": [
    "The first optimization will take rather long (4 seconds) but in the end we get:\n",
    "\n",
    "```\n",
    "EXIT: Optimal Solution Found.\n",
    "```\n",
    "\n",
    "which tells us that we found an optimal solution. Note that follow-up optimizations take around 100 ms due to warmstarting.\n",
    "\n",
    "We can visualize the open-loop prediction with:"
   ]
  },
  {
   "cell_type": "code",
   "execution_count": null,
   "metadata": {
    "trusted": false
   },
   "outputs": [],
   "source": [
    "bar1[0].set_data(line1[0],line1[1])\n",
    "bar2[0].set_data(line2[0],line2[1])\n",
    "mpc_graphics.plot_predictions()\n",
    "mpc_graphics.reset_axes()\n",
    "\n",
    "fig"
   ]
  },
  {
   "cell_type": "markdown",
   "metadata": {},
   "source": [
    "The open-loop prediction looks perfectly fine! We see that within the horizon the potential energy settles on a plateau greater than zero, while the kinetic energy becomes zero. This indicates our desired up-up position. Both angles seem to reach $2\\pi$."
   ]
  },
  {
   "cell_type": "markdown",
   "metadata": {},
   "source": [
    "### Run closed-loop\n",
    "\n",
    "The closed-loop system is now simulated for 100 steps (and the ouput of the optimizer is suppressed):"
   ]
  },
  {
   "cell_type": "code",
   "execution_count": null,
   "metadata": {
    "trusted": false
   },
   "outputs": [],
   "source": [
    "%%capture\n",
    "# Quickly reset the history of the MPC data object.\n",
    "mpc.reset_history()\n",
    "\n",
    "n_steps = 100\n",
    "for k in range(n_steps):\n",
    "    u0 = mpc.make_step(x0)\n",
    "    y_next = simulator.make_step(u0)\n",
    "    x0 = estimator.make_step(y_next)"
   ]
  },
  {
   "cell_type": "markdown",
   "metadata": {},
   "source": [
    "### Results"
   ]
  },
  {
   "cell_type": "markdown",
   "metadata": {},
   "source": [
    "The next cell converts the results of the closed-loop MPC simulation into a gif (might take a few minutes):"
   ]
  },
  {
   "cell_type": "code",
   "execution_count": null,
   "metadata": {
    "trusted": false
   },
   "outputs": [],
   "source": [
    "from matplotlib.animation import FuncAnimation, FFMpegWriter, ImageMagickWriter\n",
    "\n",
    "# The function describing the gif:\n",
    "x_arr = mpc.data['_x']\n",
    "def update(t_ind):\n",
    "    line1, line2 = pendulum_bars(x_arr[t_ind])\n",
    "    bar1[0].set_data(line1[0],line1[1])\n",
    "    bar2[0].set_data(line2[0],line2[1])\n",
    "    mpc_graphics.plot_results(t_ind)\n",
    "    mpc_graphics.plot_predictions(t_ind)\n",
    "    mpc_graphics.reset_axes()\n",
    "    \n",
    "\n",
    "anim = FuncAnimation(fig, update, frames=n_steps, repeat=False)\n",
    "gif_writer = ImageMagickWriter(fps=20)\n",
    "anim.save('anim_dip.gif', writer=gif_writer)"
   ]
  },
  {
   "cell_type": "code",
   "execution_count": null,
   "metadata": {},
   "outputs": [
    {
     "data": {
      "text/latex": [
       "$\\displaystyle l_{1} \\left(- 1.5 g m_{p2} \\sin{\\left(\\theta_{1}{\\left(t \\right)} \\right)} + 0.333333333333333 l_{1} m_{p1} \\frac{d^{2}}{d t^{2}} \\theta_{1}{\\left(t \\right)} + 1.0 l_{1} m_{p2} \\frac{d^{2}}{d t^{2}} \\theta_{1}{\\left(t \\right)} + 0.5 l_{2} m_{p2} \\sin{\\left(\\theta_{1}{\\left(t \\right)} - \\theta_{2}{\\left(t \\right)} \\right)} \\left(\\frac{d}{d t} \\theta_{2}{\\left(t \\right)}\\right)^{2} + 0.5 l_{2} m_{p2} \\cos{\\left(\\theta_{1}{\\left(t \\right)} - \\theta_{2}{\\left(t \\right)} \\right)} \\frac{d^{2}}{d t^{2}} \\theta_{2}{\\left(t \\right)} + 0.5 m_{p1} \\cos{\\left(\\theta_{1}{\\left(t \\right)} \\right)} \\frac{d^{2}}{d t^{2}} x{\\left(t \\right)} + 1.0 m_{p2} \\cos{\\left(\\theta_{1}{\\left(t \\right)} \\right)} \\frac{d^{2}}{d t^{2}} x{\\left(t \\right)}\\right)$"
      ],
      "text/plain": [
       "l1*(-1.5*g*m_p2*sin(theta1(t)) + 0.333333333333333*l1*m_p1*Derivative(theta1(t), (t, 2)) + 1.0*l1*m_p2*Derivative(theta1(t), (t, 2)) + 0.5*l2*m_p2*sin(theta1(t) - theta2(t))*Derivative(theta2(t), t)**2 + 0.5*l2*m_p2*cos(theta1(t) - theta2(t))*Derivative(theta2(t), (t, 2)) + 0.5*m_p1*cos(theta1(t))*Derivative(x(t), (t, 2)) + 1.0*m_p2*cos(theta1(t))*Derivative(x(t), (t, 2)))"
      ]
     },
     "execution_count": 13,
     "metadata": {},
     "output_type": "execute_result"
    }
   ],
   "source": [
    "import sympy as sp\n",
    "\n",
    "# Define symbols and functions\n",
    "t = sp.symbols('t')\n",
    "x = sp.Function('x')(t)\n",
    "theta1 = sp.Function('theta1')(t)\n",
    "theta2 = sp.Function('theta2')(t)\n",
    "l1, l2, mcart, mp1, mp2, g = sp.symbols('l1 l2 m_cart m_p1 m_p2 g')\n",
    "\n",
    "I_1 = 1/12 * mp1 * l1**2\n",
    "I_2 = 1/12 * mp2 * l2**2\n",
    "\n",
    "# Define kinetic energy terms, etc.\n",
    "# (fill in your expressions for T and V)\n",
    "# For example, for a simple pendulum:\n",
    "Tcart = 1/2 * mcart * sp.diff(x, t)**2\n",
    "T1 = 1/2 * mp1 * ((sp.diff(x, t) + l1/2 * sp.diff(theta1, t) * sp.cos(theta1))**2 + (l1/2 * sp.diff(theta1, t) * sp.sin(theta1))**2) + 1/2 * I_1 * sp.diff(theta1, t)**2\n",
    "T2 = 1/2 * mp2 * ((sp.diff(x, t) + l1 * sp.diff(theta1, t) * sp.cos(theta1) + l2/2 * sp.diff(theta2, t) * sp.cos(theta2))**2 + (l1 * sp.diff(theta1, t) * sp.sin(theta1) + l2/2 * sp.diff(theta2, t) * sp.sin(theta2))**2) + 1/2 * I_2 * sp.diff(theta2, t)**2\n",
    "T = Tcart + T1 + T2\n",
    "\n",
    "V1 = 1/2 * mp2 * g * l1 * sp.cos(theta1)\n",
    "V2 = mp2*g * (l1 * sp.cos(theta1) + l2/2 * sp.cos(theta2))\n",
    "V = V1 + V2\n",
    "\n",
    "Lagrangian = T - V\n",
    "\n",
    "# # Compute Euler-Lagrange equations for theta1:\n",
    "EL_eq = sp.diff(sp.diff(Lagrangian, sp.diff(theta1, t)), t) - sp.diff(Lagrangian, theta1)\n",
    "sp.simplify(EL_eq)\n"
   ]
  },
  {
   "cell_type": "code",
   "execution_count": null,
   "metadata": {},
   "outputs": [],
   "source": []
  }
 ],
 "metadata": {
  "kernelspec": {
   "display_name": "Python 3",
   "language": "python",
   "name": "python3"
  },
  "language_info": {
   "codemirror_mode": {
    "name": "ipython",
    "version": 3
   },
   "file_extension": ".py",
   "mimetype": "text/x-python",
   "name": "python",
   "nbconvert_exporter": "python",
   "pygments_lexer": "ipython3",
   "version": "3.10.12"
  },
  "toc": {
   "base_numbering": 1,
   "nav_menu": {},
   "number_sections": true,
   "sideBar": true,
   "skip_h1_title": false,
   "title_cell": "Table of Contents",
   "title_sidebar": "Contents",
   "toc_cell": false,
   "toc_position": {},
   "toc_section_display": true,
   "toc_window_display": false
  }
 },
 "nbformat": 4,
 "nbformat_minor": 4
}
